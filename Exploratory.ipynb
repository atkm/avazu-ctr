{
 "cells": [
  {
   "cell_type": "markdown",
   "metadata": {},
   "source": [
    "TODO: \n",
    "- Use pyspark. Does it come with feature selection modules?\n",
    "    The tree model implements feature importance.\n",
    "    The logistic regression model can use L1 regularization.\n",
    "    Doesn't do recursive elimination.\n",
    "    Does chi-squared test.\n",
    "\n",
    "- Metrics.\n",
    "    + Use log-loss to evaluate.\n",
    "    + precision, recall, F2\n",
    "    + accuracy (ratio of correct)\n",
    "- Models.\n",
    "    Logistic regression, svm, decision tree, knn, naive bayes.\n",
    "    All except logistic regression produces binary outputs.\n",
    "- Target = 'click'. Not present in the test data set."
   ]
  },
  {
   "cell_type": "code",
   "execution_count": 1,
   "metadata": {},
   "outputs": [],
   "source": [
    "import gzip\n",
    "import pandas as pd\n",
    "import numpy as np\n",
    "import matplotlib\n",
    "import matplotlib.pyplot as plt\n",
    "\n",
    "from sklearn.model_selection import train_test_split\n",
    "from sklearn.metrics import log_loss\n",
    "from sklearn.linear_model import LogisticRegression, LogisticRegressionCV"
   ]
  },
  {
   "cell_type": "code",
   "execution_count": 2,
   "metadata": {
    "scrolled": false
   },
   "outputs": [
    {
     "data": {
      "text/html": [
       "<div>\n",
       "<style scoped>\n",
       "    .dataframe tbody tr th:only-of-type {\n",
       "        vertical-align: middle;\n",
       "    }\n",
       "\n",
       "    .dataframe tbody tr th {\n",
       "        vertical-align: top;\n",
       "    }\n",
       "\n",
       "    .dataframe thead th {\n",
       "        text-align: right;\n",
       "    }\n",
       "</style>\n",
       "<table border=\"1\" class=\"dataframe\">\n",
       "  <thead>\n",
       "    <tr style=\"text-align: right;\">\n",
       "      <th></th>\n",
       "      <th>id</th>\n",
       "      <th>click</th>\n",
       "      <th>hour</th>\n",
       "      <th>C1</th>\n",
       "      <th>banner_pos</th>\n",
       "      <th>site_id</th>\n",
       "      <th>site_domain</th>\n",
       "      <th>site_category</th>\n",
       "      <th>app_id</th>\n",
       "      <th>app_domain</th>\n",
       "      <th>...</th>\n",
       "      <th>device_type</th>\n",
       "      <th>device_conn_type</th>\n",
       "      <th>C14</th>\n",
       "      <th>C15</th>\n",
       "      <th>C16</th>\n",
       "      <th>C17</th>\n",
       "      <th>C18</th>\n",
       "      <th>C19</th>\n",
       "      <th>C20</th>\n",
       "      <th>C21</th>\n",
       "    </tr>\n",
       "  </thead>\n",
       "  <tbody>\n",
       "    <tr>\n",
       "      <th>0</th>\n",
       "      <td>11761126300016035614</td>\n",
       "      <td>0</td>\n",
       "      <td>2014-10-26 06:00:00</td>\n",
       "      <td>1002</td>\n",
       "      <td>0</td>\n",
       "      <td>6b175d24</td>\n",
       "      <td>a1b0ebd0</td>\n",
       "      <td>50e219e0</td>\n",
       "      <td>ecad2386</td>\n",
       "      <td>7801e8d9</td>\n",
       "      <td>...</td>\n",
       "      <td>0</td>\n",
       "      <td>0</td>\n",
       "      <td>15703</td>\n",
       "      <td>320</td>\n",
       "      <td>50</td>\n",
       "      <td>1722</td>\n",
       "      <td>0</td>\n",
       "      <td>35</td>\n",
       "      <td>-1</td>\n",
       "      <td>79</td>\n",
       "    </tr>\n",
       "    <tr>\n",
       "      <th>1</th>\n",
       "      <td>9454951464027616243</td>\n",
       "      <td>0</td>\n",
       "      <td>2014-10-26 06:00:00</td>\n",
       "      <td>1005</td>\n",
       "      <td>0</td>\n",
       "      <td>1fbe01fe</td>\n",
       "      <td>f3845767</td>\n",
       "      <td>28905ebd</td>\n",
       "      <td>ecad2386</td>\n",
       "      <td>7801e8d9</td>\n",
       "      <td>...</td>\n",
       "      <td>1</td>\n",
       "      <td>0</td>\n",
       "      <td>15701</td>\n",
       "      <td>320</td>\n",
       "      <td>50</td>\n",
       "      <td>1722</td>\n",
       "      <td>0</td>\n",
       "      <td>35</td>\n",
       "      <td>-1</td>\n",
       "      <td>79</td>\n",
       "    </tr>\n",
       "    <tr>\n",
       "      <th>2</th>\n",
       "      <td>7597529435648422906</td>\n",
       "      <td>0</td>\n",
       "      <td>2014-10-24 07:00:00</td>\n",
       "      <td>1005</td>\n",
       "      <td>0</td>\n",
       "      <td>85f751fd</td>\n",
       "      <td>c4e18dd6</td>\n",
       "      <td>50e219e0</td>\n",
       "      <td>92f5800b</td>\n",
       "      <td>ae637522</td>\n",
       "      <td>...</td>\n",
       "      <td>1</td>\n",
       "      <td>2</td>\n",
       "      <td>21191</td>\n",
       "      <td>320</td>\n",
       "      <td>50</td>\n",
       "      <td>2424</td>\n",
       "      <td>1</td>\n",
       "      <td>161</td>\n",
       "      <td>100193</td>\n",
       "      <td>71</td>\n",
       "    </tr>\n",
       "    <tr>\n",
       "      <th>3</th>\n",
       "      <td>17674252474717503445</td>\n",
       "      <td>0</td>\n",
       "      <td>2014-10-26 16:00:00</td>\n",
       "      <td>1005</td>\n",
       "      <td>0</td>\n",
       "      <td>2b1ddb24</td>\n",
       "      <td>98acf46c</td>\n",
       "      <td>3e814130</td>\n",
       "      <td>ecad2386</td>\n",
       "      <td>7801e8d9</td>\n",
       "      <td>...</td>\n",
       "      <td>1</td>\n",
       "      <td>0</td>\n",
       "      <td>17239</td>\n",
       "      <td>320</td>\n",
       "      <td>50</td>\n",
       "      <td>1973</td>\n",
       "      <td>3</td>\n",
       "      <td>39</td>\n",
       "      <td>100148</td>\n",
       "      <td>23</td>\n",
       "    </tr>\n",
       "    <tr>\n",
       "      <th>4</th>\n",
       "      <td>14668325104229564251</td>\n",
       "      <td>0</td>\n",
       "      <td>2014-10-25 04:00:00</td>\n",
       "      <td>1005</td>\n",
       "      <td>0</td>\n",
       "      <td>1fbe01fe</td>\n",
       "      <td>f3845767</td>\n",
       "      <td>28905ebd</td>\n",
       "      <td>ecad2386</td>\n",
       "      <td>7801e8d9</td>\n",
       "      <td>...</td>\n",
       "      <td>1</td>\n",
       "      <td>0</td>\n",
       "      <td>15705</td>\n",
       "      <td>320</td>\n",
       "      <td>50</td>\n",
       "      <td>1722</td>\n",
       "      <td>0</td>\n",
       "      <td>35</td>\n",
       "      <td>100083</td>\n",
       "      <td>79</td>\n",
       "    </tr>\n",
       "  </tbody>\n",
       "</table>\n",
       "<p>5 rows × 24 columns</p>\n",
       "</div>"
      ],
      "text/plain": [
       "                     id  click                hour    C1  banner_pos  \\\n",
       "0  11761126300016035614      0 2014-10-26 06:00:00  1002           0   \n",
       "1   9454951464027616243      0 2014-10-26 06:00:00  1005           0   \n",
       "2   7597529435648422906      0 2014-10-24 07:00:00  1005           0   \n",
       "3  17674252474717503445      0 2014-10-26 16:00:00  1005           0   \n",
       "4  14668325104229564251      0 2014-10-25 04:00:00  1005           0   \n",
       "\n",
       "    site_id site_domain site_category    app_id app_domain ...  device_type  \\\n",
       "0  6b175d24    a1b0ebd0      50e219e0  ecad2386   7801e8d9 ...            0   \n",
       "1  1fbe01fe    f3845767      28905ebd  ecad2386   7801e8d9 ...            1   \n",
       "2  85f751fd    c4e18dd6      50e219e0  92f5800b   ae637522 ...            1   \n",
       "3  2b1ddb24    98acf46c      3e814130  ecad2386   7801e8d9 ...            1   \n",
       "4  1fbe01fe    f3845767      28905ebd  ecad2386   7801e8d9 ...            1   \n",
       "\n",
       "  device_conn_type    C14  C15  C16   C17  C18  C19     C20  C21  \n",
       "0                0  15703  320   50  1722    0   35      -1   79  \n",
       "1                0  15701  320   50  1722    0   35      -1   79  \n",
       "2                2  21191  320   50  2424    1  161  100193   71  \n",
       "3                0  17239  320   50  1973    3   39  100148   23  \n",
       "4                0  15705  320   50  1722    0   35  100083   79  \n",
       "\n",
       "[5 rows x 24 columns]"
      ]
     },
     "execution_count": 2,
     "metadata": {},
     "output_type": "execute_result"
    }
   ],
   "source": [
    "df = pd.read_csv('data/train_small.csv')\n",
    "df.hour = pd.to_datetime(df.hour, format=\"%y%m%d%H\")\n",
    "df.head()"
   ]
  },
  {
   "cell_type": "code",
   "execution_count": 126,
   "metadata": {},
   "outputs": [
    {
     "data": {
      "text/plain": [
       "[21, 22, 23, 24, 25, 26, 27, 28, 29, 30]"
      ]
     },
     "execution_count": 126,
     "metadata": {},
     "output_type": "execute_result"
    }
   ],
   "source": [
    "sorted(df.hour.dt.day.unique())"
   ]
  },
  {
   "cell_type": "code",
   "execution_count": 5,
   "metadata": {},
   "outputs": [
    {
     "data": {
      "text/html": [
       "<div>\n",
       "<style scoped>\n",
       "    .dataframe tbody tr th:only-of-type {\n",
       "        vertical-align: middle;\n",
       "    }\n",
       "\n",
       "    .dataframe tbody tr th {\n",
       "        vertical-align: top;\n",
       "    }\n",
       "\n",
       "    .dataframe thead th {\n",
       "        text-align: right;\n",
       "    }\n",
       "</style>\n",
       "<table border=\"1\" class=\"dataframe\">\n",
       "  <thead>\n",
       "    <tr style=\"text-align: right;\">\n",
       "      <th></th>\n",
       "      <th>C1</th>\n",
       "      <th>C14</th>\n",
       "      <th>C15</th>\n",
       "      <th>C16</th>\n",
       "      <th>C17</th>\n",
       "      <th>C18</th>\n",
       "      <th>C19</th>\n",
       "      <th>C20</th>\n",
       "      <th>C21</th>\n",
       "    </tr>\n",
       "  </thead>\n",
       "  <tbody>\n",
       "    <tr>\n",
       "      <th>0</th>\n",
       "      <td>1002</td>\n",
       "      <td>15703</td>\n",
       "      <td>320</td>\n",
       "      <td>50</td>\n",
       "      <td>1722</td>\n",
       "      <td>0</td>\n",
       "      <td>35</td>\n",
       "      <td>-1</td>\n",
       "      <td>79</td>\n",
       "    </tr>\n",
       "    <tr>\n",
       "      <th>1</th>\n",
       "      <td>1005</td>\n",
       "      <td>15701</td>\n",
       "      <td>320</td>\n",
       "      <td>50</td>\n",
       "      <td>1722</td>\n",
       "      <td>0</td>\n",
       "      <td>35</td>\n",
       "      <td>-1</td>\n",
       "      <td>79</td>\n",
       "    </tr>\n",
       "    <tr>\n",
       "      <th>2</th>\n",
       "      <td>1005</td>\n",
       "      <td>21191</td>\n",
       "      <td>320</td>\n",
       "      <td>50</td>\n",
       "      <td>2424</td>\n",
       "      <td>1</td>\n",
       "      <td>161</td>\n",
       "      <td>100193</td>\n",
       "      <td>71</td>\n",
       "    </tr>\n",
       "    <tr>\n",
       "      <th>3</th>\n",
       "      <td>1005</td>\n",
       "      <td>17239</td>\n",
       "      <td>320</td>\n",
       "      <td>50</td>\n",
       "      <td>1973</td>\n",
       "      <td>3</td>\n",
       "      <td>39</td>\n",
       "      <td>100148</td>\n",
       "      <td>23</td>\n",
       "    </tr>\n",
       "    <tr>\n",
       "      <th>4</th>\n",
       "      <td>1005</td>\n",
       "      <td>15705</td>\n",
       "      <td>320</td>\n",
       "      <td>50</td>\n",
       "      <td>1722</td>\n",
       "      <td>0</td>\n",
       "      <td>35</td>\n",
       "      <td>100083</td>\n",
       "      <td>79</td>\n",
       "    </tr>\n",
       "  </tbody>\n",
       "</table>\n",
       "</div>"
      ],
      "text/plain": [
       "     C1    C14  C15  C16   C17  C18  C19     C20  C21\n",
       "0  1002  15703  320   50  1722    0   35      -1   79\n",
       "1  1005  15701  320   50  1722    0   35      -1   79\n",
       "2  1005  21191  320   50  2424    1  161  100193   71\n",
       "3  1005  17239  320   50  1973    3   39  100148   23\n",
       "4  1005  15705  320   50  1722    0   35  100083   79"
      ]
     },
     "execution_count": 5,
     "metadata": {},
     "output_type": "execute_result"
    }
   ],
   "source": [
    "# anonymized columns are already indexed.\n",
    "anonymized = ['C1'] + ['C' + str(k) for k in range(14,22)]\n",
    "df[anonymized].head()"
   ]
  },
  {
   "cell_type": "code",
   "execution_count": 8,
   "metadata": {
    "scrolled": true
   },
   "outputs": [
    {
     "data": {
      "text/html": [
       "<div>\n",
       "<style scoped>\n",
       "    .dataframe tbody tr th:only-of-type {\n",
       "        vertical-align: middle;\n",
       "    }\n",
       "\n",
       "    .dataframe tbody tr th {\n",
       "        vertical-align: top;\n",
       "    }\n",
       "\n",
       "    .dataframe thead th {\n",
       "        text-align: right;\n",
       "    }\n",
       "</style>\n",
       "<table border=\"1\" class=\"dataframe\">\n",
       "  <thead>\n",
       "    <tr style=\"text-align: right;\">\n",
       "      <th></th>\n",
       "      <th>site_id</th>\n",
       "      <th>site_domain</th>\n",
       "      <th>site_category</th>\n",
       "      <th>app_id</th>\n",
       "      <th>app_domain</th>\n",
       "      <th>app_category</th>\n",
       "      <th>device_id</th>\n",
       "      <th>device_ip</th>\n",
       "      <th>device_model</th>\n",
       "    </tr>\n",
       "  </thead>\n",
       "  <tbody>\n",
       "    <tr>\n",
       "      <th>0</th>\n",
       "      <td>6b175d24</td>\n",
       "      <td>a1b0ebd0</td>\n",
       "      <td>50e219e0</td>\n",
       "      <td>ecad2386</td>\n",
       "      <td>7801e8d9</td>\n",
       "      <td>07d7df22</td>\n",
       "      <td>54eeaef3</td>\n",
       "      <td>0d34e1f4</td>\n",
       "      <td>52c5cc40</td>\n",
       "    </tr>\n",
       "    <tr>\n",
       "      <th>1</th>\n",
       "      <td>1fbe01fe</td>\n",
       "      <td>f3845767</td>\n",
       "      <td>28905ebd</td>\n",
       "      <td>ecad2386</td>\n",
       "      <td>7801e8d9</td>\n",
       "      <td>07d7df22</td>\n",
       "      <td>a99f214a</td>\n",
       "      <td>fc61627b</td>\n",
       "      <td>711ee120</td>\n",
       "    </tr>\n",
       "    <tr>\n",
       "      <th>2</th>\n",
       "      <td>85f751fd</td>\n",
       "      <td>c4e18dd6</td>\n",
       "      <td>50e219e0</td>\n",
       "      <td>92f5800b</td>\n",
       "      <td>ae637522</td>\n",
       "      <td>0f2161f8</td>\n",
       "      <td>a99f214a</td>\n",
       "      <td>68b6ba25</td>\n",
       "      <td>981edffc</td>\n",
       "    </tr>\n",
       "    <tr>\n",
       "      <th>3</th>\n",
       "      <td>2b1ddb24</td>\n",
       "      <td>98acf46c</td>\n",
       "      <td>3e814130</td>\n",
       "      <td>ecad2386</td>\n",
       "      <td>7801e8d9</td>\n",
       "      <td>07d7df22</td>\n",
       "      <td>a99f214a</td>\n",
       "      <td>75092a71</td>\n",
       "      <td>ecb851b2</td>\n",
       "    </tr>\n",
       "    <tr>\n",
       "      <th>4</th>\n",
       "      <td>1fbe01fe</td>\n",
       "      <td>f3845767</td>\n",
       "      <td>28905ebd</td>\n",
       "      <td>ecad2386</td>\n",
       "      <td>7801e8d9</td>\n",
       "      <td>07d7df22</td>\n",
       "      <td>a99f214a</td>\n",
       "      <td>5bb6c0b5</td>\n",
       "      <td>8a4875bd</td>\n",
       "    </tr>\n",
       "  </tbody>\n",
       "</table>\n",
       "</div>"
      ],
      "text/plain": [
       "    site_id site_domain site_category    app_id app_domain app_category  \\\n",
       "0  6b175d24    a1b0ebd0      50e219e0  ecad2386   7801e8d9     07d7df22   \n",
       "1  1fbe01fe    f3845767      28905ebd  ecad2386   7801e8d9     07d7df22   \n",
       "2  85f751fd    c4e18dd6      50e219e0  92f5800b   ae637522     0f2161f8   \n",
       "3  2b1ddb24    98acf46c      3e814130  ecad2386   7801e8d9     07d7df22   \n",
       "4  1fbe01fe    f3845767      28905ebd  ecad2386   7801e8d9     07d7df22   \n",
       "\n",
       "  device_id device_ip device_model  \n",
       "0  54eeaef3  0d34e1f4     52c5cc40  \n",
       "1  a99f214a  fc61627b     711ee120  \n",
       "2  a99f214a  68b6ba25     981edffc  \n",
       "3  a99f214a  75092a71     ecb851b2  \n",
       "4  a99f214a  5bb6c0b5     8a4875bd  "
      ]
     },
     "execution_count": 8,
     "metadata": {},
     "output_type": "execute_result"
    }
   ],
   "source": [
    "# these columns need indexing\n",
    "str_cols = ['site_id','site_domain','site_category','app_id','app_domain','app_category','device_id','device_ip','device_model']\n",
    "df[str_cols].head()"
   ]
  },
  {
   "cell_type": "code",
   "execution_count": 9,
   "metadata": {
    "scrolled": true
   },
   "outputs": [
    {
     "data": {
      "text/html": [
       "<div>\n",
       "<style scoped>\n",
       "    .dataframe tbody tr th:only-of-type {\n",
       "        vertical-align: middle;\n",
       "    }\n",
       "\n",
       "    .dataframe tbody tr th {\n",
       "        vertical-align: top;\n",
       "    }\n",
       "\n",
       "    .dataframe thead th {\n",
       "        text-align: right;\n",
       "    }\n",
       "</style>\n",
       "<table border=\"1\" class=\"dataframe\">\n",
       "  <thead>\n",
       "    <tr style=\"text-align: right;\">\n",
       "      <th></th>\n",
       "      <th>id</th>\n",
       "      <th>click</th>\n",
       "      <th>hour</th>\n",
       "      <th>banner_pos</th>\n",
       "      <th>device_type</th>\n",
       "      <th>device_conn_type</th>\n",
       "    </tr>\n",
       "  </thead>\n",
       "  <tbody>\n",
       "    <tr>\n",
       "      <th>0</th>\n",
       "      <td>11761126300016035614</td>\n",
       "      <td>0</td>\n",
       "      <td>14102606</td>\n",
       "      <td>0</td>\n",
       "      <td>0</td>\n",
       "      <td>0</td>\n",
       "    </tr>\n",
       "    <tr>\n",
       "      <th>1</th>\n",
       "      <td>9454951464027616243</td>\n",
       "      <td>0</td>\n",
       "      <td>14102606</td>\n",
       "      <td>0</td>\n",
       "      <td>1</td>\n",
       "      <td>0</td>\n",
       "    </tr>\n",
       "    <tr>\n",
       "      <th>2</th>\n",
       "      <td>7597529435648422906</td>\n",
       "      <td>0</td>\n",
       "      <td>14102407</td>\n",
       "      <td>0</td>\n",
       "      <td>1</td>\n",
       "      <td>2</td>\n",
       "    </tr>\n",
       "    <tr>\n",
       "      <th>3</th>\n",
       "      <td>17674252474717503445</td>\n",
       "      <td>0</td>\n",
       "      <td>14102616</td>\n",
       "      <td>0</td>\n",
       "      <td>1</td>\n",
       "      <td>0</td>\n",
       "    </tr>\n",
       "    <tr>\n",
       "      <th>4</th>\n",
       "      <td>14668325104229564251</td>\n",
       "      <td>0</td>\n",
       "      <td>14102504</td>\n",
       "      <td>0</td>\n",
       "      <td>1</td>\n",
       "      <td>0</td>\n",
       "    </tr>\n",
       "  </tbody>\n",
       "</table>\n",
       "</div>"
      ],
      "text/plain": [
       "                     id  click      hour  banner_pos  device_type  \\\n",
       "0  11761126300016035614      0  14102606           0            0   \n",
       "1   9454951464027616243      0  14102606           0            1   \n",
       "2   7597529435648422906      0  14102407           0            1   \n",
       "3  17674252474717503445      0  14102616           0            1   \n",
       "4  14668325104229564251      0  14102504           0            1   \n",
       "\n",
       "   device_conn_type  \n",
       "0                 0  \n",
       "1                 0  \n",
       "2                 2  \n",
       "3                 0  \n",
       "4                 0  "
      ]
     },
     "execution_count": 9,
     "metadata": {},
     "output_type": "execute_result"
    }
   ],
   "source": [
    "# the rest\n",
    "df.drop(anonymized, axis=1).drop(str_cols, axis=1).head()"
   ]
  },
  {
   "cell_type": "code",
   "execution_count": 9,
   "metadata": {},
   "outputs": [
    {
     "data": {
      "text/plain": [
       "(1000000, 24)"
      ]
     },
     "execution_count": 9,
     "metadata": {},
     "output_type": "execute_result"
    }
   ],
   "source": [
    "df.shape"
   ]
  },
  {
   "cell_type": "code",
   "execution_count": 16,
   "metadata": {
    "scrolled": false
   },
   "outputs": [
    {
     "data": {
      "text/html": [
       "<div>\n",
       "<style scoped>\n",
       "    .dataframe tbody tr th:only-of-type {\n",
       "        vertical-align: middle;\n",
       "    }\n",
       "\n",
       "    .dataframe tbody tr th {\n",
       "        vertical-align: top;\n",
       "    }\n",
       "\n",
       "    .dataframe thead th {\n",
       "        text-align: right;\n",
       "    }\n",
       "</style>\n",
       "<table border=\"1\" class=\"dataframe\">\n",
       "  <thead>\n",
       "    <tr style=\"text-align: right;\">\n",
       "      <th></th>\n",
       "      <th>id</th>\n",
       "      <th>click</th>\n",
       "      <th>hour</th>\n",
       "      <th>C1</th>\n",
       "      <th>banner_pos</th>\n",
       "      <th>device_type</th>\n",
       "      <th>device_conn_type</th>\n",
       "      <th>C14</th>\n",
       "      <th>C15</th>\n",
       "      <th>C16</th>\n",
       "      <th>C17</th>\n",
       "      <th>C18</th>\n",
       "      <th>C19</th>\n",
       "      <th>C20</th>\n",
       "      <th>C21</th>\n",
       "    </tr>\n",
       "  </thead>\n",
       "  <tbody>\n",
       "    <tr>\n",
       "      <th>count</th>\n",
       "      <td>1.000000e+06</td>\n",
       "      <td>1000000.000000</td>\n",
       "      <td>1.000000e+06</td>\n",
       "      <td>1000000.000000</td>\n",
       "      <td>1000000.000000</td>\n",
       "      <td>1000000.000000</td>\n",
       "      <td>1000000.000000</td>\n",
       "      <td>1000000.000000</td>\n",
       "      <td>1000000.000000</td>\n",
       "      <td>1000000.000000</td>\n",
       "      <td>1000000.000000</td>\n",
       "      <td>1000000.000000</td>\n",
       "      <td>1000000.000000</td>\n",
       "      <td>1000000.000000</td>\n",
       "      <td>1000000.000000</td>\n",
       "    </tr>\n",
       "    <tr>\n",
       "      <th>mean</th>\n",
       "      <td>9.220259e+18</td>\n",
       "      <td>0.169773</td>\n",
       "      <td>1.410256e+07</td>\n",
       "      <td>1004.965138</td>\n",
       "      <td>0.287825</td>\n",
       "      <td>1.013995</td>\n",
       "      <td>0.331069</td>\n",
       "      <td>18838.292437</td>\n",
       "      <td>318.886996</td>\n",
       "      <td>59.991822</td>\n",
       "      <td>2112.033682</td>\n",
       "      <td>1.434757</td>\n",
       "      <td>227.270994</td>\n",
       "      <td>53287.068019</td>\n",
       "      <td>83.317616</td>\n",
       "    </tr>\n",
       "    <tr>\n",
       "      <th>std</th>\n",
       "      <td>5.324295e+18</td>\n",
       "      <td>0.375433</td>\n",
       "      <td>2.967422e+02</td>\n",
       "      <td>1.092803</td>\n",
       "      <td>0.504222</td>\n",
       "      <td>0.524993</td>\n",
       "      <td>0.854595</td>\n",
       "      <td>4967.153340</td>\n",
       "      <td>21.257371</td>\n",
       "      <td>46.927257</td>\n",
       "      <td>610.375812</td>\n",
       "      <td>1.326402</td>\n",
       "      <td>351.148578</td>\n",
       "      <td>49952.338638</td>\n",
       "      <td>70.310016</td>\n",
       "    </tr>\n",
       "    <tr>\n",
       "      <th>min</th>\n",
       "      <td>1.338641e+13</td>\n",
       "      <td>0.000000</td>\n",
       "      <td>1.410210e+07</td>\n",
       "      <td>1001.000000</td>\n",
       "      <td>0.000000</td>\n",
       "      <td>0.000000</td>\n",
       "      <td>0.000000</td>\n",
       "      <td>375.000000</td>\n",
       "      <td>120.000000</td>\n",
       "      <td>20.000000</td>\n",
       "      <td>112.000000</td>\n",
       "      <td>0.000000</td>\n",
       "      <td>33.000000</td>\n",
       "      <td>-1.000000</td>\n",
       "      <td>1.000000</td>\n",
       "    </tr>\n",
       "    <tr>\n",
       "      <th>25%</th>\n",
       "      <td>4.618979e+18</td>\n",
       "      <td>0.000000</td>\n",
       "      <td>1.410230e+07</td>\n",
       "      <td>1005.000000</td>\n",
       "      <td>0.000000</td>\n",
       "      <td>1.000000</td>\n",
       "      <td>0.000000</td>\n",
       "      <td>16920.000000</td>\n",
       "      <td>320.000000</td>\n",
       "      <td>50.000000</td>\n",
       "      <td>1863.000000</td>\n",
       "      <td>0.000000</td>\n",
       "      <td>35.000000</td>\n",
       "      <td>-1.000000</td>\n",
       "      <td>23.000000</td>\n",
       "    </tr>\n",
       "    <tr>\n",
       "      <th>50%</th>\n",
       "      <td>9.206212e+18</td>\n",
       "      <td>0.000000</td>\n",
       "      <td>1.410260e+07</td>\n",
       "      <td>1005.000000</td>\n",
       "      <td>0.000000</td>\n",
       "      <td>1.000000</td>\n",
       "      <td>0.000000</td>\n",
       "      <td>20346.000000</td>\n",
       "      <td>320.000000</td>\n",
       "      <td>50.000000</td>\n",
       "      <td>2323.000000</td>\n",
       "      <td>2.000000</td>\n",
       "      <td>39.000000</td>\n",
       "      <td>100050.000000</td>\n",
       "      <td>61.000000</td>\n",
       "    </tr>\n",
       "    <tr>\n",
       "      <th>75%</th>\n",
       "      <td>1.383418e+19</td>\n",
       "      <td>0.000000</td>\n",
       "      <td>1.410281e+07</td>\n",
       "      <td>1005.000000</td>\n",
       "      <td>1.000000</td>\n",
       "      <td>1.000000</td>\n",
       "      <td>0.000000</td>\n",
       "      <td>21894.000000</td>\n",
       "      <td>320.000000</td>\n",
       "      <td>50.000000</td>\n",
       "      <td>2526.000000</td>\n",
       "      <td>3.000000</td>\n",
       "      <td>171.000000</td>\n",
       "      <td>100094.000000</td>\n",
       "      <td>101.000000</td>\n",
       "    </tr>\n",
       "    <tr>\n",
       "      <th>max</th>\n",
       "      <td>1.844674e+19</td>\n",
       "      <td>1.000000</td>\n",
       "      <td>1.410302e+07</td>\n",
       "      <td>1012.000000</td>\n",
       "      <td>7.000000</td>\n",
       "      <td>5.000000</td>\n",
       "      <td>5.000000</td>\n",
       "      <td>24044.000000</td>\n",
       "      <td>1024.000000</td>\n",
       "      <td>1024.000000</td>\n",
       "      <td>2757.000000</td>\n",
       "      <td>3.000000</td>\n",
       "      <td>1839.000000</td>\n",
       "      <td>100248.000000</td>\n",
       "      <td>255.000000</td>\n",
       "    </tr>\n",
       "  </tbody>\n",
       "</table>\n",
       "</div>"
      ],
      "text/plain": [
       "                 id           click          hour              C1  \\\n",
       "count  1.000000e+06  1000000.000000  1.000000e+06  1000000.000000   \n",
       "mean   9.220259e+18        0.169773  1.410256e+07     1004.965138   \n",
       "std    5.324295e+18        0.375433  2.967422e+02        1.092803   \n",
       "min    1.338641e+13        0.000000  1.410210e+07     1001.000000   \n",
       "25%    4.618979e+18        0.000000  1.410230e+07     1005.000000   \n",
       "50%    9.206212e+18        0.000000  1.410260e+07     1005.000000   \n",
       "75%    1.383418e+19        0.000000  1.410281e+07     1005.000000   \n",
       "max    1.844674e+19        1.000000  1.410302e+07     1012.000000   \n",
       "\n",
       "           banner_pos     device_type  device_conn_type             C14  \\\n",
       "count  1000000.000000  1000000.000000    1000000.000000  1000000.000000   \n",
       "mean         0.287825        1.013995          0.331069    18838.292437   \n",
       "std          0.504222        0.524993          0.854595     4967.153340   \n",
       "min          0.000000        0.000000          0.000000      375.000000   \n",
       "25%          0.000000        1.000000          0.000000    16920.000000   \n",
       "50%          0.000000        1.000000          0.000000    20346.000000   \n",
       "75%          1.000000        1.000000          0.000000    21894.000000   \n",
       "max          7.000000        5.000000          5.000000    24044.000000   \n",
       "\n",
       "                  C15             C16             C17             C18  \\\n",
       "count  1000000.000000  1000000.000000  1000000.000000  1000000.000000   \n",
       "mean       318.886996       59.991822     2112.033682        1.434757   \n",
       "std         21.257371       46.927257      610.375812        1.326402   \n",
       "min        120.000000       20.000000      112.000000        0.000000   \n",
       "25%        320.000000       50.000000     1863.000000        0.000000   \n",
       "50%        320.000000       50.000000     2323.000000        2.000000   \n",
       "75%        320.000000       50.000000     2526.000000        3.000000   \n",
       "max       1024.000000     1024.000000     2757.000000        3.000000   \n",
       "\n",
       "                  C19             C20             C21  \n",
       "count  1000000.000000  1000000.000000  1000000.000000  \n",
       "mean       227.270994    53287.068019       83.317616  \n",
       "std        351.148578    49952.338638       70.310016  \n",
       "min         33.000000       -1.000000        1.000000  \n",
       "25%         35.000000       -1.000000       23.000000  \n",
       "50%         39.000000   100050.000000       61.000000  \n",
       "75%        171.000000   100094.000000      101.000000  \n",
       "max       1839.000000   100248.000000      255.000000  "
      ]
     },
     "execution_count": 16,
     "metadata": {},
     "output_type": "execute_result"
    }
   ],
   "source": [
    "df.describe()"
   ]
  },
  {
   "cell_type": "code",
   "execution_count": 11,
   "metadata": {},
   "outputs": [
    {
     "data": {
      "text/plain": [
       "183.1055450439453"
      ]
     },
     "execution_count": 11,
     "metadata": {},
     "output_type": "execute_result"
    }
   ],
   "source": [
    "# 183MB?\n",
    "df.memory_usage().sum()/(1024*1024)"
   ]
  },
  {
   "cell_type": "code",
   "execution_count": 6,
   "metadata": {
    "scrolled": false
   },
   "outputs": [
    {
     "data": {
      "text/plain": [
       "Index(['id', 'click', 'hour', 'C1', 'banner_pos', 'site_id', 'site_domain',\n",
       "       'site_category', 'app_id', 'app_domain', 'app_category', 'device_id',\n",
       "       'device_ip', 'device_model', 'device_type', 'device_conn_type', 'C14',\n",
       "       'C15', 'C16', 'C17', 'C18', 'C19', 'C20', 'C21'],\n",
       "      dtype='object')"
      ]
     },
     "execution_count": 6,
     "metadata": {},
     "output_type": "execute_result"
    }
   ],
   "source": [
    "df.columns"
   ]
  },
  {
   "cell_type": "code",
   "execution_count": 13,
   "metadata": {},
   "outputs": [
    {
     "data": {
      "text/plain": [
       "0.169773"
      ]
     },
     "execution_count": 13,
     "metadata": {},
     "output_type": "execute_result"
    }
   ],
   "source": [
    "# slightly under 0.175, which is the mean in the full dataset\n",
    "df.click.mean() "
   ]
  },
  {
   "cell_type": "markdown",
   "metadata": {},
   "source": [
    "Compute the grouped mean for each variable"
   ]
  },
  {
   "cell_type": "code",
   "execution_count": 15,
   "metadata": {
    "scrolled": false
   },
   "outputs": [
    {
     "data": {
      "text/plain": [
       "device_type\n",
       "0    0.212078\n",
       "1    0.168955\n",
       "4    0.097977\n",
       "5    0.097419\n",
       "Name: click, dtype: float64"
      ]
     },
     "execution_count": 15,
     "metadata": {},
     "output_type": "execute_result"
    }
   ],
   "source": [
    "df.groupby('device_type')['click'].mean()"
   ]
  },
  {
   "cell_type": "markdown",
   "metadata": {},
   "source": [
    "## Unique values\n",
    "Some categorical features have high dimensions.\n",
    "\n",
    "- Features that grow in number as the data size increases:\n",
    "    + site_id\n",
    "    + site_domain\n",
    "    + app_id\n",
    "    + app_domain\n",
    "    + device_id\n",
    "    + device_ip\n",
    "    + device_model\n",
    "    + C14\n",
    "- medium growth:\n",
    "    + site_category\n",
    "    + app_categoy\n",
    "    + C17\n",
    "    + C20"
   ]
  },
  {
   "cell_type": "code",
   "execution_count": 34,
   "metadata": {},
   "outputs": [],
   "source": [
    "def get_nuniques(df):\n",
    "    unique_vals = dict()\n",
    "    for c in df:\n",
    "        unique_vals[c] = df[c].nunique()\n",
    "    return unique_vals\n",
    "\n",
    "def nuniques_to_df(unique_vals, name):\n",
    "    return pd.DataFrame.from_dict(unique_vals, orient='index', columns=[name])\n",
    "\n",
    "def sort_nuniques(unique_vals):\n",
    "    return sorted(unique_vals.items(), key=lambda kv: kv[1])"
   ]
  },
  {
   "cell_type": "code",
   "execution_count": 37,
   "metadata": {
    "scrolled": true
   },
   "outputs": [
    {
     "data": {
      "text/plain": [
       "[('click', 2),\n",
       " ('device_type', 4),\n",
       " ('device_conn_type', 4),\n",
       " ('C18', 4),\n",
       " ('C1', 7),\n",
       " ('banner_pos', 7),\n",
       " ('C15', 8),\n",
       " ('C16', 9),\n",
       " ('site_category', 22),\n",
       " ('app_category', 27),\n",
       " ('C21', 60),\n",
       " ('C19', 66),\n",
       " ('C20', 164),\n",
       " ('app_domain', 206),\n",
       " ('hour', 240),\n",
       " ('C17', 421),\n",
       " ('C14', 2254),\n",
       " ('site_id', 2667),\n",
       " ('site_domain', 2875),\n",
       " ('app_id', 3147),\n",
       " ('device_model', 5212),\n",
       " ('device_id', 150398),\n",
       " ('device_ip', 554960),\n",
       " ('id', 1000000)]"
      ]
     },
     "execution_count": 37,
     "metadata": {},
     "output_type": "execute_result"
    }
   ],
   "source": [
    "# id shouldn't be included in the features\n",
    "# Half of the rows have a unique device ip.\n",
    "unique_vals_small = get_nuniques(df)\n",
    "sort_nuniques(unique_vals)"
   ]
  },
  {
   "cell_type": "code",
   "execution_count": 39,
   "metadata": {},
   "outputs": [],
   "source": [
    "df_smaller = pd.read_csv('data/train_smaller.csv')\n",
    "unique_vals_smaller = get_nuniques(df_smaller)\n",
    "df_smallest = pd.read_csv('data/train_smallest.csv')\n",
    "unique_vals_smallest = get_nuniques(df_smallest)\n",
    "df_tiny = pd.read_csv('data/train_tiny.csv')\n",
    "unique_vals_tiny = get_nuniques(df_tiny)"
   ]
  },
  {
   "cell_type": "code",
   "execution_count": 40,
   "metadata": {},
   "outputs": [
    {
     "data": {
      "text/html": [
       "<div>\n",
       "<style scoped>\n",
       "    .dataframe tbody tr th:only-of-type {\n",
       "        vertical-align: middle;\n",
       "    }\n",
       "\n",
       "    .dataframe tbody tr th {\n",
       "        vertical-align: top;\n",
       "    }\n",
       "\n",
       "    .dataframe thead th {\n",
       "        text-align: right;\n",
       "    }\n",
       "</style>\n",
       "<table border=\"1\" class=\"dataframe\">\n",
       "  <thead>\n",
       "    <tr style=\"text-align: right;\">\n",
       "      <th></th>\n",
       "      <th>tiny</th>\n",
       "      <th>smallest</th>\n",
       "      <th>smaller</th>\n",
       "      <th>small</th>\n",
       "    </tr>\n",
       "  </thead>\n",
       "  <tbody>\n",
       "    <tr>\n",
       "      <th>id</th>\n",
       "      <td>1000</td>\n",
       "      <td>10000</td>\n",
       "      <td>100000</td>\n",
       "      <td>1000000</td>\n",
       "    </tr>\n",
       "    <tr>\n",
       "      <th>click</th>\n",
       "      <td>2</td>\n",
       "      <td>2</td>\n",
       "      <td>2</td>\n",
       "      <td>2</td>\n",
       "    </tr>\n",
       "    <tr>\n",
       "      <th>hour</th>\n",
       "      <td>231</td>\n",
       "      <td>239</td>\n",
       "      <td>240</td>\n",
       "      <td>240</td>\n",
       "    </tr>\n",
       "    <tr>\n",
       "      <th>C1</th>\n",
       "      <td>5</td>\n",
       "      <td>6</td>\n",
       "      <td>7</td>\n",
       "      <td>7</td>\n",
       "    </tr>\n",
       "    <tr>\n",
       "      <th>banner_pos</th>\n",
       "      <td>2</td>\n",
       "      <td>5</td>\n",
       "      <td>7</td>\n",
       "      <td>7</td>\n",
       "    </tr>\n",
       "    <tr>\n",
       "      <th>site_id</th>\n",
       "      <td>163</td>\n",
       "      <td>592</td>\n",
       "      <td>1444</td>\n",
       "      <td>2667</td>\n",
       "    </tr>\n",
       "    <tr>\n",
       "      <th>site_domain</th>\n",
       "      <td>130</td>\n",
       "      <td>476</td>\n",
       "      <td>1300</td>\n",
       "      <td>2875</td>\n",
       "    </tr>\n",
       "    <tr>\n",
       "      <th>site_category</th>\n",
       "      <td>9</td>\n",
       "      <td>18</td>\n",
       "      <td>18</td>\n",
       "      <td>22</td>\n",
       "    </tr>\n",
       "    <tr>\n",
       "      <th>app_id</th>\n",
       "      <td>107</td>\n",
       "      <td>446</td>\n",
       "      <td>1338</td>\n",
       "      <td>3147</td>\n",
       "    </tr>\n",
       "    <tr>\n",
       "      <th>app_domain</th>\n",
       "      <td>24</td>\n",
       "      <td>42</td>\n",
       "      <td>90</td>\n",
       "      <td>206</td>\n",
       "    </tr>\n",
       "    <tr>\n",
       "      <th>app_category</th>\n",
       "      <td>13</td>\n",
       "      <td>17</td>\n",
       "      <td>22</td>\n",
       "      <td>27</td>\n",
       "    </tr>\n",
       "    <tr>\n",
       "      <th>device_id</th>\n",
       "      <td>184</td>\n",
       "      <td>1694</td>\n",
       "      <td>16853</td>\n",
       "      <td>150398</td>\n",
       "    </tr>\n",
       "    <tr>\n",
       "      <th>device_ip</th>\n",
       "      <td>961</td>\n",
       "      <td>9055</td>\n",
       "      <td>77959</td>\n",
       "      <td>554960</td>\n",
       "    </tr>\n",
       "    <tr>\n",
       "      <th>device_model</th>\n",
       "      <td>392</td>\n",
       "      <td>1372</td>\n",
       "      <td>3110</td>\n",
       "      <td>5212</td>\n",
       "    </tr>\n",
       "    <tr>\n",
       "      <th>device_type</th>\n",
       "      <td>4</td>\n",
       "      <td>4</td>\n",
       "      <td>5</td>\n",
       "      <td>4</td>\n",
       "    </tr>\n",
       "    <tr>\n",
       "      <th>device_conn_type</th>\n",
       "      <td>4</td>\n",
       "      <td>4</td>\n",
       "      <td>4</td>\n",
       "      <td>4</td>\n",
       "    </tr>\n",
       "    <tr>\n",
       "      <th>C14</th>\n",
       "      <td>359</td>\n",
       "      <td>985</td>\n",
       "      <td>1712</td>\n",
       "      <td>2254</td>\n",
       "    </tr>\n",
       "    <tr>\n",
       "      <th>C15</th>\n",
       "      <td>4</td>\n",
       "      <td>8</td>\n",
       "      <td>8</td>\n",
       "      <td>8</td>\n",
       "    </tr>\n",
       "    <tr>\n",
       "      <th>C16</th>\n",
       "      <td>5</td>\n",
       "      <td>9</td>\n",
       "      <td>9</td>\n",
       "      <td>9</td>\n",
       "    </tr>\n",
       "    <tr>\n",
       "      <th>C17</th>\n",
       "      <td>192</td>\n",
       "      <td>339</td>\n",
       "      <td>399</td>\n",
       "      <td>421</td>\n",
       "    </tr>\n",
       "    <tr>\n",
       "      <th>C18</th>\n",
       "      <td>4</td>\n",
       "      <td>4</td>\n",
       "      <td>4</td>\n",
       "      <td>4</td>\n",
       "    </tr>\n",
       "    <tr>\n",
       "      <th>C19</th>\n",
       "      <td>47</td>\n",
       "      <td>61</td>\n",
       "      <td>64</td>\n",
       "      <td>66</td>\n",
       "    </tr>\n",
       "    <tr>\n",
       "      <th>C20</th>\n",
       "      <td>76</td>\n",
       "      <td>127</td>\n",
       "      <td>151</td>\n",
       "      <td>164</td>\n",
       "    </tr>\n",
       "    <tr>\n",
       "      <th>C21</th>\n",
       "      <td>46</td>\n",
       "      <td>56</td>\n",
       "      <td>59</td>\n",
       "      <td>60</td>\n",
       "    </tr>\n",
       "  </tbody>\n",
       "</table>\n",
       "</div>"
      ],
      "text/plain": [
       "                  tiny  smallest  smaller    small\n",
       "id                1000     10000   100000  1000000\n",
       "click                2         2        2        2\n",
       "hour               231       239      240      240\n",
       "C1                   5         6        7        7\n",
       "banner_pos           2         5        7        7\n",
       "site_id            163       592     1444     2667\n",
       "site_domain        130       476     1300     2875\n",
       "site_category        9        18       18       22\n",
       "app_id             107       446     1338     3147\n",
       "app_domain          24        42       90      206\n",
       "app_category        13        17       22       27\n",
       "device_id          184      1694    16853   150398\n",
       "device_ip          961      9055    77959   554960\n",
       "device_model       392      1372     3110     5212\n",
       "device_type          4         4        5        4\n",
       "device_conn_type     4         4        4        4\n",
       "C14                359       985     1712     2254\n",
       "C15                  4         8        8        8\n",
       "C16                  5         9        9        9\n",
       "C17                192       339      399      421\n",
       "C18                  4         4        4        4\n",
       "C19                 47        61       64       66\n",
       "C20                 76       127      151      164\n",
       "C21                 46        56       59       60"
      ]
     },
     "execution_count": 40,
     "metadata": {},
     "output_type": "execute_result"
    }
   ],
   "source": [
    "pd.concat([nuniques_to_df(unique_vals_tiny, 'tiny'),\n",
    "    nuniques_to_df(unique_vals_smallest, 'smallest'), \n",
    "nuniques_to_df(unique_vals_smaller, 'smaller'),\n",
    "          nuniques_to_df(unique_vals_small, 'small')], axis=1)"
   ]
  },
  {
   "cell_type": "markdown",
   "metadata": {},
   "source": [
    "## site and app --- (id, domain, category) tuples"
   ]
  },
  {
   "cell_type": "code",
   "execution_count": 115,
   "metadata": {},
   "outputs": [
    {
     "data": {
      "text/plain": [
       "((5697,), (5699,))"
      ]
     },
     "execution_count": 115,
     "metadata": {},
     "output_type": "execute_result"
    }
   ],
   "source": [
    "# about twice the number of unique site_id.\n",
    "df.groupby(['site_id', 'site_domain']).size().shape,\\\n",
    "df.groupby(['site_id', 'site_domain', 'site_category']).size().shape"
   ]
  },
  {
   "cell_type": "code",
   "execution_count": 116,
   "metadata": {},
   "outputs": [
    {
     "data": {
      "text/plain": [
       "((3147,), (3148,))"
      ]
     },
     "execution_count": 116,
     "metadata": {},
     "output_type": "execute_result"
    }
   ],
   "source": [
    "# the number of unique tuples is about the same as that of app_id.\n",
    "df.groupby(['app_id', 'app_domain']).size().shape,\\\n",
    "df.groupby(['app_id', 'app_domain', 'app_category']).size().shape"
   ]
  },
  {
   "cell_type": "code",
   "execution_count": null,
   "metadata": {},
   "outputs": [],
   "source": []
  },
  {
   "cell_type": "markdown",
   "metadata": {},
   "source": [
    "## site and app --- null values\n",
    "The site_id column in the train set does not seem to have null values."
   ]
  },
  {
   "cell_type": "code",
   "execution_count": 64,
   "metadata": {
    "scrolled": true
   },
   "outputs": [
    {
     "name": "stdout",
     "output_type": "stream",
     "text": [
      "site_id 1fbe01fe 159901\n",
      "site_domain c4e18dd6 374088\n",
      "site_category 50e219e0 409141\n",
      "app_id ecad2386 639121\n",
      "app_domain 7801e8d9 673893\n",
      "app_category 07d7df22 647524\n"
     ]
    }
   ],
   "source": [
    "# It is not the case that site_id == null iff site_domain == null iff site_category == null.\n",
    "for site_var in ['site_id', 'site_domain', 'site_category']:\n",
    "    counts = df[site_var].value_counts()\n",
    "    print(site_var, counts.idxmax(), counts.max())\n",
    "for app_var in ['app_id', 'app_domain', 'app_category']:\n",
    "    counts = df[app_var].value_counts()\n",
    "    print(app_var, counts.idxmax(), counts.max())"
   ]
  },
  {
   "cell_type": "code",
   "execution_count": 93,
   "metadata": {},
   "outputs": [
    {
     "data": {
      "text/plain": [
       "1fbe01fe    159901\n",
       "e151e245     65067\n",
       "d9750ee7     24070\n",
       "5b08c53b     22467\n",
       "856e6d3f     19002\n",
       "Name: site_id, dtype: int64"
      ]
     },
     "execution_count": 93,
     "metadata": {},
     "output_type": "execute_result"
    }
   ],
   "source": [
    "df.site_id.value_counts().head(5)"
   ]
  },
  {
   "cell_type": "code",
   "execution_count": 66,
   "metadata": {},
   "outputs": [],
   "source": [
    "site_id_null = '1fbe01fe'\n",
    "site_domain_null = 'c4e18dd6'\n",
    "site_category_null = '50e219e0'\n",
    "app_id_null = 'ecad2386'\n",
    "app_domain_null = '7801e8d9'\n",
    "app_category_null = '07d7df22'"
   ]
  },
  {
   "cell_type": "code",
   "execution_count": 76,
   "metadata": {},
   "outputs": [
    {
     "data": {
      "text/plain": [
       "(True, True)"
      ]
     },
     "execution_count": 76,
     "metadata": {},
     "output_type": "execute_result"
    }
   ],
   "source": [
    "# TODO: this seems wrong. site_id in the train set has no null value?\n",
    "# if site_id == null, site_domain and site_category are not null\n",
    "all(df[df.site_id == site_id_null].site_domain != site_domain_null),\\\n",
    "all(df[df.site_id == site_id_null].site_category != site_category_null)"
   ]
  },
  {
   "cell_type": "code",
   "execution_count": 77,
   "metadata": {},
   "outputs": [
    {
     "data": {
      "text/plain": [
       "(False, 0.9956961998246402)"
      ]
     },
     "execution_count": 77,
     "metadata": {},
     "output_type": "execute_result"
    }
   ],
   "source": [
    "# site_domain == null almost implies site_category == null\n",
    "all(df[df.site_domain == site_domain_null].site_category == site_category_null),\\\n",
    "(df[df.site_domain == site_domain_null].site_category == site_category_null).mean()"
   ]
  },
  {
   "cell_type": "code",
   "execution_count": 78,
   "metadata": {},
   "outputs": [
    {
     "data": {
      "text/plain": [
       "(True, True)"
      ]
     },
     "execution_count": 78,
     "metadata": {},
     "output_type": "execute_result"
    }
   ],
   "source": [
    "# app_id == null implies app_domain == null and site_category == null\n",
    "all(df[df.app_id == app_id_null].app_domain == app_domain_null),\\\n",
    "all(df[df.app_id == app_id_null].app_category == app_category_null)"
   ]
  },
  {
   "cell_type": "code",
   "execution_count": 79,
   "metadata": {},
   "outputs": [
    {
     "data": {
      "text/plain": [
       "(0.47922, 0.360879)"
      ]
     },
     "execution_count": 79,
     "metadata": {},
     "output_type": "execute_result"
    }
   ],
   "source": [
    "# site_id and app_id are not mutually exclusive. 36% of the rows have both.\n",
    "((df.site_id == site_id_null) ^ (df.app_id == app_id_null)).mean(),\\\n",
    "((df.site_id != site_id_null) & (df.app_id != app_id_null)).mean()"
   ]
  },
  {
   "cell_type": "code",
   "execution_count": 80,
   "metadata": {},
   "outputs": [
    {
     "data": {
      "text/plain": [
       "0.840099"
      ]
     },
     "execution_count": 80,
     "metadata": {},
     "output_type": "execute_result"
    }
   ],
   "source": [
    "# most of time either site_id or app_id exists.\n",
    "((df.site_id != site_id_null) | (df.app_id != app_id_null)).mean()"
   ]
  },
  {
   "cell_type": "markdown",
   "metadata": {},
   "source": [
    "## device_id and ip"
   ]
  },
  {
   "cell_type": "code",
   "execution_count": 62,
   "metadata": {
    "scrolled": true
   },
   "outputs": [
    {
     "name": "stdout",
     "output_type": "stream",
     "text": [
      "a99f214a    824934\n",
      "0f7c61dc       543\n",
      "c357dbff       452\n",
      "936e92fb       320\n",
      "afeffc18       240\n",
      "Name: device_id, dtype: int64\n",
      "6b9769f2    5149\n",
      "431b3174    3502\n",
      "2f323f36    2214\n",
      "930ec31d    2152\n",
      "af62faf4    2149\n",
      "Name: device_ip, dtype: int64\n"
     ]
    }
   ],
   "source": [
    "# device_ip doesn't have \n",
    "for device_var in ['device_id', 'device_ip']:\n",
    "    counts = df[device_var].value_counts()\n",
    "    print(counts.head(5))"
   ]
  },
  {
   "cell_type": "code",
   "execution_count": 84,
   "metadata": {},
   "outputs": [],
   "source": [
    "device_ip_null = 'a99f214a'"
   ]
  },
  {
   "cell_type": "code",
   "execution_count": 120,
   "metadata": {},
   "outputs": [
    {
     "data": {
      "text/plain": [
       "((608817,), 150398, 554960)"
      ]
     },
     "execution_count": 120,
     "metadata": {},
     "output_type": "execute_result"
    }
   ],
   "source": [
    "# The number of unique tuples is similar to that of device_ip.\n",
    "df.groupby(['device_id', 'device_ip']).size().shape, df.device_id.nunique(), df.device_ip.nunique()"
   ]
  },
  {
   "cell_type": "markdown",
   "metadata": {},
   "source": [
    "## Clicks by hour, weekday"
   ]
  },
  {
   "cell_type": "code",
   "execution_count": 9,
   "metadata": {},
   "outputs": [
    {
     "data": {
      "text/html": [
       "<div>\n",
       "<style scoped>\n",
       "    .dataframe tbody tr th:only-of-type {\n",
       "        vertical-align: middle;\n",
       "    }\n",
       "\n",
       "    .dataframe tbody tr th {\n",
       "        vertical-align: top;\n",
       "    }\n",
       "\n",
       "    .dataframe thead th {\n",
       "        text-align: right;\n",
       "    }\n",
       "</style>\n",
       "<table border=\"1\" class=\"dataframe\">\n",
       "  <thead>\n",
       "    <tr style=\"text-align: right;\">\n",
       "      <th></th>\n",
       "      <th>mean</th>\n",
       "      <th>size</th>\n",
       "      <th>sum</th>\n",
       "    </tr>\n",
       "    <tr>\n",
       "      <th>hour</th>\n",
       "      <th></th>\n",
       "      <th></th>\n",
       "      <th></th>\n",
       "    </tr>\n",
       "  </thead>\n",
       "  <tbody>\n",
       "    <tr>\n",
       "      <th>0</th>\n",
       "      <td>0.181572</td>\n",
       "      <td>79478</td>\n",
       "      <td>14431</td>\n",
       "    </tr>\n",
       "    <tr>\n",
       "      <th>1</th>\n",
       "      <td>0.162294</td>\n",
       "      <td>232787</td>\n",
       "      <td>37780</td>\n",
       "    </tr>\n",
       "    <tr>\n",
       "      <th>2</th>\n",
       "      <td>0.156913</td>\n",
       "      <td>226488</td>\n",
       "      <td>35539</td>\n",
       "    </tr>\n",
       "    <tr>\n",
       "      <th>3</th>\n",
       "      <td>0.175323</td>\n",
       "      <td>200550</td>\n",
       "      <td>35161</td>\n",
       "    </tr>\n",
       "    <tr>\n",
       "      <th>4</th>\n",
       "      <td>0.174470</td>\n",
       "      <td>83023</td>\n",
       "      <td>14485</td>\n",
       "    </tr>\n",
       "    <tr>\n",
       "      <th>5</th>\n",
       "      <td>0.180844</td>\n",
       "      <td>83044</td>\n",
       "      <td>15018</td>\n",
       "    </tr>\n",
       "    <tr>\n",
       "      <th>6</th>\n",
       "      <td>0.183441</td>\n",
       "      <td>94630</td>\n",
       "      <td>17359</td>\n",
       "    </tr>\n",
       "  </tbody>\n",
       "</table>\n",
       "</div>"
      ],
      "text/plain": [
       "          mean    size    sum\n",
       "hour                         \n",
       "0     0.181572   79478  14431\n",
       "1     0.162294  232787  37780\n",
       "2     0.156913  226488  35539\n",
       "3     0.175323  200550  35161\n",
       "4     0.174470   83023  14485\n",
       "5     0.180844   83044  15018\n",
       "6     0.183441   94630  17359"
      ]
     },
     "execution_count": 9,
     "metadata": {},
     "output_type": "execute_result"
    }
   ],
   "source": [
    "# In the order of highest rate: Sat, Sun, Fri, Wed, Thur, Mon, Tue\n",
    "# More ads on Mon-Wed, because the data is taken over 10 days.\n",
    "df.groupby(df.hour.dt.weekday)['click'].agg(['mean', 'size', 'sum'])"
   ]
  },
  {
   "cell_type": "code",
   "execution_count": 18,
   "metadata": {
    "scrolled": false
   },
   "outputs": [
    {
     "data": {
      "text/plain": [
       "array([[<matplotlib.axes._subplots.AxesSubplot object at 0x7f48e9ee5780>],\n",
       "       [<matplotlib.axes._subplots.AxesSubplot object at 0x7f48e9e9de48>],\n",
       "       [<matplotlib.axes._subplots.AxesSubplot object at 0x7f48e9ecf400>]],\n",
       "      dtype=object)"
      ]
     },
     "execution_count": 18,
     "metadata": {},
     "output_type": "execute_result"
    },
    {
     "data": {
      "image/png": "[encoded data removed]",
      "text/plain": [
       "<Figure size 432x288 with 3 Axes>"
      ]
     },
     "metadata": {
      "needs_background": "light"
     },
     "output_type": "display_data"
    }
   ],
   "source": [
    "# Click rates have peaks: midnight, 7am, 3pm.\n",
    "df.groupby(df.hour.dt.hour)['click'].agg(['mean', 'size', 'sum']).plot(subplots=True, layout=(3,1))"
   ]
  },
  {
   "cell_type": "markdown",
   "metadata": {},
   "source": [
    "## Test dataset"
   ]
  },
  {
   "cell_type": "code",
   "execution_count": 86,
   "metadata": {},
   "outputs": [],
   "source": [
    "df_test = pd.read_csv(gzip.open('data/test.gz'))"
   ]
  },
  {
   "cell_type": "code",
   "execution_count": 4,
   "metadata": {},
   "outputs": [
    {
     "data": {
      "text/html": [
       "<div>\n",
       "<style scoped>\n",
       "    .dataframe tbody tr th:only-of-type {\n",
       "        vertical-align: middle;\n",
       "    }\n",
       "\n",
       "    .dataframe tbody tr th {\n",
       "        vertical-align: top;\n",
       "    }\n",
       "\n",
       "    .dataframe thead th {\n",
       "        text-align: right;\n",
       "    }\n",
       "</style>\n",
       "<table border=\"1\" class=\"dataframe\">\n",
       "  <thead>\n",
       "    <tr style=\"text-align: right;\">\n",
       "      <th></th>\n",
       "      <th>id</th>\n",
       "      <th>hour</th>\n",
       "      <th>C1</th>\n",
       "      <th>banner_pos</th>\n",
       "      <th>site_id</th>\n",
       "      <th>site_domain</th>\n",
       "      <th>site_category</th>\n",
       "      <th>app_id</th>\n",
       "      <th>app_domain</th>\n",
       "      <th>app_category</th>\n",
       "      <th>...</th>\n",
       "      <th>device_type</th>\n",
       "      <th>device_conn_type</th>\n",
       "      <th>C14</th>\n",
       "      <th>C15</th>\n",
       "      <th>C16</th>\n",
       "      <th>C17</th>\n",
       "      <th>C18</th>\n",
       "      <th>C19</th>\n",
       "      <th>C20</th>\n",
       "      <th>C21</th>\n",
       "    </tr>\n",
       "  </thead>\n",
       "  <tbody>\n",
       "    <tr>\n",
       "      <th>0</th>\n",
       "      <td>1.000017e+19</td>\n",
       "      <td>14103100</td>\n",
       "      <td>1005</td>\n",
       "      <td>0</td>\n",
       "      <td>235ba823</td>\n",
       "      <td>f6ebf28e</td>\n",
       "      <td>f028772b</td>\n",
       "      <td>ecad2386</td>\n",
       "      <td>7801e8d9</td>\n",
       "      <td>07d7df22</td>\n",
       "      <td>...</td>\n",
       "      <td>1</td>\n",
       "      <td>0</td>\n",
       "      <td>8330</td>\n",
       "      <td>320</td>\n",
       "      <td>50</td>\n",
       "      <td>761</td>\n",
       "      <td>3</td>\n",
       "      <td>175</td>\n",
       "      <td>100075</td>\n",
       "      <td>23</td>\n",
       "    </tr>\n",
       "    <tr>\n",
       "      <th>1</th>\n",
       "      <td>1.000018e+19</td>\n",
       "      <td>14103100</td>\n",
       "      <td>1005</td>\n",
       "      <td>0</td>\n",
       "      <td>1fbe01fe</td>\n",
       "      <td>f3845767</td>\n",
       "      <td>28905ebd</td>\n",
       "      <td>ecad2386</td>\n",
       "      <td>7801e8d9</td>\n",
       "      <td>07d7df22</td>\n",
       "      <td>...</td>\n",
       "      <td>1</td>\n",
       "      <td>0</td>\n",
       "      <td>22676</td>\n",
       "      <td>320</td>\n",
       "      <td>50</td>\n",
       "      <td>2616</td>\n",
       "      <td>0</td>\n",
       "      <td>35</td>\n",
       "      <td>100083</td>\n",
       "      <td>51</td>\n",
       "    </tr>\n",
       "    <tr>\n",
       "      <th>2</th>\n",
       "      <td>1.000055e+19</td>\n",
       "      <td>14103100</td>\n",
       "      <td>1005</td>\n",
       "      <td>0</td>\n",
       "      <td>1fbe01fe</td>\n",
       "      <td>f3845767</td>\n",
       "      <td>28905ebd</td>\n",
       "      <td>ecad2386</td>\n",
       "      <td>7801e8d9</td>\n",
       "      <td>07d7df22</td>\n",
       "      <td>...</td>\n",
       "      <td>1</td>\n",
       "      <td>0</td>\n",
       "      <td>22676</td>\n",
       "      <td>320</td>\n",
       "      <td>50</td>\n",
       "      <td>2616</td>\n",
       "      <td>0</td>\n",
       "      <td>35</td>\n",
       "      <td>100083</td>\n",
       "      <td>51</td>\n",
       "    </tr>\n",
       "    <tr>\n",
       "      <th>3</th>\n",
       "      <td>1.000109e+19</td>\n",
       "      <td>14103100</td>\n",
       "      <td>1005</td>\n",
       "      <td>0</td>\n",
       "      <td>85f751fd</td>\n",
       "      <td>c4e18dd6</td>\n",
       "      <td>50e219e0</td>\n",
       "      <td>51cedd4e</td>\n",
       "      <td>aefc06bd</td>\n",
       "      <td>0f2161f8</td>\n",
       "      <td>...</td>\n",
       "      <td>1</td>\n",
       "      <td>0</td>\n",
       "      <td>18648</td>\n",
       "      <td>320</td>\n",
       "      <td>50</td>\n",
       "      <td>1092</td>\n",
       "      <td>3</td>\n",
       "      <td>809</td>\n",
       "      <td>100156</td>\n",
       "      <td>61</td>\n",
       "    </tr>\n",
       "    <tr>\n",
       "      <th>4</th>\n",
       "      <td>1.000138e+19</td>\n",
       "      <td>14103100</td>\n",
       "      <td>1005</td>\n",
       "      <td>0</td>\n",
       "      <td>85f751fd</td>\n",
       "      <td>c4e18dd6</td>\n",
       "      <td>50e219e0</td>\n",
       "      <td>9c13b419</td>\n",
       "      <td>2347f47a</td>\n",
       "      <td>f95efa07</td>\n",
       "      <td>...</td>\n",
       "      <td>1</td>\n",
       "      <td>0</td>\n",
       "      <td>23160</td>\n",
       "      <td>320</td>\n",
       "      <td>50</td>\n",
       "      <td>2667</td>\n",
       "      <td>0</td>\n",
       "      <td>47</td>\n",
       "      <td>-1</td>\n",
       "      <td>221</td>\n",
       "    </tr>\n",
       "  </tbody>\n",
       "</table>\n",
       "<p>5 rows × 23 columns</p>\n",
       "</div>"
      ],
      "text/plain": [
       "             id      hour    C1  banner_pos   site_id site_domain  \\\n",
       "0  1.000017e+19  14103100  1005           0  235ba823    f6ebf28e   \n",
       "1  1.000018e+19  14103100  1005           0  1fbe01fe    f3845767   \n",
       "2  1.000055e+19  14103100  1005           0  1fbe01fe    f3845767   \n",
       "3  1.000109e+19  14103100  1005           0  85f751fd    c4e18dd6   \n",
       "4  1.000138e+19  14103100  1005           0  85f751fd    c4e18dd6   \n",
       "\n",
       "  site_category    app_id app_domain app_category ...  device_type  \\\n",
       "0      f028772b  ecad2386   7801e8d9     07d7df22 ...            1   \n",
       "1      28905ebd  ecad2386   7801e8d9     07d7df22 ...            1   \n",
       "2      28905ebd  ecad2386   7801e8d9     07d7df22 ...            1   \n",
       "3      50e219e0  51cedd4e   aefc06bd     0f2161f8 ...            1   \n",
       "4      50e219e0  9c13b419   2347f47a     f95efa07 ...            1   \n",
       "\n",
       "  device_conn_type    C14  C15  C16   C17  C18  C19     C20  C21  \n",
       "0                0   8330  320   50   761    3  175  100075   23  \n",
       "1                0  22676  320   50  2616    0   35  100083   51  \n",
       "2                0  22676  320   50  2616    0   35  100083   51  \n",
       "3                0  18648  320   50  1092    3  809  100156   61  \n",
       "4                0  23160  320   50  2667    0   47      -1  221  \n",
       "\n",
       "[5 rows x 23 columns]"
      ]
     },
     "execution_count": 4,
     "metadata": {},
     "output_type": "execute_result"
    }
   ],
   "source": [
    "df_test.head()"
   ]
  },
  {
   "cell_type": "code",
   "execution_count": 3,
   "metadata": {},
   "outputs": [
    {
     "data": {
      "text/plain": [
       "(4577464, 23)"
      ]
     },
     "execution_count": 3,
     "metadata": {},
     "output_type": "execute_result"
    }
   ],
   "source": [
    "df_test.shape"
   ]
  },
  {
   "cell_type": "code",
   "execution_count": 13,
   "metadata": {},
   "outputs": [
    {
     "data": {
      "text/plain": [
       "(14102100, 14103023, 14103100, 14103123)"
      ]
     },
     "execution_count": 13,
     "metadata": {},
     "output_type": "execute_result"
    }
   ],
   "source": [
    "# test dataset = 11th day. train = 1st-10th.\n",
    "df.hour.min(), df.hour.max(), df_test.hour.min(), df_test.hour.max()"
   ]
  },
  {
   "cell_type": "code",
   "execution_count": 89,
   "metadata": {},
   "outputs": [
    {
     "name": "stdout",
     "output_type": "stream",
     "text": [
      "site_id 85f751fd 1719304\n",
      "site_domain c4e18dd6 1759307\n",
      "site_category 50e219e0 1866181\n",
      "app_id ecad2386 2858160\n",
      "app_domain 7801e8d9 2972631\n",
      "app_category 07d7df22 2881854\n",
      "a99f214a    3941701\n",
      "afeffc18       2358\n",
      "Name: device_id, dtype: int64\n",
      "6b9769f2    19936\n",
      "f1542531    12291\n",
      "Name: device_ip, dtype: int64\n"
     ]
    }
   ],
   "source": [
    "# null values?\n",
    "# It is not the case that site_id == null iff site_domain == null iff site_category == null.\n",
    "for site_var in ['site_id', 'site_domain', 'site_category']:\n",
    "    counts = df_test[site_var].value_counts()\n",
    "    print(site_var, counts.idxmax(), counts.max())\n",
    "for app_var in ['app_id', 'app_domain', 'app_category']:\n",
    "    counts = df_test[app_var].value_counts()\n",
    "    print(app_var, counts.idxmax(), counts.max())\n",
    "for device_var in ['device_id', 'device_ip']:\n",
    "    counts = df_test[device_var].value_counts()\n",
    "    print(counts.head(2))"
   ]
  },
  {
   "cell_type": "code",
   "execution_count": 94,
   "metadata": {},
   "outputs": [
    {
     "data": {
      "text/plain": [
       "85f751fd    1719304\n",
       "17d1b03f     813053\n",
       "1fbe01fe     429862\n",
       "e151e245     268872\n",
       "5b08c53b      95816\n",
       "Name: site_id, dtype: int64"
      ]
     },
     "execution_count": 94,
     "metadata": {},
     "output_type": "execute_result"
    }
   ],
   "source": [
    "df_test.site_id.value_counts().head(5)"
   ]
  },
  {
   "cell_type": "code",
   "execution_count": 90,
   "metadata": {},
   "outputs": [],
   "source": [
    "site_id_null = '85f751fd'\n",
    "site_domain_null = 'c4e18dd6'\n",
    "site_category_null = '50e219e0'\n",
    "app_id_null = 'ecad2386'\n",
    "app_domain_null = '7801e8d9'\n",
    "app_category_null = '07d7df22'"
   ]
  },
  {
   "cell_type": "code",
   "execution_count": 92,
   "metadata": {},
   "outputs": [
    {
     "data": {
      "text/plain": [
       "(True, True)"
      ]
     },
     "execution_count": 92,
     "metadata": {},
     "output_type": "execute_result"
    }
   ],
   "source": [
    "# if site_id == null, site_domain and site_category are null\n",
    "all(df_test[df_test.site_id == site_id_null].site_domain == site_domain_null),\\\n",
    "all(df_test[df_test.site_id == site_id_null].site_category == site_category_null)"
   ]
  },
  {
   "cell_type": "code",
   "execution_count": 95,
   "metadata": {},
   "outputs": [
    {
     "data": {
      "text/plain": [
       "(True, True)"
      ]
     },
     "execution_count": 95,
     "metadata": {},
     "output_type": "execute_result"
    }
   ],
   "source": [
    "# app_id == null implies app_domain == null and site_category == null\n",
    "all(df_test[df_test.app_id == app_id_null].app_domain == app_domain_null),\\\n",
    "all(df_test[df_test.app_id == app_id_null].app_category == app_category_null)"
   ]
  },
  {
   "cell_type": "code",
   "execution_count": 102,
   "metadata": {
    "scrolled": true
   },
   "outputs": [
    {
     "data": {
      "text/plain": [
       "True"
      ]
     },
     "execution_count": 102,
     "metadata": {},
     "output_type": "execute_result"
    }
   ],
   "source": [
    "# site_id and app_id are mutually exclusive.\n",
    "all((df_test.site_id != site_id_null) ^ (df_test.app_id != app_id_null))"
   ]
  },
  {
   "cell_type": "code",
   "execution_count": null,
   "metadata": {},
   "outputs": [],
   "source": []
  },
  {
   "cell_type": "markdown",
   "metadata": {},
   "source": [
    "## Logistic regression"
   ]
  },
  {
   "cell_type": "code",
   "execution_count": 19,
   "metadata": {},
   "outputs": [],
   "source": [
    "# consider:\n",
    "# - class_weight='balanced'\n",
    "# - solver='sag'\n",
    "# - n_jobs=2\n",
    "train_cols = df.columns.drop('click')\n",
    "X = df[df.columns.drop(['id','click'])].values\n",
    "y = df.click.values\n",
    "X_train, X_test, y_train, y_test = train_test_split(X, y, test_size=int(1e5))\n",
    "X_train, X_dev, y_train, y_dev = train_test_split(X_train, y_train, test_size=int(1e5))\n",
    "clf = LogisticRegression(random_state=0,\n",
    "                        solver='liblinear',\n",
    "                        class_weight=None,\n",
    "                        )"
   ]
  },
  {
   "cell_type": "code",
   "execution_count": 20,
   "metadata": {},
   "outputs": [
    {
     "ename": "ValueError",
     "evalue": "could not convert string to float: '1aa0e912'",
     "output_type": "error",
     "traceback": [
      "\u001b[0;31m---------------------------------------------------------------------------\u001b[0m",
      "\u001b[0;31mValueError\u001b[0m                                Traceback (most recent call last)",
      "\u001b[0;32m<timed eval>\u001b[0m in \u001b[0;36m<module>\u001b[0;34m()\u001b[0m\n",
      "\u001b[0;32m~/code/avazu-ctr/venv/lib/python3.6/site-packages/sklearn/linear_model/logistic.py\u001b[0m in \u001b[0;36mfit\u001b[0;34m(self, X, y, sample_weight)\u001b[0m\n\u001b[1;32m   1218\u001b[0m \u001b[0;34m\u001b[0m\u001b[0m\n\u001b[1;32m   1219\u001b[0m         X, y = check_X_y(X, y, accept_sparse='csr', dtype=_dtype,\n\u001b[0;32m-> 1220\u001b[0;31m                          order=\"C\")\n\u001b[0m\u001b[1;32m   1221\u001b[0m         \u001b[0mcheck_classification_targets\u001b[0m\u001b[0;34m(\u001b[0m\u001b[0my\u001b[0m\u001b[0;34m)\u001b[0m\u001b[0;34m\u001b[0m\u001b[0m\n\u001b[1;32m   1222\u001b[0m         \u001b[0mself\u001b[0m\u001b[0;34m.\u001b[0m\u001b[0mclasses_\u001b[0m \u001b[0;34m=\u001b[0m \u001b[0mnp\u001b[0m\u001b[0;34m.\u001b[0m\u001b[0munique\u001b[0m\u001b[0;34m(\u001b[0m\u001b[0my\u001b[0m\u001b[0;34m)\u001b[0m\u001b[0;34m\u001b[0m\u001b[0m\n",
      "\u001b[0;32m~/code/avazu-ctr/venv/lib/python3.6/site-packages/sklearn/utils/validation.py\u001b[0m in \u001b[0;36mcheck_X_y\u001b[0;34m(X, y, accept_sparse, dtype, order, copy, force_all_finite, ensure_2d, allow_nd, multi_output, ensure_min_samples, ensure_min_features, y_numeric, warn_on_dtype, estimator)\u001b[0m\n\u001b[1;32m    571\u001b[0m     X = check_array(X, accept_sparse, dtype, order, copy, force_all_finite,\n\u001b[1;32m    572\u001b[0m                     \u001b[0mensure_2d\u001b[0m\u001b[0;34m,\u001b[0m \u001b[0mallow_nd\u001b[0m\u001b[0;34m,\u001b[0m \u001b[0mensure_min_samples\u001b[0m\u001b[0;34m,\u001b[0m\u001b[0;34m\u001b[0m\u001b[0m\n\u001b[0;32m--> 573\u001b[0;31m                     ensure_min_features, warn_on_dtype, estimator)\n\u001b[0m\u001b[1;32m    574\u001b[0m     \u001b[0;32mif\u001b[0m \u001b[0mmulti_output\u001b[0m\u001b[0;34m:\u001b[0m\u001b[0;34m\u001b[0m\u001b[0m\n\u001b[1;32m    575\u001b[0m         y = check_array(y, 'csr', force_all_finite=True, ensure_2d=False,\n",
      "\u001b[0;32m~/code/avazu-ctr/venv/lib/python3.6/site-packages/sklearn/utils/validation.py\u001b[0m in \u001b[0;36mcheck_array\u001b[0;34m(array, accept_sparse, dtype, order, copy, force_all_finite, ensure_2d, allow_nd, ensure_min_samples, ensure_min_features, warn_on_dtype, estimator)\u001b[0m\n\u001b[1;32m    431\u001b[0m                                       force_all_finite)\n\u001b[1;32m    432\u001b[0m     \u001b[0;32melse\u001b[0m\u001b[0;34m:\u001b[0m\u001b[0;34m\u001b[0m\u001b[0m\n\u001b[0;32m--> 433\u001b[0;31m         \u001b[0marray\u001b[0m \u001b[0;34m=\u001b[0m \u001b[0mnp\u001b[0m\u001b[0;34m.\u001b[0m\u001b[0marray\u001b[0m\u001b[0;34m(\u001b[0m\u001b[0marray\u001b[0m\u001b[0;34m,\u001b[0m \u001b[0mdtype\u001b[0m\u001b[0;34m=\u001b[0m\u001b[0mdtype\u001b[0m\u001b[0;34m,\u001b[0m \u001b[0morder\u001b[0m\u001b[0;34m=\u001b[0m\u001b[0morder\u001b[0m\u001b[0;34m,\u001b[0m \u001b[0mcopy\u001b[0m\u001b[0;34m=\u001b[0m\u001b[0mcopy\u001b[0m\u001b[0;34m)\u001b[0m\u001b[0;34m\u001b[0m\u001b[0m\n\u001b[0m\u001b[1;32m    434\u001b[0m \u001b[0;34m\u001b[0m\u001b[0m\n\u001b[1;32m    435\u001b[0m         \u001b[0;32mif\u001b[0m \u001b[0mensure_2d\u001b[0m\u001b[0;34m:\u001b[0m\u001b[0;34m\u001b[0m\u001b[0m\n",
      "\u001b[0;31mValueError\u001b[0m: could not convert string to float: '1aa0e912'"
     ]
    }
   ],
   "source": [
    "%%time\n",
    "clf.fit(X_train, y_train)"
   ]
  },
  {
   "cell_type": "code",
   "execution_count": null,
   "metadata": {},
   "outputs": [],
   "source": [
    "clf.score(X_train, y_train), clf.score(X_dev, y_dev)"
   ]
  }
 ],
 "metadata": {
  "kernelspec": {
   "display_name": "Python 3",
   "language": "python",
   "name": "python3"
  },
  "language_info": {
   "codemirror_mode": {
    "name": "ipython",
    "version": 3
   },
   "file_extension": ".py",
   "mimetype": "text/x-python",
   "name": "python",
   "nbconvert_exporter": "python",
   "pygments_lexer": "ipython3",
   "version": "3.6.6"
  }
 },
 "nbformat": 4,
 "nbformat_minor": 2
}
