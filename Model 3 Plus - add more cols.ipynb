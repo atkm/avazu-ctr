{
 "cells": [
  {
   "cell_type": "markdown",
   "metadata": {},
   "source": [
    "TODO:\n",
    "- Try click rate encoding of device_model and C14.\n",
    "- Try without interactions of device_id and site/app_id.\n",
    "    Encode them separately.\n",
    "- With for without click rates of site/app_id.\n",
    "\n",
    "Columns to add:\n",
    "- site/app_category cols (Done. Easy.)\n",
    "- high-cardinality categoricals. site/app/device_id, C14, and device_model. No problem adding site/app_id (does this scale for a larger data set?).\n",
    "- hour"
   ]
  },
  {
   "cell_type": "code",
   "execution_count": 1,
   "metadata": {},
   "outputs": [],
   "source": [
    "import pandas as pd\n",
    "import numpy as np\n",
    "\n",
    "from sklearn.preprocessing import OneHotEncoder\n",
    "from sklearn.compose import ColumnTransformer\n",
    "from sklearn.linear_model import LogisticRegression\n",
    "from sklearn.pipeline import Pipeline\n",
    "\n",
    "from models.base import ClickRateEncoder, tune_logistic_regression_pipeline"
   ]
  },
  {
   "cell_type": "markdown",
   "metadata": {},
   "source": [
    "## Stats\n",
    "\n",
    "Question: which of ['site_id', 'app_id', 'device_id', 'device_model', 'C14'], and their click rates to include.\n",
    "\n",
    "- site/app_id click rate, w/o device_id, device_model, C14:\n",
    "        Tuning time:  324.64227628707886 for 8 parameters\n",
    "        Best C:  {'logistic_regression__C': 0.00026826957952797245}\n",
    "        {1e-05: -0.4487456132140043, 1.9306977288832496e-05: -0.4402482522196934, 3.727593720314938e-05: -0.4332713236725724, 7.196856730011514e-05: -0.42758329625340535, 0.00013894954943731373: -0.4236208752579353, 0.00026826957952797245: -0.4219944456061655, 0.0005179474679231213: -0.4229531107039379, 0.001: -0.4263861627269825}\n",
    "        Test score:  -0.4176864114518759\n",
    "        \n",
    "- no click rate, w/o device_id, device_model, C14:  \n",
    "        Tuning time:  1298.9161353111267\n",
    "        Best C:  {'logistic_regression__C': 0.6309573444801934}\n",
    "        {0.1: -0.4058935483163846, 0.251188643150958: -0.40519699039169943, 0.6309573444801934: -0.40499613789519184, 1.584893192461114: -0.4052634663570519, 3.981071705534973: -0.40601006659652167, 10.0: -0.4072469227171066}\n",
    "        Test score:  -0.4043248005586979\n",
    "- site/app_id click rate, w/o device_model, C14:"
   ]
  },
  {
   "cell_type": "code",
   "execution_count": 2,
   "metadata": {},
   "outputs": [],
   "source": [
    "categorical_features = ['C1',\n",
    "                'banner_pos',\n",
    "                'app_id',\n",
    "                'site_id',\n",
    "                'app_category',\n",
    "                'site_category',\n",
    "                #'device_id',\n",
    "                         #'device_model',\n",
    "                'device_type',\n",
    "                'device_conn_type',\n",
    "                         #'C14',\n",
    "                'C15',\n",
    "                'C16',\n",
    "                         'C17',\n",
    "                'C18',\n",
    "                'C19',\n",
    "                         'C20',\n",
    "                'C21']\n",
    "\n",
    "cr_site_cols = ['click','site_id','device_id']\n",
    "cr_app_cols = ['click','app_id','device_id']\n",
    "\n",
    "def get_model_three_plus_pipeline():\n",
    "    \n",
    "    cr_site_encoder = ClickRateEncoder(['site_id','device_id'], 'click_rate_by_site_id')\n",
    "    cr_app_encoder = ClickRateEncoder(['app_id','device_id'], 'click_rate_by_app_id')\n",
    "    oh_encoder = OneHotEncoder(handle_unknown='ignore')\n",
    "    preprocessor = ColumnTransformer([\n",
    "        ('one_hot_encoding', oh_encoder, categorical_features),\n",
    "        #('click_rate_encoding_site', cr_site_encoder, cr_site_cols),\n",
    "        #('click_rate_encoding_app', cr_app_encoder, cr_app_cols)\n",
    "    ])\n",
    "\n",
    "    lg = LogisticRegression(solver='liblinear')\n",
    "    pipeline = Pipeline([\n",
    "                    ('preprocessing', preprocessor),\n",
    "                     ('logistic_regression', lg)])\n",
    "    return pipeline\n",
    "\n",
    "def tune_model_three_plus(df, params):\n",
    "    \n",
    "    pipeline = get_model_three_plus_pipeline()\n",
    "\n",
    "    return tune_logistic_regression_pipeline(df, pipeline, params)"
   ]
  },
  {
   "cell_type": "code",
   "execution_count": 3,
   "metadata": {},
   "outputs": [
    {
     "data": {
      "text/plain": [
       "array([ 0.1       ,  0.25118864,  0.63095734,  1.58489319,  3.98107171,\n",
       "       10.        ])"
      ]
     },
     "execution_count": 3,
     "metadata": {},
     "output_type": "execute_result"
    }
   ],
   "source": [
    "df_train = pd.read_csv('data/train_small.csv')\n",
    "params = np.logspace(-1, 1, num=6)\n",
    "params"
   ]
  },
  {
   "cell_type": "code",
   "execution_count": 4,
   "metadata": {},
   "outputs": [
    {
     "name": "stdout",
     "output_type": "stream",
     "text": [
      "Tuning time:  1298.9161353111267\n",
      "Best C:  {'logistic_regression__C': 0.6309573444801934}\n",
      "{0.1: -0.4058935483163846, 0.251188643150958: -0.40519699039169943, 0.6309573444801934: -0.40499613789519184, 1.584893192461114: -0.4052634663570519, 3.981071705534973: -0.40601006659652167, 10.0: -0.4072469227171066}\n",
      "Test score:  -0.4043248005586979\n"
     ]
    }
   ],
   "source": [
    "best_C, params_dict_ls, scores, test_score = tune_model_three_plus(df_train, params)\n",
    "print('Best C: ', best_C)\n",
    "print(dict(zip(params, scores)))\n",
    "print('Test score: ', test_score)"
   ]
  }
 ],
 "metadata": {
  "kernelspec": {
   "display_name": "Python 3",
   "language": "python",
   "name": "python3"
  },
  "language_info": {
   "codemirror_mode": {
    "name": "ipython",
    "version": 3
   },
   "file_extension": ".py",
   "mimetype": "text/x-python",
   "name": "python",
   "nbconvert_exporter": "python",
   "pygments_lexer": "ipython3",
   "version": "3.6.6"
  }
 },
 "nbformat": 4,
 "nbformat_minor": 2
}
