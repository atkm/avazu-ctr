{
 "cells": [
  {
   "cell_type": "markdown",
   "metadata": {},
   "source": [
    "Goal: use high-cardinality features (device_model, C14) and medium-cardinality features (C17, C20).\n",
    "    \n",
    "TODO:\n",
    "- see one-hot encoding them just works. -> Uses too much space.\n",
    "    Time is okay (31.946413278579712 on small).\n",
    "    Logistic Regression has been dealing with site/app_id just fine.\n",
    "    \n",
    "\n",
    "Columns:\n",
    "- id : Don't use.\n",
    "- click : Using.\n",
    "- hour : TODO.\n",
    "- C1 : Using.\n",
    "- banner_pos : Using.\n",
    "- site_id : Using. (categorical + click rate)\n",
    "- site_domain : Not Using. Interchangeable with site_id.\n",
    "- site_category : Using. (categorical + click rate)\n",
    "- app_id : Using. (categorical + click rate)\n",
    "- app_domain : Not Using. Interchangeable with app_id.\n",
    "- app_category : Using. (categorical + click rate)\n",
    "- device_id : Using (click rate)\n",
    "- device_ip : Not Using. Interchangeable with device_id.\n",
    "- device_model : TODO.\n",
    "- device_type : Using.\n",
    "- device_conn_type : Using.\n",
    "- C14 : TODO\n",
    "- C15 : Using.\n",
    "- C16 : Using.\n",
    "- C17 : TODO\n",
    "- C18 : Using.\n",
    "- C19 : Using.\n",
    "- C20 : TODO\n",
    "- C21 : Using."
   ]
  },
  {
   "cell_type": "code",
   "execution_count": 1,
   "metadata": {},
   "outputs": [],
   "source": [
    "import pandas as pd\n",
    "import numpy as np\n",
    "\n",
    "from sklearn.preprocessing import OneHotEncoder\n",
    "from sklearn.compose import ColumnTransformer\n",
    "from sklearn.linear_model import LogisticRegression\n",
    "from sklearn.pipeline import Pipeline\n",
    "\n",
    "from models.base import tune_logistic_regression_pipeline, ClickRateEncoder\n",
    "\n",
    "from tools.kaggle_tools import predict_on_test"
   ]
  },
  {
   "cell_type": "markdown",
   "metadata": {},
   "source": [
    "## Stats\n",
    "- Without device_model and C14:\n",
    "        Tuning time:  1628.0956852436066 for 4 parameters.\n",
    "        {'logistic_regression__C': 1.0},\n",
    "        {0.01: -0.41000354517306076,\n",
    "        0.1: -0.4057393021637744,\n",
    "        1.0: -0.404804207471588,\n",
    "        10.0: -0.40949817838128577},\n",
    "        -0.40384372144399805"
   ]
  },
  {
   "cell_type": "code",
   "execution_count": 2,
   "metadata": {},
   "outputs": [],
   "source": [
    "model_one_plus_cols = ['C1',\n",
    "                'banner_pos',\n",
    "                       'site_id',\n",
    "                       'site_category',\n",
    "                        'app_id',\n",
    "                        'app_category',\n",
    "                        'device_id',\n",
    "                       #'device_model',\n",
    "                        'device_type',\n",
    "                        'device_conn_type',\n",
    "                       #'C14',\n",
    "                        'C15',\n",
    "                        'C16',\n",
    "                       'C17',\n",
    "                        'C18',\n",
    "                        'C19',\n",
    "                       'C20',\n",
    "                        'C21']\n",
    "\n",
    "categorical_features = ['C1',\n",
    "                'banner_pos',\n",
    "                       'site_id',\n",
    "                       'site_category',\n",
    "                        'app_id',\n",
    "                        'app_category',\n",
    "                        'device_id',\n",
    "                       #'device_model',\n",
    "                        'device_type',\n",
    "                        'device_conn_type',\n",
    "                        #'C14',\n",
    "                        'C15',\n",
    "                        'C16',\n",
    "                       'C17',\n",
    "                        'C18',\n",
    "                        'C19',\n",
    "                       'C20',\n",
    "                        'C21']"
   ]
  },
  {
   "cell_type": "code",
   "execution_count": 3,
   "metadata": {},
   "outputs": [],
   "source": [
    "oh_encoder = OneHotEncoder(handle_unknown='ignore')\n",
    "preprocessor = ColumnTransformer([\n",
    "    ('one_hot_encoding', oh_encoder, categorical_features)\n",
    "])\n",
    "\n",
    "lg = LogisticRegression(solver='liblinear')\n",
    "pipeline = Pipeline([\n",
    "                ('preprocessing', preprocessor),\n",
    "                 ('logistic_regression', lg)])"
   ]
  },
  {
   "cell_type": "code",
   "execution_count": 4,
   "metadata": {},
   "outputs": [],
   "source": [
    "df_train = pd.read_csv('data/train_small.csv')"
   ]
  },
  {
   "cell_type": "code",
   "execution_count": 5,
   "metadata": {},
   "outputs": [],
   "source": [
    "params = np.logspace(-2, 1, num=4)"
   ]
  },
  {
   "cell_type": "code",
   "execution_count": 6,
   "metadata": {},
   "outputs": [
    {
     "name": "stdout",
     "output_type": "stream",
     "text": [
      "Tuning time:  1628.0956852436066\n"
     ]
    }
   ],
   "source": [
    "best_C, params_dict_ls, scores, test_score = \\\n",
    "    tune_logistic_regression_pipeline(df_train, pipeline, params)"
   ]
  },
  {
   "cell_type": "code",
   "execution_count": 7,
   "metadata": {},
   "outputs": [
    {
     "data": {
      "text/plain": [
       "({'logistic_regression__C': 1.0},\n",
       " {0.01: -0.41000354517306076,\n",
       "  0.1: -0.4057393021637744,\n",
       "  1.0: -0.404804207471588,\n",
       "  10.0: -0.40949817838128577},\n",
       " -0.40384372144399805)"
      ]
     },
     "execution_count": 7,
     "metadata": {},
     "output_type": "execute_result"
    }
   ],
   "source": [
    "best_C, dict(zip(params, scores)), test_score"
   ]
  },
  {
   "cell_type": "code",
   "execution_count": 8,
   "metadata": {},
   "outputs": [
    {
     "ename": "RuntimeError",
     "evalue": "No active exception to reraise",
     "output_type": "error",
     "traceback": [
      "\u001b[0;31m---------------------------------------------------------------------------\u001b[0m",
      "\u001b[0;31mRuntimeError\u001b[0m                              Traceback (most recent call last)",
      "\u001b[0;32m<ipython-input-8-9c9a2cba73bf>\u001b[0m in \u001b[0;36m<module>\u001b[0;34m\u001b[0m\n\u001b[0;32m----> 1\u001b[0;31m \u001b[0;32mraise\u001b[0m\u001b[0;34m\u001b[0m\u001b[0m\n\u001b[0m",
      "\u001b[0;31mRuntimeError\u001b[0m: No active exception to reraise"
     ]
    }
   ],
   "source": [
    "raise"
   ]
  },
  {
   "cell_type": "code",
   "execution_count": null,
   "metadata": {
    "scrolled": true
   },
   "outputs": [],
   "source": [
    "df_test = pd.read_csv('data/test_tiny.csv', dtype={'id': 'uint64'})\n",
    "df_test.id.dtype"
   ]
  },
  {
   "cell_type": "code",
   "execution_count": null,
   "metadata": {
    "scrolled": true
   },
   "outputs": [],
   "source": [
    "clicks = df_train.click\n",
    "#param = {'logistic_regression__C': 0.021544346900318832}\n",
    "predict_on_test(df_train, clicks, pipeline, best_C, df_test, fname=None)"
   ]
  },
  {
   "cell_type": "code",
   "execution_count": null,
   "metadata": {},
   "outputs": [],
   "source": []
  }
 ],
 "metadata": {
  "kernelspec": {
   "display_name": "Python 3",
   "language": "python",
   "name": "python3"
  },
  "language_info": {
   "codemirror_mode": {
    "name": "ipython",
    "version": 3
   },
   "file_extension": ".py",
   "mimetype": "text/x-python",
   "name": "python",
   "nbconvert_exporter": "python",
   "pygments_lexer": "ipython3",
   "version": "3.6.6"
  }
 },
 "nbformat": 4,
 "nbformat_minor": 2
}
