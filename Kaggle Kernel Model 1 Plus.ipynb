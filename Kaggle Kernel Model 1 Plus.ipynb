{
 "cells": [
  {
   "cell_type": "markdown",
   "metadata": {},
   "source": [
    "Done: ['site_id', 'app_id']\n",
    "\n",
    "TODO: ['site_id', 'app_id', 'device_id'] (need tuning)"
   ]
  },
  {
   "cell_type": "code",
   "execution_count": 2,
   "metadata": {},
   "outputs": [],
   "source": [
    "import pandas as pd\n",
    "import numpy as np\n",
    "from tools.kaggle_tools import predict_on_test\n",
    "from models.model_one_plus import get_model_one_plus_pipeline, tune_model_one_plus"
   ]
  },
  {
   "cell_type": "code",
   "execution_count": 3,
   "metadata": {},
   "outputs": [],
   "source": [
    "high_cardinality_cols = ['device_id','site_id', 'app_id']\n",
    "pipeline = get_model_one_plus_pipeline(high_cardinality_cols)\n",
    "df_train = pd.read_csv('data/train_small.csv')\n",
    "param = {'logistic_regression__C': 0.6309573444801934}"
   ]
  },
  {
   "cell_type": "code",
   "execution_count": null,
   "metadata": {},
   "outputs": [],
   "source": [
    "params = np.logspace(-2, 0.5, num=8)\n",
    "best_C, params_dict_ls, scores, test_score = tune_model_one_plus(df_train, params, high_cardinality_cols)"
   ]
  },
  {
   "cell_type": "code",
   "execution_count": null,
   "metadata": {},
   "outputs": [],
   "source": [
    "print('Best C: ', best_C)\n",
    "print(dict(zip(params, scores)))\n",
    "print('Test score: ', test_score)"
   ]
  },
  {
   "cell_type": "code",
   "execution_count": null,
   "metadata": {},
   "outputs": [],
   "source": [
    "raise"
   ]
  },
  {
   "cell_type": "code",
   "execution_count": null,
   "metadata": {},
   "outputs": [],
   "source": [
    "y_train = df_train.click\n",
    "df_test = pd.read_csv('data/test.csv', dtype={'id': 'uint64'})\n",
    "fname = 'submission.csv'\n",
    "predict_on_test(df_train, y_train, pipeline, param, df_test, fname)"
   ]
  }
 ],
 "metadata": {
  "kernelspec": {
   "display_name": "Python 3",
   "language": "python",
   "name": "python3"
  },
  "language_info": {
   "codemirror_mode": {
    "name": "ipython",
    "version": 3
   },
   "file_extension": ".py",
   "mimetype": "text/x-python",
   "name": "python",
   "nbconvert_exporter": "python",
   "pygments_lexer": "ipython3",
   "version": "3.6.6"
  }
 },
 "nbformat": 4,
 "nbformat_minor": 2
}
