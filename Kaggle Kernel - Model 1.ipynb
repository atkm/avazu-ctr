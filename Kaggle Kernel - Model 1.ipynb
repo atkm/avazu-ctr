{
 "cells": [
  {
   "cell_type": "markdown",
   "metadata": {},
   "source": [
    "1204^th out of 1604 kernels.\n",
    "\n",
    "- Tune parameters locally. So no cross-validation in this notebook.\n",
    "- Have an option to train on a subset of train.csv.\n",
    "- Need to run fit_encoder on the union of train and test."
   ]
  },
  {
   "cell_type": "code",
   "execution_count": 1,
   "metadata": {},
   "outputs": [],
   "source": [
    "import pandas as pd\n",
    "from sklearn.preprocessing import LabelEncoder, OneHotEncoder\n",
    "from sklearn.metrics import log_loss\n",
    "from sklearn.linear_model import LogisticRegression\n",
    "\n",
    "import time"
   ]
  },
  {
   "cell_type": "code",
   "execution_count": 2,
   "metadata": {},
   "outputs": [],
   "source": [
    "# hepler functions\n",
    "\n",
    "def fit_encoders(df):\n",
    "    site_category_encoder = LabelEncoder()\n",
    "    site_category_encoder.fit(df.site_category)\n",
    "    app_category_encoder = LabelEncoder()\n",
    "    app_category_encoder.fit(df.app_category)\n",
    "    return site_category_encoder, app_category_encoder\n",
    "\n",
    "def fit_transform_train(X_train, site_category_encoder, app_category_encoder):\n",
    "    X_train.site_category = site_category_encoder.transform(X_train.site_category)\n",
    "    X_train.app_category = app_category_encoder.transform(X_train.app_category)\n",
    "    X_train = X_train.values\n",
    "    # when transforming, an unknown categorical feature is mapped to a zero vector\n",
    "    oh_encoder = OneHotEncoder(handle_unknown='ignore')\n",
    "    X_train = oh_encoder.fit_transform(X_train)\n",
    "    return X_train, oh_encoder\n",
    "\n",
    "def transform_dev(X_dev, site_category_encoder, app_category_encoder, oh_encoder):\n",
    "    X_dev.site_category = site_category_encoder.transform(X_dev.site_category)\n",
    "    X_dev.app_category = app_category_encoder.transform(X_dev.app_category)\n",
    "    X_dev = oh_encoder.transform(X_dev)\n",
    "    return X_dev\n",
    "\n",
    "def neg_log_loss_score(lg, X_dev, y_dev):\n",
    "    return -log_loss(y_dev, lg.predict_proba(X_dev))"
   ]
  },
  {
   "cell_type": "code",
   "execution_count": 3,
   "metadata": {},
   "outputs": [],
   "source": [
    "df_train = pd.read_csv('data/train_small.csv')\n",
    "# nRows = int(1e7) # 40,428,968 rows in train.csv\n",
    "df_train = df_train.sample(frac=0.5, replace=False)\n",
    "y_train = df_train.click\n",
    "\n",
    "df_test = pd.read_csv('data/test.csv')"
   ]
  },
  {
   "cell_type": "code",
   "execution_count": 4,
   "metadata": {},
   "outputs": [],
   "source": [
    "# this step is memory intensive!\n",
    "# Consider reading in only the columns necessary to fit encoders.\n",
    "df_concat = pd.concat([df_train, df_test], axis=0, sort=False)\n",
    "site_category_encoder, app_category_encoder = fit_encoders(df_concat)"
   ]
  },
  {
   "cell_type": "code",
   "execution_count": 5,
   "metadata": {},
   "outputs": [
    {
     "name": "stderr",
     "output_type": "stream",
     "text": [
      "/home/atkm/code/avazu-ctr/venv/lib/python3.6/site-packages/pandas/core/generic.py:4405: SettingWithCopyWarning: \n",
      "A value is trying to be set on a copy of a slice from a DataFrame.\n",
      "Try using .loc[row_indexer,col_indexer] = value instead\n",
      "\n",
      "See the caveats in the documentation: http://pandas.pydata.org/pandas-docs/stable/indexing.html#indexing-view-versus-copy\n",
      "  self[name] = value\n"
     ]
    },
    {
     "name": "stdout",
     "output_type": "stream",
     "text": [
      "Train time:  10.451303482055664\n"
     ]
    }
   ],
   "source": [
    "model_one_cols = ['C1',\n",
    "                 'banner_pos',\n",
    "                 'site_category',\n",
    "                 'app_category',\n",
    "                 'device_type',\n",
    "                 'device_conn_type',\n",
    "                 'C15',\n",
    "                 'C16',\n",
    "                 'C18',\n",
    "                 'C19',\n",
    "                 'C21']\n",
    "\n",
    "X_train = df_train[model_one_cols]\n",
    "X_test = df_test[model_one_cols]\n",
    "\n",
    "X_train, oh_encoder = fit_transform_train(X_train, site_category_encoder, app_category_encoder)\n",
    "param = 0.021544346900318832\n",
    "lg = LogisticRegression(C=param)\n",
    "\n",
    "train_begin = time.time()\n",
    "lg.fit(X_train, y_train)\n",
    "train_time = time.time() - train_begin\n",
    "print(\"Train time: \", train_time)\n",
    "\n",
    "X_test = transform_dev(X_test, site_category_encoder, app_category_encoder, oh_encoder)\n",
    "y_pred = lg.predict_proba(X_test)"
   ]
  },
  {
   "cell_type": "code",
   "execution_count": 6,
   "metadata": {
    "scrolled": true
   },
   "outputs": [],
   "source": [
    "not_click_proba = y_pred[:, 0]\n",
    "click_proba = y_pred[:, 1]"
   ]
  },
  {
   "cell_type": "code",
   "execution_count": 7,
   "metadata": {},
   "outputs": [
    {
     "data": {
      "text/plain": [
       "(4577464,)"
      ]
     },
     "execution_count": 7,
     "metadata": {},
     "output_type": "execute_result"
    }
   ],
   "source": [
    "click_proba.shape"
   ]
  },
  {
   "cell_type": "code",
   "execution_count": 19,
   "metadata": {},
   "outputs": [
    {
     "data": {
      "text/html": [
       "<div>\n",
       "<style scoped>\n",
       "    .dataframe tbody tr th:only-of-type {\n",
       "        vertical-align: middle;\n",
       "    }\n",
       "\n",
       "    .dataframe tbody tr th {\n",
       "        vertical-align: top;\n",
       "    }\n",
       "\n",
       "    .dataframe thead th {\n",
       "        text-align: right;\n",
       "    }\n",
       "</style>\n",
       "<table border=\"1\" class=\"dataframe\">\n",
       "  <thead>\n",
       "    <tr style=\"text-align: right;\">\n",
       "      <th></th>\n",
       "      <th>id</th>\n",
       "    </tr>\n",
       "  </thead>\n",
       "  <tbody>\n",
       "    <tr>\n",
       "      <th>0</th>\n",
       "      <td>10000174058809263569</td>\n",
       "    </tr>\n",
       "    <tr>\n",
       "      <th>1</th>\n",
       "      <td>10000182526920855428</td>\n",
       "    </tr>\n",
       "    <tr>\n",
       "      <th>2</th>\n",
       "      <td>10000554139829213984</td>\n",
       "    </tr>\n",
       "    <tr>\n",
       "      <th>3</th>\n",
       "      <td>10001094637809798845</td>\n",
       "    </tr>\n",
       "    <tr>\n",
       "      <th>4</th>\n",
       "      <td>10001377041558670745</td>\n",
       "    </tr>\n",
       "  </tbody>\n",
       "</table>\n",
       "</div>"
      ],
      "text/plain": [
       "                     id\n",
       "0  10000174058809263569\n",
       "1  10000182526920855428\n",
       "2  10000554139829213984\n",
       "3  10001094637809798845\n",
       "4  10001377041558670745"
      ]
     },
     "execution_count": 19,
     "metadata": {},
     "output_type": "execute_result"
    }
   ],
   "source": [
    "df_test = pd.read_csv('data/test.csv', usecols=['id'], dtype={'id': 'uint64'})\n",
    "row_ids = df_test.id.values"
   ]
  },
  {
   "cell_type": "code",
   "execution_count": 21,
   "metadata": {},
   "outputs": [],
   "source": [
    "with open('submission.csv','w') as f:\n",
    "    f.write('id,click\\n')\n",
    "    for id, click_p in zip(row_ids, click_proba):\n",
    "        f.write(f'{id},{click_p}\\n')"
   ]
  }
 ],
 "metadata": {
  "kernelspec": {
   "display_name": "Python 3",
   "language": "python",
   "name": "python3"
  },
  "language_info": {
   "codemirror_mode": {
    "name": "ipython",
    "version": 3
   },
   "file_extension": ".py",
   "mimetype": "text/x-python",
   "name": "python",
   "nbconvert_exporter": "python",
   "pygments_lexer": "ipython3",
   "version": "3.6.6"
  }
 },
 "nbformat": 4,
 "nbformat_minor": 2
}
