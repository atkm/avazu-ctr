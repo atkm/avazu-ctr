{
 "cells": [
  {
   "cell_type": "code",
   "execution_count": 1,
   "metadata": {},
   "outputs": [],
   "source": [
    "import xlearn as xl\n",
    "import pandas as pd\n",
    "import numpy as np\n",
    "\n",
    "from models.base import create_user, site_app_split"
   ]
  },
  {
   "cell_type": "code",
   "execution_count": 2,
   "metadata": {},
   "outputs": [],
   "source": [
    "def make_field_dict(df, fields):\n",
    "    \"\"\"\n",
    "    fields: Array[String] - a list of column names\n",
    "    A field dictionary is just an inverted column index.\n",
    "    \"\"\"\n",
    "    return {col: i for i, col in enumerate(fields)}\n",
    "\n",
    "def make_feature_dict(df, fields):\n",
    "    # prepend a field name to each feature in order to distinguish \n",
    "    # a feature name present in two or more fields.\n",
    "    for c in fields:\n",
    "        df[c] = f'{c}_' + df[c].astype('str')\n",
    "    # TODO: we could hash all features at this stage.\n",
    "    # TODO: hash into a smaller space to make the dict smaller\n",
    "    #df[fields] = df[fields].applymap(hash)\n",
    "    # Index features from all fields.\n",
    "    features_concat = pd.concat([df[c] for c in fields], ignore_index=True)\n",
    "    uniques = features_concat.unique()\n",
    "    return pd.Series(np.arange(len(uniques)),index=uniques)\n",
    "\n",
    "def encode_features(df, feature_dict, fields):\n",
    "    # df.replace(feature_dict) doesn't fit in memory.\n",
    "    # optimize by splitting the feature_dict into dictionaries corresponding to fields.\n",
    "    replace_dict = dict()\n",
    "    for c in fields:\n",
    "        replace_dict[c] = {k: v for k, v in feature_dict.items() \n",
    "                           if k.startswith(c)}\n",
    "    \n",
    "    return df.replace(replace_dict)"
   ]
  },
  {
   "cell_type": "code",
   "execution_count": 3,
   "metadata": {},
   "outputs": [],
   "source": [
    "categorical_features = ['banner_pos', 'platform_id', 'platform_domain', 'platform_category',\n",
    "                    'user', 'device_conn_type', 'C14','C17','C20','C21']"
   ]
  },
  {
   "cell_type": "markdown",
   "metadata": {},
   "source": [
    "## Develop splits for cross-validation\n",
    "Need to develop a cross-validation suite for the libffm format.\n",
    "Start with last day vs rest."
   ]
  },
  {
   "cell_type": "markdown",
   "metadata": {},
   "source": [
    "## Encode while writing to file\n",
    "04m30s to write site-small, 02m30s for app-small."
   ]
  },
  {
   "cell_type": "code",
   "execution_count": 4,
   "metadata": {
    "scrolled": true
   },
   "outputs": [
    {
     "data": {
      "text/html": [
       "<div>\n",
       "<style scoped>\n",
       "    .dataframe tbody tr th:only-of-type {\n",
       "        vertical-align: middle;\n",
       "    }\n",
       "\n",
       "    .dataframe tbody tr th {\n",
       "        vertical-align: top;\n",
       "    }\n",
       "\n",
       "    .dataframe thead th {\n",
       "        text-align: right;\n",
       "    }\n",
       "</style>\n",
       "<table border=\"1\" class=\"dataframe\">\n",
       "  <thead>\n",
       "    <tr style=\"text-align: right;\">\n",
       "      <th></th>\n",
       "      <th>banner_pos</th>\n",
       "      <th>platform_id</th>\n",
       "      <th>platform_domain</th>\n",
       "      <th>platform_category</th>\n",
       "      <th>user</th>\n",
       "      <th>device_conn_type</th>\n",
       "      <th>C14</th>\n",
       "      <th>C17</th>\n",
       "      <th>C20</th>\n",
       "      <th>C21</th>\n",
       "      <th>click</th>\n",
       "    </tr>\n",
       "  </thead>\n",
       "  <tbody>\n",
       "    <tr>\n",
       "      <th>0</th>\n",
       "      <td>0</td>\n",
       "      <td>5b08c53b</td>\n",
       "      <td>7687a86e</td>\n",
       "      <td>3e814130</td>\n",
       "      <td>4665f0a5_36d749e5</td>\n",
       "      <td>0</td>\n",
       "      <td>21834</td>\n",
       "      <td>2523</td>\n",
       "      <td>-1</td>\n",
       "      <td>221</td>\n",
       "      <td>0</td>\n",
       "    </tr>\n",
       "    <tr>\n",
       "      <th>1</th>\n",
       "      <td>0</td>\n",
       "      <td>5b08c53b</td>\n",
       "      <td>7687a86e</td>\n",
       "      <td>3e814130</td>\n",
       "      <td>80df79b5_76dc4769</td>\n",
       "      <td>0</td>\n",
       "      <td>20093</td>\n",
       "      <td>2295</td>\n",
       "      <td>100077</td>\n",
       "      <td>23</td>\n",
       "      <td>1</td>\n",
       "    </tr>\n",
       "    <tr>\n",
       "      <th>2</th>\n",
       "      <td>0</td>\n",
       "      <td>1fbe01fe</td>\n",
       "      <td>f3845767</td>\n",
       "      <td>28905ebd</td>\n",
       "      <td>693bff3e_4ea23a13</td>\n",
       "      <td>0</td>\n",
       "      <td>21761</td>\n",
       "      <td>2502</td>\n",
       "      <td>-1</td>\n",
       "      <td>221</td>\n",
       "      <td>0</td>\n",
       "    </tr>\n",
       "    <tr>\n",
       "      <th>3</th>\n",
       "      <td>0</td>\n",
       "      <td>1a5c1d83</td>\n",
       "      <td>5dddf09e</td>\n",
       "      <td>f028772b</td>\n",
       "      <td>2773b1c8_d787e91b</td>\n",
       "      <td>0</td>\n",
       "      <td>17239</td>\n",
       "      <td>1973</td>\n",
       "      <td>-1</td>\n",
       "      <td>23</td>\n",
       "      <td>0</td>\n",
       "    </tr>\n",
       "    <tr>\n",
       "      <th>4</th>\n",
       "      <td>1</td>\n",
       "      <td>b7e9786d</td>\n",
       "      <td>b12b9f85</td>\n",
       "      <td>f028772b</td>\n",
       "      <td>b200f41e_8a4875bd</td>\n",
       "      <td>0</td>\n",
       "      <td>21875</td>\n",
       "      <td>2526</td>\n",
       "      <td>100079</td>\n",
       "      <td>221</td>\n",
       "      <td>0</td>\n",
       "    </tr>\n",
       "  </tbody>\n",
       "</table>\n",
       "</div>"
      ],
      "text/plain": [
       "   banner_pos platform_id platform_domain platform_category  \\\n",
       "0           0    5b08c53b        7687a86e          3e814130   \n",
       "1           0    5b08c53b        7687a86e          3e814130   \n",
       "2           0    1fbe01fe        f3845767          28905ebd   \n",
       "3           0    1a5c1d83        5dddf09e          f028772b   \n",
       "4           1    b7e9786d        b12b9f85          f028772b   \n",
       "\n",
       "                user  device_conn_type    C14   C17     C20  C21  click  \n",
       "0  4665f0a5_36d749e5                 0  21834  2523      -1  221      0  \n",
       "1  80df79b5_76dc4769                 0  20093  2295  100077   23      1  \n",
       "2  693bff3e_4ea23a13                 0  21761  2502      -1  221      0  \n",
       "3  2773b1c8_d787e91b                 0  17239  1973      -1   23      0  \n",
       "4  b200f41e_8a4875bd                 0  21875  2526  100079  221      0  "
      ]
     },
     "execution_count": 4,
     "metadata": {},
     "output_type": "execute_result"
    }
   ],
   "source": [
    "df = pd.read_csv('./data/train_tiny.csv')\n",
    "df.hour = pd.to_datetime(df.hour, format=\"%y%m%d%H\")\n",
    "df = create_user(df)\n",
    "df_site, df_app = site_app_split(df)\n",
    "df_site = df_site[categorical_features + ['click']]\n",
    "df_app = df_app[categorical_features + ['click']]\n",
    "df_site.head()"
   ]
  },
  {
   "cell_type": "code",
   "execution_count": 5,
   "metadata": {},
   "outputs": [],
   "source": [
    "site_field_dict = make_field_dict(df_site, categorical_features)\n",
    "site_feature_dict = make_feature_dict(df_site, categorical_features)\n",
    "#df_site_encoded = encode_features(df_site, site_feature_dict, categorical_features)\n",
    "#df_site_encoded.head()"
   ]
  },
  {
   "cell_type": "code",
   "execution_count": 6,
   "metadata": {},
   "outputs": [],
   "source": [
    "app_field_dict = make_field_dict(df_app, categorical_features)\n",
    "app_feature_dict = make_feature_dict(df_app, categorical_features)\n",
    "#df_app_encoded = encode_features(df_app, app_feature_dict, categorical_features)"
   ]
  },
  {
   "cell_type": "code",
   "execution_count": 7,
   "metadata": {},
   "outputs": [],
   "source": [
    "#df_site_encoded.columns[:-1]"
   ]
  },
  {
   "cell_type": "code",
   "execution_count": 8,
   "metadata": {},
   "outputs": [],
   "source": [
    "def ffm_row_generator(df, feature_dict):\n",
    "    \"\"\"\n",
    "    Convert each row to the libffm format, accroding to a provided dict.\n",
    "    \"\"\"\n",
    "    assert df.columns[-1] == 'click'\n",
    "    for i, row in df.iterrows():\n",
    "        ffm_row = []\n",
    "        ffm_row.append(str(row['click']))\n",
    "        for i, v in enumerate(row[:-1]):\n",
    "            ffm_row.append(f'{i}:{feature_dict[v]}:1')\n",
    "        yield ' '.join(ffm_row)"
   ]
  },
  {
   "cell_type": "code",
   "execution_count": 9,
   "metadata": {},
   "outputs": [
    {
     "name": "stdout",
     "output_type": "stream",
     "text": [
      "CPU times: user 277 ms, sys: 0 ns, total: 277 ms\n",
      "Wall time: 277 ms\n"
     ]
    }
   ],
   "source": [
    "%%time\n",
    "with open('./data/train_site_tiny.ffm', 'w') as f:\n",
    "    for ffm_row in ffm_row_generator(df_site, site_feature_dict):\n",
    "        f.write(ffm_row)\n",
    "        f.write('\\n')"
   ]
  },
  {
   "cell_type": "code",
   "execution_count": 10,
   "metadata": {},
   "outputs": [
    {
     "name": "stdout",
     "output_type": "stream",
     "text": [
      "CPU times: user 165 ms, sys: 36 µs, total: 165 ms\n",
      "Wall time: 163 ms\n"
     ]
    }
   ],
   "source": [
    "%%time\n",
    "with open('./data/train_app_tiny.ffm', 'w') as f:\n",
    "    for ffm_row in ffm_row_generator(df_app, app_feature_dict):\n",
    "        f.write(ffm_row)\n",
    "        f.write('\\n')"
   ]
  },
  {
   "cell_type": "code",
   "execution_count": null,
   "metadata": {},
   "outputs": [],
   "source": []
  },
  {
   "cell_type": "code",
   "execution_count": 11,
   "metadata": {},
   "outputs": [
    {
     "ename": "RuntimeError",
     "evalue": "No active exception to reraise",
     "output_type": "error",
     "traceback": [
      "\u001b[0;31m---------------------------------------------------------------------------\u001b[0m",
      "\u001b[0;31mRuntimeError\u001b[0m                              Traceback (most recent call last)",
      "\u001b[0;32m<ipython-input-11-9c9a2cba73bf>\u001b[0m in \u001b[0;36m<module>\u001b[0;34m\u001b[0m\n\u001b[0;32m----> 1\u001b[0;31m \u001b[0;32mraise\u001b[0m\u001b[0;34m\u001b[0m\u001b[0m\n\u001b[0m",
      "\u001b[0;31mRuntimeError\u001b[0m: No active exception to reraise"
     ]
    }
   ],
   "source": [
    "raise"
   ]
  },
  {
   "cell_type": "markdown",
   "metadata": {},
   "source": [
    "## `totoruo/FfmEncoder`\n",
    "Gets stuck at 'converting data...' at line 353.\n",
    "Try `Bobe24/Dataframe2libffm`."
   ]
  },
  {
   "cell_type": "code",
   "execution_count": null,
   "metadata": {},
   "outputs": [],
   "source": [
    "df = pd.read_csv('./data/train_tiny.csv')\n",
    "df.hour = pd.to_datetime(df.hour, format=\"%y%m%d%H\")\n",
    "df = create_user(df)\n",
    "df_site, df_app = site_app_split(df)"
   ]
  },
  {
   "cell_type": "code",
   "execution_count": null,
   "metadata": {},
   "outputs": [],
   "source": [
    "categorical_features = ['banner_pos', 'platform_id', 'platform_category',\n",
    "                        'user', 'device_conn_type', 'C14','C17','C20','C21']"
   ]
  },
  {
   "cell_type": "code",
   "execution_count": null,
   "metadata": {},
   "outputs": [],
   "source": [
    "from tools.FfmEncoder import FfmEncoder"
   ]
  },
  {
   "cell_type": "code",
   "execution_count": null,
   "metadata": {},
   "outputs": [],
   "source": [
    "encoder = FfmEncoder(categorical_features, label_name='click', nthread=2)"
   ]
  },
  {
   "cell_type": "code",
   "execution_count": null,
   "metadata": {},
   "outputs": [],
   "source": [
    "encoder.transform(df_app, 'train_app.ffm')"
   ]
  },
  {
   "cell_type": "code",
   "execution_count": null,
   "metadata": {},
   "outputs": [],
   "source": [
    "raise"
   ]
  },
  {
   "cell_type": "markdown",
   "metadata": {},
   "source": [
    "## LibFFM conversion stats: memory issue\n",
    "With categorical_features = ['banner_pos', 'platform_id', 'platform_domain', 'platform_category',\n",
    "                        'user', 'device_conn_type', 'C14','C17','C20','C21']\n",
    "- just a few seconds to build feature_dict for app-small.\n",
    "- 12s for app-mid. len = 0.8M\n",
    "- 21s for site-mid. len = 1.6M\n",
    "- encode_features exhausts memory..."
   ]
  },
  {
   "cell_type": "code",
   "execution_count": null,
   "metadata": {},
   "outputs": [],
   "source": [
    "def make_field_dict(df, fields):\n",
    "    \"\"\"\n",
    "    fields: Array[String] - a list of column names\n",
    "    A field dictionary is just an inverted column index.\n",
    "    \"\"\"\n",
    "    return {col: i for i, col in enumerate(fields)}\n",
    "\n",
    "def make_feature_dict(df, fields):\n",
    "    # prepend a field name to each feature in order to distinguish \n",
    "    # a feature name present in two or more fields.\n",
    "    for c in fields:\n",
    "        df[c] = f'{c}_' + df[c].astype('str')\n",
    "    # TODO: decide whether to hash all features at this stage.\n",
    "    # TODO: hash into a smaller space to make the dict smaller\n",
    "    #df[fields] = df[fields].applymap(hash)\n",
    "    # Index features from all fields.\n",
    "    features_concat = pd.concat([df[c] for c in fields], ignore_index=True)\n",
    "    uniques = features_concat.unique()\n",
    "    return pd.Series(np.arange(len(uniques)),index=uniques)\n",
    "\n",
    "def encode_features(df, feature_dict):\n",
    "    return df.replace(feature_dict)\n",
    "\n",
    "def encode_features_old(df, feature_dict, fields):\n",
    "    # df.replace(feature_dict) doesn't fit in memory.\n",
    "    # optimize by splitting the feature_dict into dictionaries corresponding to fields.\n",
    "    replace_dict = dict()\n",
    "    for c in fields:\n",
    "        replace_dict[c] = {k: v for k, v in feature_dict.items() \n",
    "                           if k.startswith(c)}\n",
    "    \n",
    "    return df.replace(replace_dict)"
   ]
  },
  {
   "cell_type": "code",
   "execution_count": null,
   "metadata": {
    "scrolled": true
   },
   "outputs": [],
   "source": [
    "df = pd.read_csv('./data/train_small.csv')\n",
    "df.hour = pd.to_datetime(df.hour, format=\"%y%m%d%H\")\n",
    "df = create_user(df)\n",
    "df_site, df_app = site_app_split(df)"
   ]
  },
  {
   "cell_type": "code",
   "execution_count": null,
   "metadata": {},
   "outputs": [],
   "source": [
    "#categorical_features = ['banner_pos', 'platform_id', 'platform_domain', 'platform_category',\n",
    "#                        'user', 'device_conn_type', 'C14','C17','C20','C21']\n",
    "categorical_features = ['banner_pos', 'platform_id', 'platform_domain', 'platform_category',\n",
    "                         'device_conn_type', 'C14','C17','C20','C21']"
   ]
  },
  {
   "cell_type": "code",
   "execution_count": null,
   "metadata": {},
   "outputs": [],
   "source": [
    "field_dict = make_field_dict(df_site, categorical_features)\n",
    "feature_dict = make_feature_dict(df_site, categorical_features)"
   ]
  },
  {
   "cell_type": "code",
   "execution_count": null,
   "metadata": {},
   "outputs": [],
   "source": [
    "%%time\n",
    "df_site_encoded = encode_features(df_site, feature_dict)"
   ]
  },
  {
   "cell_type": "code",
   "execution_count": null,
   "metadata": {},
   "outputs": [],
   "source": [
    "len(feature_dict)"
   ]
  },
  {
   "cell_type": "code",
   "execution_count": null,
   "metadata": {},
   "outputs": [],
   "source": [
    "raise"
   ]
  },
  {
   "cell_type": "markdown",
   "metadata": {},
   "source": [
    "## Develop LibFFM format converter\n",
    "Refer to the Data Format section of https://github.com/guestwalk/libffm ."
   ]
  },
  {
   "cell_type": "code",
   "execution_count": null,
   "metadata": {},
   "outputs": [],
   "source": [
    "df = pd.read_csv('./data/train_tiny.csv')\n",
    "categorical_features = ['C1','device_type']\n",
    "df.head()"
   ]
  },
  {
   "cell_type": "code",
   "execution_count": null,
   "metadata": {},
   "outputs": [],
   "source": [
    "field_dict = make_field_dict(df, categorical_features)\n",
    "feature_dict = make_feature_dict(df, categorical_features)"
   ]
  },
  {
   "cell_type": "code",
   "execution_count": null,
   "metadata": {
    "scrolled": true
   },
   "outputs": [],
   "source": [
    "feature_dict"
   ]
  },
  {
   "cell_type": "code",
   "execution_count": null,
   "metadata": {},
   "outputs": [],
   "source": [
    "df_encoded = encode_features(df, feature_dict)"
   ]
  },
  {
   "cell_type": "code",
   "execution_count": null,
   "metadata": {},
   "outputs": [],
   "source": []
  },
  {
   "cell_type": "markdown",
   "metadata": {},
   "source": [
    "## Quickstart\n",
    "xl has ffm, fm, and linear models. ffm models only take the libffm format, while others take csv or the libsvm format."
   ]
  },
  {
   "cell_type": "code",
   "execution_count": null,
   "metadata": {},
   "outputs": [],
   "source": [
    "ffm_model = xl.create_ffm()"
   ]
  },
  {
   "cell_type": "code",
   "execution_count": null,
   "metadata": {},
   "outputs": [],
   "source": [
    "ffm_model.setTrain('./data/small_train.txt')"
   ]
  },
  {
   "cell_type": "code",
   "execution_count": null,
   "metadata": {},
   "outputs": [],
   "source": [
    "# param:\n",
    "#  0. task: binary classification\n",
    "#  1. learning rate : 0.2\n",
    "#  2. regular lambda : 0.002\n",
    "param = {'task':'binary', 'lr':0.2, 'lambda':0.002}"
   ]
  },
  {
   "cell_type": "code",
   "execution_count": null,
   "metadata": {},
   "outputs": [],
   "source": [
    "ffm_model.fit(param, \"./model.out\")"
   ]
  },
  {
   "cell_type": "code",
   "execution_count": null,
   "metadata": {},
   "outputs": [],
   "source": [
    "ffm_model.setTest('./data/small_test.txt')"
   ]
  },
  {
   "cell_type": "code",
   "execution_count": null,
   "metadata": {},
   "outputs": [],
   "source": [
    "ffm_model.predict('./model.out', './xlearn-output.txt')"
   ]
  },
  {
   "cell_type": "code",
   "execution_count": null,
   "metadata": {},
   "outputs": [],
   "source": []
  },
  {
   "cell_type": "markdown",
   "metadata": {},
   "source": [
    "## xlearn with its sklearn API (deprecated)\n",
    "FFMModel.fit takes array-like. The format of its fields argument is unclear."
   ]
  },
  {
   "cell_type": "code",
   "execution_count": null,
   "metadata": {
    "scrolled": false
   },
   "outputs": [],
   "source": [
    "ffm = xl.FFMModel(task='binary', lr=0.2, epoch=10, reg_lambda=0.002, metric='acc')\n",
    "#ffm.fit('./data/small_train.txt')"
   ]
  }
 ],
 "metadata": {
  "kernelspec": {
   "display_name": "Python 3",
   "language": "python",
   "name": "python3"
  },
  "language_info": {
   "codemirror_mode": {
    "name": "ipython",
    "version": 3
   },
   "file_extension": ".py",
   "mimetype": "text/x-python",
   "name": "python",
   "nbconvert_exporter": "python",
   "pygments_lexer": "ipython3",
   "version": "3.6.6"
  }
 },
 "nbformat": 4,
 "nbformat_minor": 2
}
