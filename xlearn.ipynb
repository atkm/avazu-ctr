{
 "cells": [
  {
   "cell_type": "code",
   "execution_count": 1,
   "metadata": {},
   "outputs": [],
   "source": [
    "import xlearn as xl\n",
    "import pandas as pd\n",
    "import numpy as np\n",
    "\n",
    "from models.base import create_user, site_app_split"
   ]
  },
  {
   "cell_type": "markdown",
   "metadata": {},
   "source": [
    "## `totoruo/FfmEncoder`\n",
    "Gets stuck at 'converting data...' at line 353.\n",
    "Try `Bobe24/Dataframe2libffm`."
   ]
  },
  {
   "cell_type": "code",
   "execution_count": 2,
   "metadata": {},
   "outputs": [],
   "source": [
    "df = pd.read_csv('./data/train_tiny.csv')\n",
    "df.hour = pd.to_datetime(df.hour, format=\"%y%m%d%H\")\n",
    "df = create_user(df)\n",
    "df_site, df_app = site_app_split(df)"
   ]
  },
  {
   "cell_type": "code",
   "execution_count": 3,
   "metadata": {},
   "outputs": [],
   "source": [
    "categorical_features = ['banner_pos', 'platform_id', 'platform_category',\n",
    "                        'user', 'device_conn_type', 'C14','C17','C20','C21']"
   ]
  },
  {
   "cell_type": "code",
   "execution_count": 4,
   "metadata": {},
   "outputs": [],
   "source": [
    "from tools.FfmEncoder import FfmEncoder"
   ]
  },
  {
   "cell_type": "code",
   "execution_count": 5,
   "metadata": {},
   "outputs": [],
   "source": [
    "encoder = FfmEncoder(categorical_features, label_name='click', nthread=2)"
   ]
  },
  {
   "cell_type": "code",
   "execution_count": 6,
   "metadata": {},
   "outputs": [
    {
     "name": "stdout",
     "output_type": "stream",
     "text": [
      "converting data......\n"
     ]
    }
   ],
   "source": [
    "encoder.transform(df_app, 'train_app.ffm')"
   ]
  },
  {
   "cell_type": "code",
   "execution_count": 7,
   "metadata": {},
   "outputs": [
    {
     "ename": "RuntimeError",
     "evalue": "No active exception to reraise",
     "output_type": "error",
     "traceback": [
      "\u001b[0;31m---------------------------------------------------------------------------\u001b[0m",
      "\u001b[0;31mRuntimeError\u001b[0m                              Traceback (most recent call last)",
      "\u001b[0;32m<ipython-input-7-9c9a2cba73bf>\u001b[0m in \u001b[0;36m<module>\u001b[0;34m\u001b[0m\n\u001b[0;32m----> 1\u001b[0;31m \u001b[0;32mraise\u001b[0m\u001b[0;34m\u001b[0m\u001b[0m\n\u001b[0m",
      "\u001b[0;31mRuntimeError\u001b[0m: No active exception to reraise"
     ]
    }
   ],
   "source": [
    "raise"
   ]
  },
  {
   "cell_type": "markdown",
   "metadata": {},
   "source": [
    "## LibFFM conversion stats: memory issue\n",
    "With categorical_features = ['banner_pos', 'platform_id', 'platform_domain', 'platform_category',\n",
    "                        'user', 'device_conn_type', 'C14','C17','C20','C21']\n",
    "- just a few seconds to build feature_dict for app-small.\n",
    "- 12s for app-mid. len = 0.8M\n",
    "- 21s for site-mid. len = 1.6M\n",
    "- encode_features exhausts memory..."
   ]
  },
  {
   "cell_type": "code",
   "execution_count": null,
   "metadata": {},
   "outputs": [],
   "source": [
    "def make_field_dict(df, fields):\n",
    "    \"\"\"\n",
    "    fields: Array[String] - a list of column names\n",
    "    A field dictionary is just an inverted column index.\n",
    "    \"\"\"\n",
    "    return {col: i for i, col in enumerate(fields)}\n",
    "\n",
    "def make_feature_dict(df, fields):\n",
    "    # prepend a field name to each feature in order to distinguish \n",
    "    # a feature name present in two or more fields.\n",
    "    for c in fields:\n",
    "        df[c] = f'{c}_' + df[c].astype('str')\n",
    "    # TODO: we could hash all features at this stage.\n",
    "    # TODO: hash into a smaller space to make the dict smaller\n",
    "    df[fields] = df[fields].applymap(hash)\n",
    "    # Index features from all fields.\n",
    "    features_concat = pd.concat([df[c] for c in fields], ignore_index=True)\n",
    "    uniques = features_concat.unique()\n",
    "    return pd.Series(np.arange(len(uniques)),index=uniques)\n",
    "\n",
    "def encode_features(df, feature_dict):\n",
    "    return df.replace(feature_dict)\n",
    "\n",
    "def encode_features_old(df, feature_dict, fields):\n",
    "    # df.replace(feature_dict) doesn't fit in memory.\n",
    "    # optimize by splitting the feature_dict into dictionaries corresponding to fields.\n",
    "    replace_dict = dict()\n",
    "    for c in fields:\n",
    "        replace_dict[c] = {k: v for k, v in feature_dict.items() \n",
    "                           if k.startswith(c)}\n",
    "    \n",
    "    return df.replace(replace_dict)"
   ]
  },
  {
   "cell_type": "code",
   "execution_count": null,
   "metadata": {},
   "outputs": [],
   "source": []
  },
  {
   "cell_type": "code",
   "execution_count": null,
   "metadata": {
    "scrolled": true
   },
   "outputs": [],
   "source": [
    "df = pd.read_csv('./data/train_small.csv')\n",
    "df.hour = pd.to_datetime(df.hour, format=\"%y%m%d%H\")\n",
    "df = create_user(df)\n",
    "df_site, df_app = site_app_split(df)"
   ]
  },
  {
   "cell_type": "code",
   "execution_count": null,
   "metadata": {},
   "outputs": [],
   "source": [
    "categorical_features = ['banner_pos', 'platform_id', 'platform_domain', 'platform_category',\n",
    "                        'user', 'device_conn_type', 'C14','C17','C20','C21']"
   ]
  },
  {
   "cell_type": "code",
   "execution_count": null,
   "metadata": {},
   "outputs": [],
   "source": [
    "field_dict = make_field_dict(df_site, categorical_features)\n",
    "feature_dict = make_feature_dict(df_site, categorical_features)"
   ]
  },
  {
   "cell_type": "code",
   "execution_count": null,
   "metadata": {},
   "outputs": [],
   "source": [
    "%%time\n",
    "df_site_encoded = encode_features(df_site, feature_dict)"
   ]
  },
  {
   "cell_type": "code",
   "execution_count": null,
   "metadata": {},
   "outputs": [],
   "source": [
    "len(feature_dict)"
   ]
  },
  {
   "cell_type": "code",
   "execution_count": null,
   "metadata": {},
   "outputs": [],
   "source": [
    "raise"
   ]
  },
  {
   "cell_type": "markdown",
   "metadata": {},
   "source": [
    "## Develop LibFFM format converter\n",
    "Refer to the Data Format section of https://github.com/guestwalk/libffm ."
   ]
  },
  {
   "cell_type": "code",
   "execution_count": null,
   "metadata": {},
   "outputs": [],
   "source": [
    "df = pd.read_csv('./data/train_tiny.csv')\n",
    "categorical_features = ['C1','device_type']\n",
    "df.head()"
   ]
  },
  {
   "cell_type": "code",
   "execution_count": null,
   "metadata": {},
   "outputs": [],
   "source": [
    "field_dict = make_field_dict(df, categorical_features)\n",
    "feature_dict = make_feature_dict(df, categorical_features)"
   ]
  },
  {
   "cell_type": "code",
   "execution_count": null,
   "metadata": {
    "scrolled": true
   },
   "outputs": [],
   "source": [
    "feature_dict"
   ]
  },
  {
   "cell_type": "code",
   "execution_count": null,
   "metadata": {},
   "outputs": [],
   "source": [
    "df_encoded = encode_features(df, feature_dict)"
   ]
  },
  {
   "cell_type": "code",
   "execution_count": null,
   "metadata": {},
   "outputs": [],
   "source": []
  },
  {
   "cell_type": "markdown",
   "metadata": {},
   "source": [
    "## Quickstart\n",
    "xl has ffm, fm, and linear models. ffm models only take the libffm format, while others take csv or the libsvm format."
   ]
  },
  {
   "cell_type": "code",
   "execution_count": null,
   "metadata": {},
   "outputs": [],
   "source": [
    "ffm_model = xl.create_ffm()"
   ]
  },
  {
   "cell_type": "code",
   "execution_count": null,
   "metadata": {},
   "outputs": [],
   "source": [
    "ffm_model.setTrain('./data/small_train.txt')"
   ]
  },
  {
   "cell_type": "code",
   "execution_count": null,
   "metadata": {},
   "outputs": [],
   "source": [
    "# param:\n",
    "#  0. task: binary classification\n",
    "#  1. learning rate : 0.2\n",
    "#  2. regular lambda : 0.002\n",
    "param = {'task':'binary', 'lr':0.2, 'lambda':0.002}"
   ]
  },
  {
   "cell_type": "code",
   "execution_count": null,
   "metadata": {},
   "outputs": [],
   "source": [
    "ffm_model.fit(param, \"./model.out\")"
   ]
  },
  {
   "cell_type": "code",
   "execution_count": null,
   "metadata": {},
   "outputs": [],
   "source": [
    "ffm_model.setTest('./data/small_test.txt')"
   ]
  },
  {
   "cell_type": "code",
   "execution_count": null,
   "metadata": {},
   "outputs": [],
   "source": [
    "ffm_model.predict('./model.out', './xlearn-output.txt')"
   ]
  },
  {
   "cell_type": "code",
   "execution_count": null,
   "metadata": {},
   "outputs": [],
   "source": []
  },
  {
   "cell_type": "markdown",
   "metadata": {},
   "source": [
    "## xlearn with its sklearn API (deprecated)\n",
    "FFMModel.fit takes array-like. The format of its fields argument is unclear."
   ]
  },
  {
   "cell_type": "code",
   "execution_count": null,
   "metadata": {
    "scrolled": false
   },
   "outputs": [],
   "source": [
    "ffm = xl.FFMModel(task='binary', lr=0.2, epoch=10, reg_lambda=0.002, metric='acc')\n",
    "#ffm.fit('./data/small_train.txt')"
   ]
  }
 ],
 "metadata": {
  "kernelspec": {
   "display_name": "Python 3",
   "language": "python",
   "name": "python3"
  },
  "language_info": {
   "codemirror_mode": {
    "name": "ipython",
    "version": 3
   },
   "file_extension": ".py",
   "mimetype": "text/x-python",
   "name": "python",
   "nbconvert_exporter": "python",
   "pygments_lexer": "ipython3",
   "version": "3.6.6"
  }
 },
 "nbformat": 4,
 "nbformat_minor": 2
}
