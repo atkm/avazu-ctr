{
 "cells": [
  {
   "cell_type": "markdown",
   "metadata": {},
   "source": [
    "Tune learning rate (-r) and regularization strength (-b).\n",
    "Do randomized grid search."
   ]
  },
  {
   "cell_type": "code",
   "execution_count": 1,
   "metadata": {},
   "outputs": [],
   "source": [
    "import numpy as np\n",
    "import os\n",
    "import re\n",
    "import subprocess"
   ]
  },
  {
   "cell_type": "code",
   "execution_count": 6,
   "metadata": {},
   "outputs": [],
   "source": [
    "def parse_best_loss(run_result):\n",
    "    lines = run_result.stdout.decode().split('\\n')\n",
    "    best_loss_line = [l for l in lines if 'best loss' in l]\n",
    "    if best_loss_line:\n",
    "        best_loss_line = best_loss_line[0]\n",
    "        best_loss = re.search(r'best loss: (\\d+.\\d+)', best_loss_line).group(1)\n",
    "        return float(best_loss)\n",
    "    else:\n",
    "        # No line matches 'best loss' if early stopping wasn't necessary.\n",
    "        # Given the fact that FFM is very likely to overfit, this result\n",
    "        # is most likely not of our interest.\n",
    "        return np.nan\n",
    "\n",
    "def eval_param(train_set, validation_set, model_type='2', learning_rate=0.2, reg_param=1e-5):\n",
    "    xlearn_train = '~/code/xlearn/build/xlearn_train'\n",
    "    command = [xlearn_train, train_set,\n",
    "          '-s', str(model_type),\n",
    "         '-v', validation_set,\n",
    "          '-r', str(learning_rate),\n",
    "               '-b', str(reg_param)]\n",
    "    command = ' '.join(command)\n",
    "    result = subprocess.run(command, stdout=subprocess.PIPE, shell=True)\n",
    "    return parse_best_loss(result)\n",
    "\n",
    "def log_uniform(low=0, high=1, size=None):\n",
    "    return np.power(10, np.random.uniform(low, high, size))\n",
    "\n",
    "def eval_param_ls(train_set, validation_set, learning_rates, reg_params):\n",
    "    scores = [eval_param(train_set, validation_set, lr, reg)\n",
    "              for lr, reg in zip(learning_rates, reg_params)]\n",
    "    print(scores)\n",
    "    maxidx = np.nanargmin(np.array(scores))\n",
    "    max_score = scores[maxidx]\n",
    "    best_lr = learning_rates[maxidx]\n",
    "    best_reg = reg_params[maxidx]\n",
    "    return max_score, best_lr, best_reg, scores"
   ]
  },
  {
   "cell_type": "code",
   "execution_count": 7,
   "metadata": {
    "scrolled": true
   },
   "outputs": [
    {
     "name": "stdout",
     "output_type": "stream",
     "text": [
      "[0.05535535 0.5857477  0.05374603 0.06783252 0.02074139 0.04612233\n",
      " 0.32910007 0.14424511 0.01100821 0.41153041 0.13126246 0.06129916\n",
      " 0.3736754  0.02371638 0.40141611 0.01787572]\n",
      "[2.64424247e+01 5.92750326e-05 2.49799312e-02 4.79095577e-02\n",
      " 7.43024019e+03 2.28875503e-05 2.22506996e+02 7.55037980e-04\n",
      " 5.36140667e+01 5.20784311e-05 3.39181974e+02 3.76248982e-01\n",
      " 2.57895235e-03 6.47502203e-04 8.12278280e+01 2.70658691e-05]\n"
     ]
    }
   ],
   "source": [
    "size=16\n",
    "learning_rates = log_uniform(-2,0,size) # default = 0.2\n",
    "reg_params = log_uniform(-6,4,size) # default = 1e-5\n",
    "print(learning_rates)\n",
    "print(reg_params)"
   ]
  },
  {
   "cell_type": "code",
   "execution_count": 10,
   "metadata": {},
   "outputs": [],
   "source": [
    "project_path = '~/code/avazu-ctr/'\n",
    "xlearn_train = '~/code/xlearn/build/xlearn_train'\n",
    "train_set = os.path.join(project_path, 'ffm-data/train_site_small.ffm')\n",
    "validation_set = os.path.join(project_path, 'ffm-data/validate_site_small.ffm')"
   ]
  },
  {
   "cell_type": "code",
   "execution_count": 11,
   "metadata": {},
   "outputs": [
    {
     "name": "stdout",
     "output_type": "stream",
     "text": [
      "[2.264441, nan, nan, 0.449428, 3.4028234663852886e+38, nan, 3.4028234663852886e+38, nan, 3.4028234663852886e+38, nan, 3.4028234663852886e+38, 0.455382, nan, nan, 3.4028234663852886e+38, nan]\n"
     ]
    },
    {
     "data": {
      "text/plain": [
       "(0.449428, 0.06783252480163421, 0.04790955765446936)"
      ]
     },
     "execution_count": 11,
     "metadata": {},
     "output_type": "execute_result"
    }
   ],
   "source": [
    "eval_param_ls(train_set, validation_set, learning_rates, reg_params)"
   ]
  },
  {
   "cell_type": "code",
   "execution_count": null,
   "metadata": {},
   "outputs": [],
   "source": []
  }
 ],
 "metadata": {
  "kernelspec": {
   "display_name": "Python 3",
   "language": "python",
   "name": "python3"
  },
  "language_info": {
   "codemirror_mode": {
    "name": "ipython",
    "version": 3
   },
   "file_extension": ".py",
   "mimetype": "text/x-python",
   "name": "python",
   "nbconvert_exporter": "python",
   "pygments_lexer": "ipython3",
   "version": "3.6.6"
  }
 },
 "nbformat": 4,
 "nbformat_minor": 2
}
