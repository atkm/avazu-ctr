{
 "cells": [
  {
   "cell_type": "markdown",
   "metadata": {},
   "source": [
    "Tune learning rate (-r) and regularization strength (-b).\n",
    "Do randomized grid search."
   ]
  },
  {
   "cell_type": "code",
   "execution_count": 1,
   "metadata": {},
   "outputs": [],
   "source": [
    "import numpy as np\n",
    "import os\n",
    "import re\n",
    "import subprocess"
   ]
  },
  {
   "cell_type": "markdown",
   "metadata": {},
   "source": [
    "## Results\n",
    "- 'mid' w/ categorical_features = ['banner_pos', 'platform_id', 'platform_domain', 'platform_category', 'user', 'device_conn_type', 'C14','C17','C20','C21', 'user_count', 'hourly_user_count'].\n",
    "    + `train_site_mid` 01h.\n",
    "    (lr, reg) = (0.290019974611113, 2.051767014532633e-05, 0.448956),\n",
    " (0.18840479455932513, 9.153173826539158e-06, 0.449061),\n",
    " (0.15771034111193996, 7.338765445403715e-06, 0.449214)\n",
    "    + `train_app_mid` 32m.\n",
    "    (lr, reg) = (0.5518474237040196, 0.00010336592954287885, 0.340482),\n",
    " (1.6906957278948453, 0.00013600060002962432, 0.340784),\n",
    " (0.7834994600028368, 3.7867217328877597e-06, 0.341407)\n",
    "- w/ categorical_features = ['banner_pos', 'platform_id', 'platform_domain', 'platform_category', 'user', 'device_conn_type', 'C14','C17','C20','C21', 'user_count', 'hourly_user_count'].\n",
    "    + `train_site_small` 13m50s.\n",
    "    (lr, reg, score): (0.1157877514591988, 0.00010297066722417676, 0.449593),\n",
    " (0.17276795944769952, 0.00026624089656912645, 0.449598),\n",
    " (0.06292291117472452, 1.1952337794472005e-05, 0.449744)\n",
    "    + `train_app_small` 07m.\n",
    "    (0.3281065401364318, 7.611745290054109e-05, 0.343128),\n",
    " (0.5070861837562135, 5.456547188985162e-05, 0.343247),\n",
    " (0.404193004199436, 0.0007289347911615925, 0.34375)\n",
    "- w/ device_* cols\n",
    "    + `train_site_small`: 26m.\n",
    "        (lr, reg, score): (0.27036067125394514, 0.0002883992671365484, 0.446741),\n",
    " (0.13684364782198308, 7.794451026230775e-06, 0.446769),\n",
    " (0.0706468934861553, 8.967904921004762e-06, 0.446839)\n",
    "    + `train_app_small`: 14m.\n",
    "        (lr, reg, score): (0.164879982368552, 5.998052351848339e-05, 0.340261),\n",
    " (0.11218764413671876, 2.5561112811476586e-05, 0.340286),\n",
    " (0.40504999930569235, 0.00012167825036020641, 0.34044)\n",
    "\n",
    "- w/o device_* cols\n",
    "     + `train_site_small`: learning_rate in (1e-3, 1e1), reg_param in (1e-2, 1e1).\n",
    "    Try (lr, reg, score) = (1.5055668655636434, 0.14551999446480063), (0.10494282632180114, 1.299328348582395e-06, 0.447807)\n",
    "     + `train_app_small`: (lr, reg, score) = (0.00166189386987065, 0.48305136367563084), (0.3836766261280591, 9.207841986673778e-05, 0.341098)"
   ]
  },
  {
   "cell_type": "code",
   "execution_count": 2,
   "metadata": {},
   "outputs": [],
   "source": [
    "def parse_best_loss(run_result):\n",
    "    lines = run_result.stdout.decode().split('\\n')\n",
    "    best_loss_line = [l for l in lines if 'best loss' in l]\n",
    "    if best_loss_line:\n",
    "        best_loss_line = best_loss_line[0]\n",
    "        best_loss = re.search(r'best loss: (\\d+.\\d+)', best_loss_line).group(1)\n",
    "        return float(best_loss)\n",
    "    else:\n",
    "        # No line matches 'best loss' if early stopping wasn't necessary.\n",
    "        # Given the fact that FFM is very likely to overfit, this result\n",
    "        # is most likely not of our interest.\n",
    "        return np.nan\n",
    "\n",
    "def eval_param(train_set, validation_set, learning_rate=0.2, reg_param=1e-5):\n",
    "    xlearn_train = '~/code/xlearn/build/xlearn_train'\n",
    "    command = [xlearn_train, train_set,\n",
    "          '-s 2',\n",
    "         '-v', validation_set,\n",
    "          '-r', str(learning_rate),\n",
    "               '-b', str(reg_param)]\n",
    "    command = ' '.join(command)\n",
    "    result = subprocess.run(command, stdout=subprocess.PIPE, shell=True)\n",
    "    return parse_best_loss(result)\n",
    "\n",
    "def log_uniform(low=0, high=1, size=None):\n",
    "    return np.power(10, np.random.uniform(low, high, size))\n",
    "\n",
    "def eval_param_ls(train_set, validation_set, learning_rates, reg_params):\n",
    "    scores = [eval_param(train_set, validation_set, lr, reg)\n",
    "              for lr, reg in zip(learning_rates, reg_params)]\n",
    "    \n",
    "    minidx = np.nanargmin(np.array(scores))\n",
    "    min_score = scores[minidx]\n",
    "    best_lr = learning_rates[minidx]\n",
    "    best_reg = reg_params[minidx]\n",
    "    return min_score, best_lr, best_reg, scores"
   ]
  },
  {
   "cell_type": "code",
   "execution_count": 3,
   "metadata": {},
   "outputs": [],
   "source": [
    "def best_scores(scores, k):\n",
    "    top_k = sorted([s for s in scores if s is not np.nan])[:k]\n",
    "    params = []\n",
    "    for s in top_k:\n",
    "        best_idx = scores.index(s)\n",
    "        params.append((learning_rates[best_idx], reg_params[best_idx], s))\n",
    "    return params"
   ]
  },
  {
   "cell_type": "code",
   "execution_count": 10,
   "metadata": {
    "scrolled": false
   },
   "outputs": [],
   "source": [
    "size=100\n",
    "learning_rates = log_uniform(-2,1,size) # default = 0.2\n",
    "reg_params = log_uniform(-6,3,size) # default = 1e-5"
   ]
  },
  {
   "cell_type": "code",
   "execution_count": 11,
   "metadata": {},
   "outputs": [],
   "source": [
    "data_type='app'\n",
    "train_size='mid'\n",
    "project_path = '~/code/avazu-ctr/'\n",
    "xlearn_train = '~/code/xlearn/build/xlearn_train'\n",
    "train_set = os.path.join(project_path, f'ffm-data/train_{data_type}_{train_size}.ffm')\n",
    "validation_set = os.path.join(project_path, f'ffm-data/validate_{data_type}_{train_size}.ffm')"
   ]
  },
  {
   "cell_type": "code",
   "execution_count": 12,
   "metadata": {},
   "outputs": [
    {
     "name": "stdout",
     "output_type": "stream",
     "text": [
      "CPU times: user 102 ms, sys: 288 ms, total: 391 ms\n",
      "Wall time: 32min 35s\n"
     ]
    }
   ],
   "source": [
    "%%time\n",
    "best_score, best_lr, best_reg, scores = eval_param_ls(train_set, validation_set, learning_rates, reg_params)"
   ]
  },
  {
   "cell_type": "code",
   "execution_count": 13,
   "metadata": {
    "scrolled": true
   },
   "outputs": [
    {
     "data": {
      "text/plain": [
       "[(0.5518474237040196, 0.00010336592954287885, 0.340482),\n",
       " (1.6906957278948453, 0.00013600060002962432, 0.340784),\n",
       " (0.7834994600028368, 3.7867217328877597e-06, 0.341407),\n",
       " (0.4379858304490142, 7.480261940395756e-06, 0.341516),\n",
       " (0.20168796462154398, 0.0005943687526229239, 0.341568),\n",
       " (0.7838804139595561, 4.298613823045098e-05, 0.34162),\n",
       " (0.22996115904345563, 5.537495160394821e-05, 0.341785),\n",
       " (2.523318768393591, 0.00038462618212701426, 0.342033),\n",
       " (0.18764578566646006, 3.069478419855302e-05, 0.342046),\n",
       " (2.0853642413843936, 6.321479670549764e-06, 0.342304),\n",
       " (0.07796877731223423, 2.4024102937187476e-05, 0.342515),\n",
       " (0.20722886918181235, 2.0667795302402616e-05, 0.342626),\n",
       " (2.702891659818984, 0.0003031424921599347, 0.342988),\n",
       " (0.2704468128212507, 1.8059498387005228e-06, 0.343027),\n",
       " (0.11169324860716098, 1.1084375241968226e-05, 0.34304),\n",
       " (0.212276061307909, 2.062885265580685e-06, 0.34314),\n",
       " (0.11489686766444268, 3.460243711547926e-06, 0.343308),\n",
       " (0.5487963858875685, 0.0024255628071290056, 0.343557),\n",
       " (0.6046857350661947, 0.002283476691917589, 0.343624),\n",
       " (1.6243001536383384, 0.0018038731770108262, 0.343626)]"
      ]
     },
     "execution_count": 13,
     "metadata": {},
     "output_type": "execute_result"
    }
   ],
   "source": [
    "best_scores(scores, 20)"
   ]
  },
  {
   "cell_type": "code",
   "execution_count": 8,
   "metadata": {},
   "outputs": [
    {
     "ename": "RuntimeError",
     "evalue": "No active exception to reraise",
     "output_type": "error",
     "traceback": [
      "\u001b[0;31m---------------------------------------------------------\u001b[0m",
      "\u001b[0;31mRuntimeError\u001b[0m            Traceback (most recent call last)",
      "\u001b[0;32m<ipython-input-8-9c9a2cba73bf>\u001b[0m in \u001b[0;36m<module>\u001b[0;34m\u001b[0m\n\u001b[0;32m----> 1\u001b[0;31m \u001b[0;32mraise\u001b[0m\u001b[0;34m\u001b[0m\u001b[0m\n\u001b[0m",
      "\u001b[0;31mRuntimeError\u001b[0m: No active exception to reraise"
     ]
    }
   ],
   "source": [
    "raise"
   ]
  },
  {
   "cell_type": "code",
   "execution_count": null,
   "metadata": {},
   "outputs": [],
   "source": [
    "# find a score for a parameter pair that didn't overfit.\n",
    "best_score = min([s for s in scores if s > 0.30])\n",
    "best_idx = scores.index(best_score)\n",
    "learning_rates[best_idx], reg_params[best_idx], best_score"
   ]
  },
  {
   "cell_type": "code",
   "execution_count": null,
   "metadata": {},
   "outputs": [],
   "source": []
  },
  {
   "cell_type": "code",
   "execution_count": null,
   "metadata": {
    "scrolled": true
   },
   "outputs": [],
   "source": [
    "max_score, best_lr, best_reg"
   ]
  },
  {
   "cell_type": "code",
   "execution_count": null,
   "metadata": {},
   "outputs": [],
   "source": [
    "import seaborn as sns\n",
    "sns.set()\n",
    "import matplotlib.pyplot as plt"
   ]
  },
  {
   "cell_type": "code",
   "execution_count": null,
   "metadata": {},
   "outputs": [],
   "source": [
    "f, ax = plt.subplots(figsize=(7, 7))\n",
    "ax.set(xscale=\"log\", yscale=\"log\", xlabel='lr', ylabel='reg')\n",
    "points = [0.5 if s is np.nan or s > 1 else 1/s for s in scores]\n",
    "sns.scatterplot(learning_rates, reg_params, s=[50*p for p in points])"
   ]
  },
  {
   "cell_type": "code",
   "execution_count": null,
   "metadata": {},
   "outputs": [],
   "source": [
    "f, ax = plt.subplots(figsize=(7, 7))\n",
    "ax.set(yscale=\"log\")\n",
    "points = [1 if s is np.nan or s > 1 else 1/s for s in scores]\n",
    "sns.scatterplot(range(size), learning_rates, s = [30*p for p in points])"
   ]
  }
 ],
 "metadata": {
  "kernelspec": {
   "display_name": "Python 3",
   "language": "python",
   "name": "python3"
  },
  "language_info": {
   "codemirror_mode": {
    "name": "ipython",
    "version": 3
   },
   "file_extension": ".py",
   "mimetype": "text/x-python",
   "name": "python",
   "nbconvert_exporter": "python",
   "pygments_lexer": "ipython3",
   "version": "3.6.6"
  }
 },
 "nbformat": 4,
 "nbformat_minor": 2
}
