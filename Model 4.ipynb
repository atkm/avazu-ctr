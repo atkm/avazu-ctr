{
 "cells": [
  {
   "cell_type": "markdown",
   "metadata": {},
   "source": [
    "uses cols:['id','click','hour','banner_pos','device_id','device_ip', \n",
    "'device_model','device_conn_type','C14','C17','C20','C21'],\n",
    "\n",
    "and add cols ['pub_id','pub_domain','pub_category','device_id_count','device_ip_count','user_count','smooth_user_hour_count','user_click_histroy'].\n",
    "\n",
    "Split rows into site rows and app rows.\n",
    "Apply model to each.\n",
    "A row is app iff site_id == 85f751fd.\n",
    "\n",
    "Result:\n",
    "- categorical_features = ['banner_pos', 'site_id', 'site_category',\n",
    "        'app_id', 'app_category', 'user',\n",
    "                        'device_conn_type','C14','C17','C20','C21'],\n",
    "  counts: device_id/ip, user, hourly_user\n",
    "  => bad. score ~= -50.\n"
   ]
  },
  {
   "cell_type": "code",
   "execution_count": 1,
   "metadata": {},
   "outputs": [],
   "source": [
    "import pandas as pd\n",
    "import numpy as np\n",
    "\n",
    "from models.base import create_user, site_app_split\n",
    "from models.model_four import tune_model_four"
   ]
  },
  {
   "cell_type": "code",
   "execution_count": 2,
   "metadata": {},
   "outputs": [],
   "source": [
    "df = pd.read_csv('data/train_tiny.csv')\n",
    "df.hour = pd.to_datetime(df.hour, format=\"%y%m%d%H\")\n",
    "df = create_user(df)\n",
    "df_site, df_app = site_app_split(df)"
   ]
  },
  {
   "cell_type": "markdown",
   "metadata": {},
   "source": [
    "## Stats\n",
    "- app:\n",
    "            {'logistic_regression__C': 0.01},\n",
    "            {0.0001: -0.455594184017866,\n",
    "            0.00025118864315095795: -0.45558380267601795,\n",
    "            0.000630957344480193: -0.4555796421227544,\n",
    "            0.001584893192461114: -0.4555779813755934,\n",
    "            0.003981071705534973: -0.4555773195343969,\n",
    "            0.01: -0.4555770559619175},\n",
    "            -0.4715479739114517\n",
    "            \n",
    "- site:\n",
    "            {'logistic_regression__C': 0.001},\n",
    "            {0.001: -0.5220806343621686,\n",
    "            0.31622776601683794: -0.5220806343621966,\n",
    "            100.0: -0.5220806343622033},\n",
    "            -0.5128507326797699"
   ]
  },
  {
   "cell_type": "code",
   "execution_count": 3,
   "metadata": {},
   "outputs": [
    {
     "data": {
      "text/plain": [
       "array([1.00000000e-05, 2.15443469e-03, 4.64158883e-01, 1.00000000e+02])"
      ]
     },
     "execution_count": 3,
     "metadata": {},
     "output_type": "execute_result"
    }
   ],
   "source": [
    "params = np.logspace(-5, 2, num=4)\n",
    "params"
   ]
  },
  {
   "cell_type": "code",
   "execution_count": 4,
   "metadata": {},
   "outputs": [
    {
     "name": "stdout",
     "output_type": "stream",
     "text": [
      "Tuning time:  1.6564240455627441\n"
     ]
    },
    {
     "data": {
      "text/plain": [
       "({'logistic_regression__C': 0.4641588833612782},\n",
       " {1e-05: -0.45185333872823275,\n",
       "  0.0021544346900318843: -0.4033415675673009,\n",
       "  0.4641588833612782: -0.3083780412590003,\n",
       "  100.0: -0.4479216127508794},\n",
       " -0.4655719930304711)"
      ]
     },
     "execution_count": 4,
     "metadata": {},
     "output_type": "execute_result"
    }
   ],
   "source": [
    "# fit on app\n",
    "best_C, params_dict_ls, scores, test_score = tune_model_four(df_app, params)\n",
    "best_C, dict(zip(params, scores)), test_score"
   ]
  },
  {
   "cell_type": "code",
   "execution_count": 5,
   "metadata": {},
   "outputs": [
    {
     "data": {
      "text/plain": [
       "array([1.00000000e-03, 3.16227766e-01, 1.00000000e+02])"
      ]
     },
     "execution_count": 5,
     "metadata": {},
     "output_type": "execute_result"
    }
   ],
   "source": [
    "params = np.logspace(-3, 2, num=3)\n",
    "params"
   ]
  },
  {
   "cell_type": "code",
   "execution_count": 6,
   "metadata": {},
   "outputs": [
    {
     "name": "stdout",
     "output_type": "stream",
     "text": [
      "Tuning time:  1.1619603633880615\n"
     ]
    },
    {
     "data": {
      "text/plain": [
       "({'logistic_regression__C': 0.001},\n",
       " {0.001: -0.4987297020872866,\n",
       "  0.31622776601683794: -0.6497838629435246,\n",
       "  100.0: -1.6085005162487989},\n",
       " -0.4683502561590366)"
      ]
     },
     "execution_count": 6,
     "metadata": {},
     "output_type": "execute_result"
    }
   ],
   "source": [
    "# fit on site\n",
    "best_C, params_dict_ls, scores, test_score = tune_model_four(df_site, params)\n",
    "best_C, dict(zip(params, scores)), test_score"
   ]
  },
  {
   "cell_type": "code",
   "execution_count": 7,
   "metadata": {},
   "outputs": [
    {
     "ename": "RuntimeError",
     "evalue": "No active exception to reraise",
     "output_type": "error",
     "traceback": [
      "\u001b[0;31m---------------------------------------------------------------------------\u001b[0m",
      "\u001b[0;31mRuntimeError\u001b[0m                              Traceback (most recent call last)",
      "\u001b[0;32m<ipython-input-7-9c9a2cba73bf>\u001b[0m in \u001b[0;36m<module>\u001b[0;34m\u001b[0m\n\u001b[0;32m----> 1\u001b[0;31m \u001b[0;32mraise\u001b[0m\u001b[0;34m\u001b[0m\u001b[0m\n\u001b[0m",
      "\u001b[0;31mRuntimeError\u001b[0m: No active exception to reraise"
     ]
    }
   ],
   "source": [
    "raise"
   ]
  },
  {
   "cell_type": "markdown",
   "metadata": {},
   "source": [
    "## Stats: without splitting\n",
    "- {'logistic_regression__C': 1e-05},\n",
    "            [{'logistic_regression__C': 1e-05},\n",
    "            {'logistic_regression__C': 0.0021544346900318843},\n",
    "            {'logistic_regression__C': 0.4641588833612782},\n",
    "            {'logistic_regression__C': 100.0}],\n",
    "            [-0.5079341890609894,\n",
    "            -0.5079341890610994,\n",
    "            -0.5079341890610902,\n",
    "            -0.507934189061084],\n",
    "            -0.4957722697557072"
   ]
  },
  {
   "cell_type": "code",
   "execution_count": null,
   "metadata": {},
   "outputs": [],
   "source": [
    "df = pd.read_csv('data/train_tiny.csv')\n",
    "df.hour = pd.to_datetime(df.hour, format=\"%y%m%d%H\")\n",
    "df = create_user(df)"
   ]
  },
  {
   "cell_type": "code",
   "execution_count": null,
   "metadata": {},
   "outputs": [],
   "source": [
    "params = np.logspace(-5, 2, num=4)\n",
    "params"
   ]
  },
  {
   "cell_type": "code",
   "execution_count": null,
   "metadata": {
    "scrolled": false
   },
   "outputs": [],
   "source": [
    "best_C, params_dict_ls, scores, test_score = tune_model_four(df, params)\n",
    "best_C, dict(zip(params, scores)), test_score"
   ]
  },
  {
   "cell_type": "code",
   "execution_count": null,
   "metadata": {},
   "outputs": [],
   "source": [
    "raise"
   ]
  },
  {
   "cell_type": "markdown",
   "metadata": {},
   "source": [
    "## Develop pipeline"
   ]
  },
  {
   "cell_type": "code",
   "execution_count": null,
   "metadata": {},
   "outputs": [],
   "source": [
    "pipeline = get_model_four_pipeline()"
   ]
  },
  {
   "cell_type": "code",
   "execution_count": null,
   "metadata": {},
   "outputs": [],
   "source": [
    "pipeline.fit(df, df.click)"
   ]
  },
  {
   "cell_type": "code",
   "execution_count": null,
   "metadata": {
    "scrolled": true
   },
   "outputs": [],
   "source": [
    "pipeline.predict_proba(df)"
   ]
  },
  {
   "cell_type": "code",
   "execution_count": null,
   "metadata": {},
   "outputs": [],
   "source": []
  },
  {
   "cell_type": "markdown",
   "metadata": {},
   "source": [
    "## Develop HourlyCountEncoder"
   ]
  },
  {
   "cell_type": "code",
   "execution_count": null,
   "metadata": {},
   "outputs": [],
   "source": [
    "counts = df.groupby([df.hour, 'user']).size().to_frame('count')\n",
    "pd.merge(df, counts, how='left', on=['hour', 'user']).head()"
   ]
  },
  {
   "cell_type": "markdown",
   "metadata": {},
   "source": [
    "## Develop CountEncoder"
   ]
  },
  {
   "cell_type": "code",
   "execution_count": null,
   "metadata": {},
   "outputs": [],
   "source": [
    "counts = df.groupby('device_ip').size().to_frame('device_ip_count')"
   ]
  },
  {
   "cell_type": "code",
   "execution_count": null,
   "metadata": {},
   "outputs": [],
   "source": [
    "pd.merge(df, counts, how='left', on='device_ip')"
   ]
  },
  {
   "cell_type": "code",
   "execution_count": null,
   "metadata": {},
   "outputs": [],
   "source": [
    "df['device_ip_count'] = "
   ]
  },
  {
   "cell_type": "code",
   "execution_count": null,
   "metadata": {},
   "outputs": [],
   "source": []
  },
  {
   "cell_type": "markdown",
   "metadata": {},
   "source": [
    "## Define user\n",
    "user := ip & model if device_id is null (== a99f214a), else device_id."
   ]
  },
  {
   "cell_type": "code",
   "execution_count": null,
   "metadata": {},
   "outputs": [],
   "source": [
    "user_cols = ['device_ip', 'device_model', 'device_id']"
   ]
  },
  {
   "cell_type": "code",
   "execution_count": null,
   "metadata": {},
   "outputs": [],
   "source": [
    "device_id_null = 'a99f214a'\n",
    "(df.device_id == device_id_null).sum()"
   ]
  },
  {
   "cell_type": "code",
   "execution_count": null,
   "metadata": {},
   "outputs": [],
   "source": [
    "df['device_ip_model'] = df.device_ip.str.cat(df.device_model, sep='_')"
   ]
  },
  {
   "cell_type": "code",
   "execution_count": null,
   "metadata": {},
   "outputs": [],
   "source": [
    "df[user_cols + ['device_ip_model']].head()"
   ]
  },
  {
   "cell_type": "code",
   "execution_count": null,
   "metadata": {
    "scrolled": true
   },
   "outputs": [],
   "source": [
    "df['user'] = df.device_id.where(df.device_id != device_id_null, df.device_ip_model)"
   ]
  },
  {
   "cell_type": "code",
   "execution_count": null,
   "metadata": {},
   "outputs": [],
   "source": [
    "df[user_cols + ['device_ip_model', 'user']].head()"
   ]
  },
  {
   "cell_type": "code",
   "execution_count": null,
   "metadata": {},
   "outputs": [],
   "source": [
    "df[df.device_id != device_id_null][user_cols + ['device_ip_model', 'user']].head()"
   ]
  },
  {
   "cell_type": "code",
   "execution_count": null,
   "metadata": {},
   "outputs": [],
   "source": []
  },
  {
   "cell_type": "code",
   "execution_count": null,
   "metadata": {},
   "outputs": [],
   "source": []
  }
 ],
 "metadata": {
  "kernelspec": {
   "display_name": "Python 3",
   "language": "python",
   "name": "python3"
  },
  "language_info": {
   "codemirror_mode": {
    "name": "ipython",
    "version": 3
   },
   "file_extension": ".py",
   "mimetype": "text/x-python",
   "name": "python",
   "nbconvert_exporter": "python",
   "pygments_lexer": "ipython3",
   "version": "3.6.6"
  }
 },
 "nbformat": 4,
 "nbformat_minor": 2
}
