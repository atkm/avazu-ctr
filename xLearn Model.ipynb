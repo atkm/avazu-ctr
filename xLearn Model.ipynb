{
 "cells": [
  {
   "cell_type": "markdown",
   "metadata": {},
   "source": [
    "TODO:\n",
    "- Finish submission_rows. Combine predictions from site and app models. Provide id for each row.\n",
    "- why are the predicted values in out.txt negative?\n",
    "- cross-validation: start with one validation set."
   ]
  },
  {
   "cell_type": "code",
   "execution_count": 1,
   "metadata": {},
   "outputs": [],
   "source": [
    "import xlearn as xl"
   ]
  },
  {
   "cell_type": "code",
   "execution_count": 2,
   "metadata": {},
   "outputs": [],
   "source": [
    "def run_ffm(train_set, validate_set, test_set, model_out, predict_out):\n",
    "    ffm_model = xl.create_ffm()\n",
    "    ffm_model.setTrain(train_set)\n",
    "    ffm_model.setValidate(validate_set)\n",
    "    \n",
    "    param = {'task':'binary', 'lr':0.2, 'lambda':0.002}\n",
    "    ffm_model.fit(param, model_out)\n",
    "    \n",
    "    ffm_model.setSigmoid()\n",
    "    ffm_model.setTest(test_set)\n",
    "    ffm_model.predict(model_out, predict_out)\n",
    "    print(f'Prediction written to {predict_out}')"
   ]
  },
  {
   "cell_type": "code",
   "execution_count": 3,
   "metadata": {},
   "outputs": [],
   "source": [
    "# TODO: modify this function to take predictions from site and app models,\n",
    "#    and generate rows to write.\n",
    "def submission_rows(predict_out, id_file, fout):\n",
    "    with open(predict_out, 'r') as prediction, open(id_file, 'r') as ids, open(fout, 'w') as out:\n",
    "        out.write('id,click\\n')\n",
    "        for i, val in zip(ids, prediction):\n",
    "            yield f'{i.strip()},{val.strip()}\\n'"
   ]
  },
  {
   "cell_type": "code",
   "execution_count": 4,
   "metadata": {},
   "outputs": [],
   "source": [
    "#TODO: move this to tools/kaggle_tools\n",
    "def validate_submission(submission_csv, ids):\n",
    "    \"\"\"\n",
    "    Ensure that the submission file is in the right format, \n",
    "    and that it contains required id's.\n",
    "    \"\"\"\n",
    "    pass"
   ]
  },
  {
   "cell_type": "code",
   "execution_count": 5,
   "metadata": {},
   "outputs": [],
   "source": [
    "train_site = './data/train_site_tiny.ffm'\n",
    "validate_site = './data/validate_site_tiny.ffm'\n",
    "test_site = './data/test_site_tiny.ffm'\n",
    "model_out = './xlearn-out/ffm-site.out'\n",
    "predict_out = './xlearn-out/out-site.txt'"
   ]
  },
  {
   "cell_type": "code",
   "execution_count": 6,
   "metadata": {},
   "outputs": [
    {
     "name": "stdout",
     "output_type": "stream",
     "text": [
      "Prediction written to ./xlearn-out/out-site.txt\n"
     ]
    }
   ],
   "source": [
    "run_ffm(train_site, validate_site, test_site, model_out, predict_out)"
   ]
  },
  {
   "cell_type": "code",
   "execution_count": 7,
   "metadata": {},
   "outputs": [],
   "source": [
    "write_submission(predict_out, test_site + '.id', 'submission-site.csv')"
   ]
  },
  {
   "cell_type": "code",
   "execution_count": 8,
   "metadata": {},
   "outputs": [
    {
     "name": "stdout",
     "output_type": "stream",
     "text": [
      "Prediction written to ./xlearn-out/out-app.txt\n"
     ]
    }
   ],
   "source": [
    "train_app = './data/train_app_tiny.ffm'\n",
    "validate_app = './data/validate_app_tiny.ffm'\n",
    "test_app = './data/test_app_tiny.ffm'\n",
    "model_out = './xlearn-out/ffm-app.out'\n",
    "predict_out = './xlearn-out/out-app.txt'\n",
    "\n",
    "run_ffm(train_app, validate_app, test_app, model_out, predict_out)"
   ]
  },
  {
   "cell_type": "code",
   "execution_count": 9,
   "metadata": {},
   "outputs": [],
   "source": [
    "write_submission(predict_out, test_app + '.id', 'submission-app.csv')"
   ]
  }
 ],
 "metadata": {
  "kernelspec": {
   "display_name": "Python 3",
   "language": "python",
   "name": "python3"
  },
  "language_info": {
   "codemirror_mode": {
    "name": "ipython",
    "version": 3
   },
   "file_extension": ".py",
   "mimetype": "text/x-python",
   "name": "python",
   "nbconvert_exporter": "python",
   "pygments_lexer": "ipython3",
   "version": "3.6.6"
  }
 },
 "nbformat": 4,
 "nbformat_minor": 2
}
