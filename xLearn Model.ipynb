{
 "cells": [
  {
   "cell_type": "markdown",
   "metadata": {},
   "source": [
    "['id','click','hour','banner_pos','device_id','device_ip','device_model','device_conn_type','C14','C17','C20','C21'], and add cols ['pub_id','pub_domain','pub_category','device_id_count','device_ip_count','user_count','smooth_user_hour_count','user_click_histroy'].\n",
    "\n",
    "Stats:\n",
    "- 'small' with device_* cols: Private=0.3998675, Public=0.4020308\n",
    "- 'small' without device_* cols: Private=0.4024273, Public=0.4045937\n",
    "\n",
    "\n",
    "TODO:\n",
    "- use a faster df_to_ffm for the training set. Should fit in memory.\n",
    "- count features: device_id, device_ip, user"
   ]
  },
  {
   "cell_type": "code",
   "execution_count": 2,
   "metadata": {},
   "outputs": [],
   "source": [
    "import xlearn as xl\n",
    "\n",
    "from tools.ffm_tools import make_train_validate_data, df_to_ffm, write_submission\n",
    "from models.base import create_user, site_app_split"
   ]
  },
  {
   "cell_type": "code",
   "execution_count": 3,
   "metadata": {},
   "outputs": [],
   "source": [
    "import subprocess\n",
    "\n",
    "def xlearn_train_command(train_set, validation_set, model_type='2', learning_rate=None, reg_param=None):\n",
    "    xlearn_train = '~/code/xlearn/build/xlearn_train'\n",
    "    command = [xlearn_train, train_set,\n",
    "          '-s', str(model_type),\n",
    "         '-v', validation_set]\n",
    "    if learning_rate:\n",
    "        command.append('-r')\n",
    "        command.append(str(learning_rate))                      \n",
    "    if reg_param:\n",
    "        command.append('-b')\n",
    "        command.append(str(reg_param))\n",
    "    return ' '.join(command)\n",
    "\n",
    "def xlearn_predict_command(test_set, model):\n",
    "    xlearn_predict = '~/code/xlearn/build/xlearn_predict'\n",
    "    command = [xlearn_predict, test_set, model, '--sigmoid']\n",
    "    return ' '.join(command)"
   ]
  },
  {
   "cell_type": "markdown",
   "metadata": {},
   "source": [
    "## With count features\n",
    "- device_ip, device_id, user\n",
    "- hourly user\n",
    "\n",
    "Stats:\n",
    "- 'small': 04m25s to prepare train sets."
   ]
  },
  {
   "cell_type": "code",
   "execution_count": 55,
   "metadata": {},
   "outputs": [],
   "source": [
    "import pandas as pd\n",
    "\n",
    "categorical_features = ['banner_pos', 'platform_id', 'platform_domain', 'platform_category',\n",
    "                    'user', 'device_conn_type', 'C14','C17','C20','C21',\n",
    "                       'device_id_count', 'device_ip_count', 'user_count']\n",
    "#  add device_id, device_ip, and device_model.\n",
    "#categorical_features = ['banner_pos', 'platform_id', 'platform_domain', 'platform_category',\n",
    "#                        'device_id', 'device_ip', 'device_model',\n",
    "#                    'user', 'device_conn_type', 'C14','C17','C20','C21']\n",
    "\n",
    "train_size='small'\n",
    "\n",
    "df = pd.read_csv(f'./data/train_{train_size}.csv')\n",
    "df.hour = pd.to_datetime(df.hour, format=\"%y%m%d%H\")\n",
    "df = create_user(df)"
   ]
  },
  {
   "cell_type": "code",
   "execution_count": 56,
   "metadata": {},
   "outputs": [],
   "source": [
    "def add_count_col(df, col, new_col_name):\n",
    "    counts = df.groupby(col).size().to_frame(new_col_name)\n",
    "    df = pd.merge(df, counts, how='left', on=col)\n",
    "    df = df.fillna({new_col_name: 0})\n",
    "    return df"
   ]
  },
  {
   "cell_type": "code",
   "execution_count": 57,
   "metadata": {
    "scrolled": true
   },
   "outputs": [
    {
     "data": {
      "text/html": [
       "<div>\n",
       "<style scoped>\n",
       "    .dataframe tbody tr th:only-of-type {\n",
       "        vertical-align: middle;\n",
       "    }\n",
       "\n",
       "    .dataframe tbody tr th {\n",
       "        vertical-align: top;\n",
       "    }\n",
       "\n",
       "    .dataframe thead th {\n",
       "        text-align: right;\n",
       "    }\n",
       "</style>\n",
       "<table border=\"1\" class=\"dataframe\">\n",
       "  <thead>\n",
       "    <tr style=\"text-align: right;\">\n",
       "      <th></th>\n",
       "      <th>id</th>\n",
       "      <th>click</th>\n",
       "      <th>hour</th>\n",
       "      <th>C1</th>\n",
       "      <th>banner_pos</th>\n",
       "      <th>site_id</th>\n",
       "      <th>site_domain</th>\n",
       "      <th>site_category</th>\n",
       "      <th>app_id</th>\n",
       "      <th>app_domain</th>\n",
       "      <th>...</th>\n",
       "      <th>C17</th>\n",
       "      <th>C18</th>\n",
       "      <th>C19</th>\n",
       "      <th>C20</th>\n",
       "      <th>C21</th>\n",
       "      <th>device_ip_model</th>\n",
       "      <th>user</th>\n",
       "      <th>device_ip_count</th>\n",
       "      <th>device_id_count</th>\n",
       "      <th>user_count</th>\n",
       "    </tr>\n",
       "  </thead>\n",
       "  <tbody>\n",
       "    <tr>\n",
       "      <th>0</th>\n",
       "      <td>11761126300016035614</td>\n",
       "      <td>0</td>\n",
       "      <td>2014-10-26 06:00:00</td>\n",
       "      <td>1002</td>\n",
       "      <td>0</td>\n",
       "      <td>6b175d24</td>\n",
       "      <td>a1b0ebd0</td>\n",
       "      <td>50e219e0</td>\n",
       "      <td>ecad2386</td>\n",
       "      <td>7801e8d9</td>\n",
       "      <td>...</td>\n",
       "      <td>1722</td>\n",
       "      <td>0</td>\n",
       "      <td>35</td>\n",
       "      <td>-1</td>\n",
       "      <td>79</td>\n",
       "      <td>0d34e1f4_52c5cc40</td>\n",
       "      <td>54eeaef3</td>\n",
       "      <td>1</td>\n",
       "      <td>1</td>\n",
       "      <td>1</td>\n",
       "    </tr>\n",
       "    <tr>\n",
       "      <th>1</th>\n",
       "      <td>9454951464027616243</td>\n",
       "      <td>0</td>\n",
       "      <td>2014-10-26 06:00:00</td>\n",
       "      <td>1005</td>\n",
       "      <td>0</td>\n",
       "      <td>1fbe01fe</td>\n",
       "      <td>f3845767</td>\n",
       "      <td>28905ebd</td>\n",
       "      <td>ecad2386</td>\n",
       "      <td>7801e8d9</td>\n",
       "      <td>...</td>\n",
       "      <td>1722</td>\n",
       "      <td>0</td>\n",
       "      <td>35</td>\n",
       "      <td>-1</td>\n",
       "      <td>79</td>\n",
       "      <td>fc61627b_711ee120</td>\n",
       "      <td>fc61627b_711ee120</td>\n",
       "      <td>13</td>\n",
       "      <td>824934</td>\n",
       "      <td>4</td>\n",
       "    </tr>\n",
       "    <tr>\n",
       "      <th>2</th>\n",
       "      <td>7597529435648422906</td>\n",
       "      <td>0</td>\n",
       "      <td>2014-10-24 07:00:00</td>\n",
       "      <td>1005</td>\n",
       "      <td>0</td>\n",
       "      <td>85f751fd</td>\n",
       "      <td>c4e18dd6</td>\n",
       "      <td>50e219e0</td>\n",
       "      <td>92f5800b</td>\n",
       "      <td>ae637522</td>\n",
       "      <td>...</td>\n",
       "      <td>2424</td>\n",
       "      <td>1</td>\n",
       "      <td>161</td>\n",
       "      <td>100193</td>\n",
       "      <td>71</td>\n",
       "      <td>68b6ba25_981edffc</td>\n",
       "      <td>68b6ba25_981edffc</td>\n",
       "      <td>12</td>\n",
       "      <td>824934</td>\n",
       "      <td>6</td>\n",
       "    </tr>\n",
       "    <tr>\n",
       "      <th>3</th>\n",
       "      <td>17674252474717503445</td>\n",
       "      <td>0</td>\n",
       "      <td>2014-10-26 16:00:00</td>\n",
       "      <td>1005</td>\n",
       "      <td>0</td>\n",
       "      <td>2b1ddb24</td>\n",
       "      <td>98acf46c</td>\n",
       "      <td>3e814130</td>\n",
       "      <td>ecad2386</td>\n",
       "      <td>7801e8d9</td>\n",
       "      <td>...</td>\n",
       "      <td>1973</td>\n",
       "      <td>3</td>\n",
       "      <td>39</td>\n",
       "      <td>100148</td>\n",
       "      <td>23</td>\n",
       "      <td>75092a71_ecb851b2</td>\n",
       "      <td>75092a71_ecb851b2</td>\n",
       "      <td>1</td>\n",
       "      <td>824934</td>\n",
       "      <td>1</td>\n",
       "    </tr>\n",
       "    <tr>\n",
       "      <th>4</th>\n",
       "      <td>14668325104229564251</td>\n",
       "      <td>0</td>\n",
       "      <td>2014-10-25 04:00:00</td>\n",
       "      <td>1005</td>\n",
       "      <td>0</td>\n",
       "      <td>1fbe01fe</td>\n",
       "      <td>f3845767</td>\n",
       "      <td>28905ebd</td>\n",
       "      <td>ecad2386</td>\n",
       "      <td>7801e8d9</td>\n",
       "      <td>...</td>\n",
       "      <td>1722</td>\n",
       "      <td>0</td>\n",
       "      <td>35</td>\n",
       "      <td>100083</td>\n",
       "      <td>79</td>\n",
       "      <td>5bb6c0b5_8a4875bd</td>\n",
       "      <td>5bb6c0b5_8a4875bd</td>\n",
       "      <td>30</td>\n",
       "      <td>824934</td>\n",
       "      <td>4</td>\n",
       "    </tr>\n",
       "  </tbody>\n",
       "</table>\n",
       "<p>5 rows × 29 columns</p>\n",
       "</div>"
      ],
      "text/plain": [
       "                     id  click                hour    C1  banner_pos  \\\n",
       "0  11761126300016035614      0 2014-10-26 06:00:00  1002           0   \n",
       "1   9454951464027616243      0 2014-10-26 06:00:00  1005           0   \n",
       "2   7597529435648422906      0 2014-10-24 07:00:00  1005           0   \n",
       "3  17674252474717503445      0 2014-10-26 16:00:00  1005           0   \n",
       "4  14668325104229564251      0 2014-10-25 04:00:00  1005           0   \n",
       "\n",
       "    site_id site_domain site_category    app_id app_domain     ...       C17  \\\n",
       "0  6b175d24    a1b0ebd0      50e219e0  ecad2386   7801e8d9     ...      1722   \n",
       "1  1fbe01fe    f3845767      28905ebd  ecad2386   7801e8d9     ...      1722   \n",
       "2  85f751fd    c4e18dd6      50e219e0  92f5800b   ae637522     ...      2424   \n",
       "3  2b1ddb24    98acf46c      3e814130  ecad2386   7801e8d9     ...      1973   \n",
       "4  1fbe01fe    f3845767      28905ebd  ecad2386   7801e8d9     ...      1722   \n",
       "\n",
       "  C18  C19     C20  C21    device_ip_model               user  \\\n",
       "0   0   35      -1   79  0d34e1f4_52c5cc40           54eeaef3   \n",
       "1   0   35      -1   79  fc61627b_711ee120  fc61627b_711ee120   \n",
       "2   1  161  100193   71  68b6ba25_981edffc  68b6ba25_981edffc   \n",
       "3   3   39  100148   23  75092a71_ecb851b2  75092a71_ecb851b2   \n",
       "4   0   35  100083   79  5bb6c0b5_8a4875bd  5bb6c0b5_8a4875bd   \n",
       "\n",
       "   device_ip_count  device_id_count  user_count  \n",
       "0                1                1           1  \n",
       "1               13           824934           4  \n",
       "2               12           824934           6  \n",
       "3                1           824934           1  \n",
       "4               30           824934           4  \n",
       "\n",
       "[5 rows x 29 columns]"
      ]
     },
     "execution_count": 57,
     "metadata": {},
     "output_type": "execute_result"
    }
   ],
   "source": [
    "df = add_count_col(df, 'device_ip', 'device_ip_count')\n",
    "df = add_count_col(df, 'device_id', 'device_id_count')\n",
    "df = add_count_col(df, 'user', 'user_count')\n",
    "df.head()"
   ]
  },
  {
   "cell_type": "code",
   "execution_count": 58,
   "metadata": {
    "scrolled": true
   },
   "outputs": [
    {
     "name": "stdout",
     "output_type": "stream",
     "text": [
      "./ffm-data/train_site_small.ffm\n",
      "./ffm-data/validate_site_small.ffm\n",
      "./ffm-data/train_app_small.ffm\n",
      "./ffm-data/validate_app_small.ffm\n",
      "CPU times: user 4min 23s, sys: 1.39 s, total: 4min 24s\n",
      "Wall time: 4min 25s\n"
     ]
    }
   ],
   "source": [
    "%%time\n",
    "# we don't use train_site/app, validate_site/app\n",
    "_, _, feature_dict_site, _, _, feature_dict_app = make_train_validate_data(df, categorical_features, train_size)"
   ]
  },
  {
   "cell_type": "code",
   "execution_count": 61,
   "metadata": {},
   "outputs": [
    {
     "name": "stdout",
     "output_type": "stream",
     "text": [
      "~/code/xlearn/build/xlearn_train ./ffm-data/train_site_small.ffm -s 2 -v ./ffm-data/validate_site_small.ffm\n"
     ]
    },
    {
     "data": {
      "text/plain": [
       "\"\\x1b[32m\\x1b[1m----------------------------------------------------------------------------------------------\\n           _\\n          | |\\n     __  _| |     ___  __ _ _ __ _ __\\n     \\\\ \\\\/ / |    / _ \\\\/ _` | '__| '_ \\\\ \\n      >  <| |___|  __/ (_| | |  | | | |\\n     /_/\\\\_\\\\_____/\\\\___|\\\\__,_|_|  |_| |_|\\n\\n        xLearn   -- 0.35 Version --\\n----------------------------------------------------------------------------------------------\\n\\n\\x1b[39m\\x1b[0m\\x1b[32m\\x1b[1m[ ACTION     ] Read Problem ...\\x1b[0m\\n\\x1b[32m[------------] \\x1b[0mFirst check if the text file has been already converted to binary format.\\n\\x1b[32m[------------] \\x1b[0mBinary file (./ffm-data/train_site_small.ffm.bin) NOT found. Convert text file to binary file.\\n\\x1b[32m[------------] \\x1b[0mFirst check if the text file has been already converted to binary format.\\n\\x1b[32m[------------] \\x1b[0mBinary file (./ffm-data/validate_site_small.ffm.bin) NOT found. Convert text file to binary file.\\n\\x1b[32m[------------] \\x1b[0mNumber of Feature: 468296\\n\\x1b[32m[------------] \\x1b[0mNumber of Field: 13\\n\\x1b[32m[------------] \\x1b[0mTime cost for reading problem: 2.55 (sec)\\n\\x1b[32m\\x1b[1m[ ACTION     ] Initialize model ...\\x1b[0m\\n\\x1b[32m[------------] \\x1b[0mModel size: 189.36 MB\\n\\x1b[32m[------------] \\x1b[0mTime cost for model initial: 0.23 (sec)\\n\\x1b[32m\\x1b[1m[ ACTION     ] Start to train ...\\x1b[0m\\n\\x1b[32m[------------]\\x1b[0m Epoch      Train log_loss       Test log_loss     Time cost (sec)\\n\\x1b[32m[ \\x1b[0m  10%\\x1b[32m      ]\\x1b[0m     1            0.451903            0.450910                0.64\\n\\x1b[32m[ \\x1b[0m  20%\\x1b[32m      ]\\x1b[0m     2            0.443285            0.452882                0.66\\n\\x1b[32m[ \\x1b[0m  30%\\x1b[32m      ]\\x1b[0m     3            0.436787            0.463761                0.70\\n\\x1b[32m\\x1b[1m[ ACTION     ] Early-stopping at epoch 1, best loss: 0.450910\\x1b[0m\\n\\x1b[32m\\x1b[1m[ ACTION     ] Start to save model ...\\x1b[0m\\n\\x1b[32m[------------] \\x1b[0mModel file: ./ffm-data/train_site_small.ffm.model\\n\\x1b[32m[------------] \\x1b[0mTime cost for saving model: 0.31 (sec)\\n\\x1b[32m\\x1b[1m[ ACTION     ] Finish training\\x1b[0m\\n\\x1b[32m\\x1b[1m[ ACTION     ] Clear the xLearn environment ...\\x1b[0m\\n\\x1b[32m[------------] \\x1b[0mTotal time cost: 5.26 (sec)\\n\""
      ]
     },
     "execution_count": 61,
     "metadata": {},
     "output_type": "execute_result"
    }
   ],
   "source": [
    "train_set = f'./ffm-data/train_site_{train_size}.ffm'\n",
    "validation_set = f'./ffm-data/validate_site_{train_size}.ffm'\n",
    "\n",
    "(lr, reg) = (None, None)\n",
    "run_training_site = xlearn_train_command(train_set, validation_set, learning_rate=lr, reg_param=reg)\n",
    "print(run_training_site)\n",
    "result = subprocess.run(run_training_site, stdout=subprocess.PIPE, shell=True)\n",
    "result.stdout.decode()"
   ]
  },
  {
   "cell_type": "code",
   "execution_count": 62,
   "metadata": {},
   "outputs": [
    {
     "name": "stdout",
     "output_type": "stream",
     "text": [
      "~/code/xlearn/build/xlearn_train ./ffm-data/train_app_small.ffm -s 2 -v ./ffm-data/validate_app_small.ffm\n"
     ]
    },
    {
     "data": {
      "text/plain": [
       "\"\\x1b[32m\\x1b[1m----------------------------------------------------------------------------------------------\\n           _\\n          | |\\n     __  _| |     ___  __ _ _ __ _ __\\n     \\\\ \\\\/ / |    / _ \\\\/ _` | '__| '_ \\\\ \\n      >  <| |___|  __/ (_| | |  | | | |\\n     /_/\\\\_\\\\_____/\\\\___|\\\\__,_|_|  |_| |_|\\n\\n        xLearn   -- 0.35 Version --\\n----------------------------------------------------------------------------------------------\\n\\n\\x1b[39m\\x1b[0m\\x1b[32m\\x1b[1m[ ACTION     ] Read Problem ...\\x1b[0m\\n\\x1b[32m[------------] \\x1b[0mFirst check if the text file has been already converted to binary format.\\n\\x1b[32m[------------] \\x1b[0mBinary file (./ffm-data/train_app_small.ffm.bin) NOT found. Convert text file to binary file.\\n\\x1b[32m[------------] \\x1b[0mFirst check if the text file has been already converted to binary format.\\n\\x1b[32m[------------] \\x1b[0mBinary file (./ffm-data/validate_app_small.ffm.bin) NOT found. Convert text file to binary file.\\n\\x1b[32m[------------] \\x1b[0mNumber of Feature: 242233\\n\\x1b[32m[------------] \\x1b[0mNumber of Field: 13\\n\\x1b[32m[------------] \\x1b[0mTime cost for reading problem: 1.29 (sec)\\n\\x1b[32m\\x1b[1m[ ACTION     ] Initialize model ...\\x1b[0m\\n\\x1b[32m[------------] \\x1b[0mModel size: 97.95 MB\\n\\x1b[32m[------------] \\x1b[0mTime cost for model initial: 0.11 (sec)\\n\\x1b[32m\\x1b[1m[ ACTION     ] Start to train ...\\x1b[0m\\n\\x1b[32m[------------]\\x1b[0m Epoch      Train log_loss       Test log_loss     Time cost (sec)\\n\\x1b[32m[ \\x1b[0m  10%\\x1b[32m      ]\\x1b[0m     1            0.319268            0.370135                0.32\\n\\x1b[32m[ \\x1b[0m  20%\\x1b[32m      ]\\x1b[0m     2            0.308510            0.368885                0.33\\n\\x1b[32m[ \\x1b[0m  30%\\x1b[32m      ]\\x1b[0m     3            0.302796            0.378248                0.32\\n\\x1b[32m[ \\x1b[0m  40%\\x1b[32m      ]\\x1b[0m     4            0.295472            0.387036                0.32\\n\\x1b[32m[ \\x1b[0m  50%\\x1b[32m      ]\\x1b[0m     5            0.278865            0.431039                0.32\\n\\x1b[32m\\x1b[1m[ ACTION     ] Early-stopping at epoch 2, best loss: 0.368885\\x1b[0m\\n\\x1b[32m\\x1b[1m[ ACTION     ] Start to save model ...\\x1b[0m\\n\\x1b[32m[------------] \\x1b[0mModel file: ./ffm-data/train_app_small.ffm.model\\n\\x1b[32m[------------] \\x1b[0mTime cost for saving model: 0.10 (sec)\\n\\x1b[32m\\x1b[1m[ ACTION     ] Finish training\\x1b[0m\\n\\x1b[32m\\x1b[1m[ ACTION     ] Clear the xLearn environment ...\\x1b[0m\\n\\x1b[32m[------------] \\x1b[0mTotal time cost: 3.20 (sec)\\n\""
      ]
     },
     "execution_count": 62,
     "metadata": {},
     "output_type": "execute_result"
    }
   ],
   "source": [
    "train_set = f'./ffm-data/train_app_{train_size}.ffm'\n",
    "validation_set = f'./ffm-data/validate_app_{train_size}.ffm'\n",
    "(lr, reg) = (None, None)\n",
    "\n",
    "run_training_app = xlearn_train_command(train_set, validation_set, learning_rate=lr, reg_param=reg)\n",
    "print(run_training_app)\n",
    "result = subprocess.run(run_training_app, stdout=subprocess.PIPE, shell=True)\n",
    "result.stdout.decode()"
   ]
  },
  {
   "cell_type": "code",
   "execution_count": null,
   "metadata": {},
   "outputs": [],
   "source": [
    "raise"
   ]
  },
  {
   "cell_type": "markdown",
   "metadata": {},
   "source": [
    "## Expedite data generation"
   ]
  },
  {
   "cell_type": "code",
   "execution_count": 4,
   "metadata": {},
   "outputs": [],
   "source": [
    "train_size='tiny'\n",
    "\n",
    "df = pd.read_csv(f'./data/train_{train_size}.csv')\n",
    "df.hour = pd.to_datetime(df.hour, format=\"%y%m%d%H\")\n",
    "df = create_user(df)"
   ]
  },
  {
   "cell_type": "code",
   "execution_count": 17,
   "metadata": {},
   "outputs": [],
   "source": [
    "from tools.cv_tools import train_test_split\n",
    "\n",
    "test_day = 30\n",
    "df_train, df_validate = train_test_split(df, None, test_day)\n",
    "df_train_site, df_train_app = site_app_split(df_train)\n",
    "df_validate_site, df_validate_app = site_app_split(df_validate)"
   ]
  },
  {
   "cell_type": "code",
   "execution_count": 20,
   "metadata": {},
   "outputs": [
    {
     "data": {
      "text/html": [
       "<div>\n",
       "<style scoped>\n",
       "    .dataframe tbody tr th:only-of-type {\n",
       "        vertical-align: middle;\n",
       "    }\n",
       "\n",
       "    .dataframe tbody tr th {\n",
       "        vertical-align: top;\n",
       "    }\n",
       "\n",
       "    .dataframe thead th {\n",
       "        text-align: right;\n",
       "    }\n",
       "</style>\n",
       "<table border=\"1\" class=\"dataframe\">\n",
       "  <thead>\n",
       "    <tr style=\"text-align: right;\">\n",
       "      <th></th>\n",
       "      <th>id</th>\n",
       "      <th>click</th>\n",
       "      <th>hour</th>\n",
       "      <th>C1</th>\n",
       "      <th>banner_pos</th>\n",
       "      <th>platform_id</th>\n",
       "      <th>platform_domain</th>\n",
       "      <th>platform_category</th>\n",
       "      <th>device_id</th>\n",
       "      <th>device_ip</th>\n",
       "      <th>...</th>\n",
       "      <th>C14</th>\n",
       "      <th>C15</th>\n",
       "      <th>C16</th>\n",
       "      <th>C17</th>\n",
       "      <th>C18</th>\n",
       "      <th>C19</th>\n",
       "      <th>C20</th>\n",
       "      <th>C21</th>\n",
       "      <th>device_ip_model</th>\n",
       "      <th>user</th>\n",
       "    </tr>\n",
       "  </thead>\n",
       "  <tbody>\n",
       "    <tr>\n",
       "      <th>14</th>\n",
       "      <td>14420538809991995921</td>\n",
       "      <td>0</td>\n",
       "      <td>2014-10-30 07:00:00</td>\n",
       "      <td>1005</td>\n",
       "      <td>1</td>\n",
       "      <td>57ef2c87</td>\n",
       "      <td>bd6d812f</td>\n",
       "      <td>f028772b</td>\n",
       "      <td>a99f214a</td>\n",
       "      <td>bbf20220</td>\n",
       "      <td>...</td>\n",
       "      <td>17894</td>\n",
       "      <td>320</td>\n",
       "      <td>50</td>\n",
       "      <td>2039</td>\n",
       "      <td>2</td>\n",
       "      <td>39</td>\n",
       "      <td>100077</td>\n",
       "      <td>32</td>\n",
       "      <td>bbf20220_3f2a1e0a</td>\n",
       "      <td>bbf20220_3f2a1e0a</td>\n",
       "    </tr>\n",
       "    <tr>\n",
       "      <th>50</th>\n",
       "      <td>10364749945657457277</td>\n",
       "      <td>1</td>\n",
       "      <td>2014-10-30 11:00:00</td>\n",
       "      <td>1002</td>\n",
       "      <td>0</td>\n",
       "      <td>7549fe4f</td>\n",
       "      <td>c36140b5</td>\n",
       "      <td>50e219e0</td>\n",
       "      <td>3161410c</td>\n",
       "      <td>af332c1d</td>\n",
       "      <td>...</td>\n",
       "      <td>6360</td>\n",
       "      <td>300</td>\n",
       "      <td>50</td>\n",
       "      <td>544</td>\n",
       "      <td>3</td>\n",
       "      <td>39</td>\n",
       "      <td>100075</td>\n",
       "      <td>23</td>\n",
       "      <td>af332c1d_43e7b962</td>\n",
       "      <td>3161410c</td>\n",
       "    </tr>\n",
       "    <tr>\n",
       "      <th>58</th>\n",
       "      <td>4985195673213099587</td>\n",
       "      <td>0</td>\n",
       "      <td>2014-10-30 18:00:00</td>\n",
       "      <td>1005</td>\n",
       "      <td>0</td>\n",
       "      <td>1fbe01fe</td>\n",
       "      <td>f3845767</td>\n",
       "      <td>28905ebd</td>\n",
       "      <td>a99f214a</td>\n",
       "      <td>87d4208b</td>\n",
       "      <td>...</td>\n",
       "      <td>22676</td>\n",
       "      <td>320</td>\n",
       "      <td>50</td>\n",
       "      <td>2616</td>\n",
       "      <td>0</td>\n",
       "      <td>35</td>\n",
       "      <td>-1</td>\n",
       "      <td>51</td>\n",
       "      <td>87d4208b_7dc3b26e</td>\n",
       "      <td>87d4208b_7dc3b26e</td>\n",
       "    </tr>\n",
       "    <tr>\n",
       "      <th>67</th>\n",
       "      <td>9283334626852908594</td>\n",
       "      <td>1</td>\n",
       "      <td>2014-10-30 15:00:00</td>\n",
       "      <td>1005</td>\n",
       "      <td>0</td>\n",
       "      <td>2a68aa20</td>\n",
       "      <td>9b851bd8</td>\n",
       "      <td>3e814130</td>\n",
       "      <td>a99f214a</td>\n",
       "      <td>6b32dddd</td>\n",
       "      <td>...</td>\n",
       "      <td>20213</td>\n",
       "      <td>320</td>\n",
       "      <td>50</td>\n",
       "      <td>2316</td>\n",
       "      <td>0</td>\n",
       "      <td>167</td>\n",
       "      <td>100081</td>\n",
       "      <td>16</td>\n",
       "      <td>6b32dddd_76dc4769</td>\n",
       "      <td>6b32dddd_76dc4769</td>\n",
       "    </tr>\n",
       "    <tr>\n",
       "      <th>124</th>\n",
       "      <td>15118611962038929715</td>\n",
       "      <td>0</td>\n",
       "      <td>2014-10-30 14:00:00</td>\n",
       "      <td>1005</td>\n",
       "      <td>0</td>\n",
       "      <td>dcc019de</td>\n",
       "      <td>250469f8</td>\n",
       "      <td>3e814130</td>\n",
       "      <td>a99f214a</td>\n",
       "      <td>d6b509be</td>\n",
       "      <td>...</td>\n",
       "      <td>8330</td>\n",
       "      <td>320</td>\n",
       "      <td>50</td>\n",
       "      <td>761</td>\n",
       "      <td>3</td>\n",
       "      <td>175</td>\n",
       "      <td>-1</td>\n",
       "      <td>23</td>\n",
       "      <td>d6b509be_d787e91b</td>\n",
       "      <td>d6b509be_d787e91b</td>\n",
       "    </tr>\n",
       "  </tbody>\n",
       "</table>\n",
       "<p>5 rows × 23 columns</p>\n",
       "</div>"
      ],
      "text/plain": [
       "                       id  click                hour    C1  banner_pos  \\\n",
       "14   14420538809991995921      0 2014-10-30 07:00:00  1005           1   \n",
       "50   10364749945657457277      1 2014-10-30 11:00:00  1002           0   \n",
       "58    4985195673213099587      0 2014-10-30 18:00:00  1005           0   \n",
       "67    9283334626852908594      1 2014-10-30 15:00:00  1005           0   \n",
       "124  15118611962038929715      0 2014-10-30 14:00:00  1005           0   \n",
       "\n",
       "    platform_id platform_domain platform_category device_id device_ip  \\\n",
       "14     57ef2c87        bd6d812f          f028772b  a99f214a  bbf20220   \n",
       "50     7549fe4f        c36140b5          50e219e0  3161410c  af332c1d   \n",
       "58     1fbe01fe        f3845767          28905ebd  a99f214a  87d4208b   \n",
       "67     2a68aa20        9b851bd8          3e814130  a99f214a  6b32dddd   \n",
       "124    dcc019de        250469f8          3e814130  a99f214a  d6b509be   \n",
       "\n",
       "           ...            C14  C15  C16   C17  C18  C19     C20  C21  \\\n",
       "14         ...          17894  320   50  2039    2   39  100077   32   \n",
       "50         ...           6360  300   50   544    3   39  100075   23   \n",
       "58         ...          22676  320   50  2616    0   35      -1   51   \n",
       "67         ...          20213  320   50  2316    0  167  100081   16   \n",
       "124        ...           8330  320   50   761    3  175      -1   23   \n",
       "\n",
       "       device_ip_model               user  \n",
       "14   bbf20220_3f2a1e0a  bbf20220_3f2a1e0a  \n",
       "50   af332c1d_43e7b962           3161410c  \n",
       "58   87d4208b_7dc3b26e  87d4208b_7dc3b26e  \n",
       "67   6b32dddd_76dc4769  6b32dddd_76dc4769  \n",
       "124  d6b509be_d787e91b  d6b509be_d787e91b  \n",
       "\n",
       "[5 rows x 23 columns]"
      ]
     },
     "execution_count": 20,
     "metadata": {},
     "output_type": "execute_result"
    }
   ],
   "source": [
    "df_validate_site.head()"
   ]
  },
  {
   "cell_type": "code",
   "execution_count": 6,
   "metadata": {},
   "outputs": [
    {
     "data": {
      "text/plain": [
       "(590, 23)"
      ]
     },
     "execution_count": 6,
     "metadata": {},
     "output_type": "execute_result"
    }
   ],
   "source": [
    "df_train_site.shape"
   ]
  },
  {
   "cell_type": "code",
   "execution_count": 19,
   "metadata": {},
   "outputs": [],
   "source": [
    "from tools.ffm_tools import make_feature_dict, encode_features\n",
    "\n",
    "feature_dict_site = make_feature_dict(df_train_site, categorical_features)"
   ]
  },
  {
   "cell_type": "code",
   "execution_count": 8,
   "metadata": {},
   "outputs": [],
   "source": [
    "encoded = encode_features(df_train_site, feature_dict_site, categorical_features)"
   ]
  },
  {
   "cell_type": "code",
   "execution_count": 9,
   "metadata": {
    "scrolled": true
   },
   "outputs": [
    {
     "data": {
      "text/html": [
       "<div>\n",
       "<style scoped>\n",
       "    .dataframe tbody tr th:only-of-type {\n",
       "        vertical-align: middle;\n",
       "    }\n",
       "\n",
       "    .dataframe tbody tr th {\n",
       "        vertical-align: top;\n",
       "    }\n",
       "\n",
       "    .dataframe thead th {\n",
       "        text-align: right;\n",
       "    }\n",
       "</style>\n",
       "<table border=\"1\" class=\"dataframe\">\n",
       "  <thead>\n",
       "    <tr style=\"text-align: right;\">\n",
       "      <th></th>\n",
       "      <th>id</th>\n",
       "      <th>click</th>\n",
       "      <th>hour</th>\n",
       "      <th>C1</th>\n",
       "      <th>banner_pos</th>\n",
       "      <th>platform_id</th>\n",
       "      <th>platform_domain</th>\n",
       "      <th>platform_category</th>\n",
       "      <th>device_id</th>\n",
       "      <th>device_ip</th>\n",
       "      <th>...</th>\n",
       "      <th>C14</th>\n",
       "      <th>C15</th>\n",
       "      <th>C16</th>\n",
       "      <th>C17</th>\n",
       "      <th>C18</th>\n",
       "      <th>C19</th>\n",
       "      <th>C20</th>\n",
       "      <th>C21</th>\n",
       "      <th>device_ip_model</th>\n",
       "      <th>user</th>\n",
       "    </tr>\n",
       "  </thead>\n",
       "  <tbody>\n",
       "    <tr>\n",
       "      <th>0</th>\n",
       "      <td>11066293153052526398</td>\n",
       "      <td>0</td>\n",
       "      <td>2014-10-23 02:00:00</td>\n",
       "      <td>1005</td>\n",
       "      <td>0</td>\n",
       "      <td>2</td>\n",
       "      <td>152</td>\n",
       "      <td>274</td>\n",
       "      <td>a99f214a</td>\n",
       "      <td>4665f0a5</td>\n",
       "      <td>...</td>\n",
       "      <td>871</td>\n",
       "      <td>300</td>\n",
       "      <td>250</td>\n",
       "      <td>1095</td>\n",
       "      <td>0</td>\n",
       "      <td>35</td>\n",
       "      <td>1214</td>\n",
       "      <td>1259</td>\n",
       "      <td>4665f0a5_36d749e5</td>\n",
       "      <td>283</td>\n",
       "    </tr>\n",
       "    <tr>\n",
       "      <th>1</th>\n",
       "      <td>8222349973801650597</td>\n",
       "      <td>1</td>\n",
       "      <td>2014-10-22 10:00:00</td>\n",
       "      <td>1005</td>\n",
       "      <td>0</td>\n",
       "      <td>2</td>\n",
       "      <td>152</td>\n",
       "      <td>274</td>\n",
       "      <td>a99f214a</td>\n",
       "      <td>80df79b5</td>\n",
       "      <td>...</td>\n",
       "      <td>872</td>\n",
       "      <td>300</td>\n",
       "      <td>250</td>\n",
       "      <td>1096</td>\n",
       "      <td>2</td>\n",
       "      <td>35</td>\n",
       "      <td>1215</td>\n",
       "      <td>1260</td>\n",
       "      <td>80df79b5_76dc4769</td>\n",
       "      <td>284</td>\n",
       "    </tr>\n",
       "    <tr>\n",
       "      <th>2</th>\n",
       "      <td>9513665962503843628</td>\n",
       "      <td>0</td>\n",
       "      <td>2014-10-21 17:00:00</td>\n",
       "      <td>1005</td>\n",
       "      <td>0</td>\n",
       "      <td>3</td>\n",
       "      <td>153</td>\n",
       "      <td>275</td>\n",
       "      <td>a99f214a</td>\n",
       "      <td>693bff3e</td>\n",
       "      <td>...</td>\n",
       "      <td>873</td>\n",
       "      <td>320</td>\n",
       "      <td>50</td>\n",
       "      <td>1097</td>\n",
       "      <td>0</td>\n",
       "      <td>35</td>\n",
       "      <td>1214</td>\n",
       "      <td>1259</td>\n",
       "      <td>693bff3e_4ea23a13</td>\n",
       "      <td>285</td>\n",
       "    </tr>\n",
       "    <tr>\n",
       "      <th>3</th>\n",
       "      <td>7946799301127038469</td>\n",
       "      <td>0</td>\n",
       "      <td>2014-10-24 08:00:00</td>\n",
       "      <td>1005</td>\n",
       "      <td>0</td>\n",
       "      <td>4</td>\n",
       "      <td>154</td>\n",
       "      <td>276</td>\n",
       "      <td>a99f214a</td>\n",
       "      <td>2773b1c8</td>\n",
       "      <td>...</td>\n",
       "      <td>874</td>\n",
       "      <td>320</td>\n",
       "      <td>50</td>\n",
       "      <td>1098</td>\n",
       "      <td>3</td>\n",
       "      <td>39</td>\n",
       "      <td>1214</td>\n",
       "      <td>1260</td>\n",
       "      <td>2773b1c8_d787e91b</td>\n",
       "      <td>286</td>\n",
       "    </tr>\n",
       "    <tr>\n",
       "      <th>4</th>\n",
       "      <td>13112131110372814102</td>\n",
       "      <td>0</td>\n",
       "      <td>2014-10-22 19:00:00</td>\n",
       "      <td>1005</td>\n",
       "      <td>1</td>\n",
       "      <td>5</td>\n",
       "      <td>155</td>\n",
       "      <td>276</td>\n",
       "      <td>a99f214a</td>\n",
       "      <td>b200f41e</td>\n",
       "      <td>...</td>\n",
       "      <td>875</td>\n",
       "      <td>320</td>\n",
       "      <td>50</td>\n",
       "      <td>1099</td>\n",
       "      <td>0</td>\n",
       "      <td>35</td>\n",
       "      <td>1216</td>\n",
       "      <td>1259</td>\n",
       "      <td>b200f41e_8a4875bd</td>\n",
       "      <td>287</td>\n",
       "    </tr>\n",
       "  </tbody>\n",
       "</table>\n",
       "<p>5 rows × 23 columns</p>\n",
       "</div>"
      ],
      "text/plain": [
       "                     id  click                hour    C1  banner_pos  \\\n",
       "0  11066293153052526398      0 2014-10-23 02:00:00  1005           0   \n",
       "1   8222349973801650597      1 2014-10-22 10:00:00  1005           0   \n",
       "2   9513665962503843628      0 2014-10-21 17:00:00  1005           0   \n",
       "3   7946799301127038469      0 2014-10-24 08:00:00  1005           0   \n",
       "4  13112131110372814102      0 2014-10-22 19:00:00  1005           1   \n",
       "\n",
       "   platform_id  platform_domain  platform_category device_id device_ip  ...   \\\n",
       "0            2              152                274  a99f214a  4665f0a5  ...    \n",
       "1            2              152                274  a99f214a  80df79b5  ...    \n",
       "2            3              153                275  a99f214a  693bff3e  ...    \n",
       "3            4              154                276  a99f214a  2773b1c8  ...    \n",
       "4            5              155                276  a99f214a  b200f41e  ...    \n",
       "\n",
       "   C14  C15  C16   C17  C18  C19   C20   C21    device_ip_model  user  \n",
       "0  871  300  250  1095    0   35  1214  1259  4665f0a5_36d749e5   283  \n",
       "1  872  300  250  1096    2   35  1215  1260  80df79b5_76dc4769   284  \n",
       "2  873  320   50  1097    0   35  1214  1259  693bff3e_4ea23a13   285  \n",
       "3  874  320   50  1098    3   39  1214  1260  2773b1c8_d787e91b   286  \n",
       "4  875  320   50  1099    0   35  1216  1259  b200f41e_8a4875bd   287  \n",
       "\n",
       "[5 rows x 23 columns]"
      ]
     },
     "execution_count": 9,
     "metadata": {},
     "output_type": "execute_result"
    }
   ],
   "source": [
    "encoded.head()"
   ]
  },
  {
   "cell_type": "code",
   "execution_count": 21,
   "metadata": {},
   "outputs": [
    {
     "name": "stderr",
     "output_type": "stream",
     "text": [
      "/home/atkm/code/avazu-ctr/tools/ffm_tools.py:48: SettingWithCopyWarning: \n",
      "A value is trying to be set on a copy of a slice from a DataFrame.\n",
      "Try using .loc[row_indexer,col_indexer] = value instead\n",
      "\n",
      "See the caveats in the documentation: http://pandas.pydata.org/pandas-docs/stable/indexing.html#indexing-view-versus-copy\n",
      "  df[c] = df[c].map(replace_dict)\n"
     ]
    }
   ],
   "source": [
    "validate_encoded = encode_features(df_validate_site[categorical_features], feature_dict_site, categorical_features)"
   ]
  },
  {
   "cell_type": "code",
   "execution_count": 31,
   "metadata": {},
   "outputs": [],
   "source": [
    "feature_dict_site.__missing__ = lambda : 0"
   ]
  },
  {
   "cell_type": "code",
   "execution_count": 36,
   "metadata": {
    "scrolled": true
   },
   "outputs": [],
   "source": [
    "d = {'seen': 0}"
   ]
  },
  {
   "cell_type": "code",
   "execution_count": 38,
   "metadata": {},
   "outputs": [
    {
     "ename": "AttributeError",
     "evalue": "'dict' object has no attribute '__missing__'",
     "output_type": "error",
     "traceback": [
      "\u001b[0;31m---------------------------------------------------------------------------\u001b[0m",
      "\u001b[0;31mAttributeError\u001b[0m                            Traceback (most recent call last)",
      "\u001b[0;32m<ipython-input-38-a1d296743bc5>\u001b[0m in \u001b[0;36m<module>\u001b[0;34m\u001b[0m\n\u001b[0;32m----> 1\u001b[0;31m \u001b[0md\u001b[0m\u001b[0;34m.\u001b[0m\u001b[0m__missing__\u001b[0m \u001b[0;34m=\u001b[0m \u001b[0;32mlambda\u001b[0m \u001b[0;34m:\u001b[0m \u001b[0;36m0\u001b[0m\u001b[0;34m\u001b[0m\u001b[0m\n\u001b[0m",
      "\u001b[0;31mAttributeError\u001b[0m: 'dict' object has no attribute '__missing__'"
     ]
    }
   ],
   "source": [
    "d.__missing__ = lambda : 0"
   ]
  },
  {
   "cell_type": "code",
   "execution_count": 37,
   "metadata": {},
   "outputs": [
    {
     "data": {
      "text/plain": [
       "0   NaN\n",
       "Name: c, dtype: float64"
      ]
     },
     "execution_count": 37,
     "metadata": {},
     "output_type": "execute_result"
    }
   ],
   "source": [
    "pd.DataFrame({'c': ['unseen']}).c.map(d)"
   ]
  },
  {
   "cell_type": "code",
   "execution_count": 22,
   "metadata": {
    "scrolled": true
   },
   "outputs": [
    {
     "data": {
      "text/html": [
       "<div>\n",
       "<style scoped>\n",
       "    .dataframe tbody tr th:only-of-type {\n",
       "        vertical-align: middle;\n",
       "    }\n",
       "\n",
       "    .dataframe tbody tr th {\n",
       "        vertical-align: top;\n",
       "    }\n",
       "\n",
       "    .dataframe thead th {\n",
       "        text-align: right;\n",
       "    }\n",
       "</style>\n",
       "<table border=\"1\" class=\"dataframe\">\n",
       "  <thead>\n",
       "    <tr style=\"text-align: right;\">\n",
       "      <th></th>\n",
       "      <th>banner_pos</th>\n",
       "      <th>platform_id</th>\n",
       "      <th>platform_domain</th>\n",
       "      <th>platform_category</th>\n",
       "      <th>user</th>\n",
       "      <th>device_conn_type</th>\n",
       "      <th>C14</th>\n",
       "      <th>C17</th>\n",
       "      <th>C20</th>\n",
       "      <th>C21</th>\n",
       "    </tr>\n",
       "  </thead>\n",
       "  <tbody>\n",
       "    <tr>\n",
       "      <th>14</th>\n",
       "      <td>1</td>\n",
       "      <td>53.0</td>\n",
       "      <td>199.0</td>\n",
       "      <td>276</td>\n",
       "      <td>NaN</td>\n",
       "      <td>869</td>\n",
       "      <td>896.0</td>\n",
       "      <td>1113.0</td>\n",
       "      <td>1215.0</td>\n",
       "      <td>1269.0</td>\n",
       "    </tr>\n",
       "    <tr>\n",
       "      <th>50</th>\n",
       "      <td>0</td>\n",
       "      <td>NaN</td>\n",
       "      <td>NaN</td>\n",
       "      <td>277</td>\n",
       "      <td>NaN</td>\n",
       "      <td>869</td>\n",
       "      <td>1003.0</td>\n",
       "      <td>1172.0</td>\n",
       "      <td>1223.0</td>\n",
       "      <td>1260.0</td>\n",
       "    </tr>\n",
       "    <tr>\n",
       "      <th>58</th>\n",
       "      <td>0</td>\n",
       "      <td>3.0</td>\n",
       "      <td>153.0</td>\n",
       "      <td>275</td>\n",
       "      <td>NaN</td>\n",
       "      <td>869</td>\n",
       "      <td>1017.0</td>\n",
       "      <td>1181.0</td>\n",
       "      <td>1214.0</td>\n",
       "      <td>1281.0</td>\n",
       "    </tr>\n",
       "    <tr>\n",
       "      <th>67</th>\n",
       "      <td>0</td>\n",
       "      <td>NaN</td>\n",
       "      <td>NaN</td>\n",
       "      <td>274</td>\n",
       "      <td>NaN</td>\n",
       "      <td>869</td>\n",
       "      <td>NaN</td>\n",
       "      <td>1197.0</td>\n",
       "      <td>1218.0</td>\n",
       "      <td>1267.0</td>\n",
       "    </tr>\n",
       "    <tr>\n",
       "      <th>124</th>\n",
       "      <td>0</td>\n",
       "      <td>NaN</td>\n",
       "      <td>NaN</td>\n",
       "      <td>274</td>\n",
       "      <td>NaN</td>\n",
       "      <td>869</td>\n",
       "      <td>976.0</td>\n",
       "      <td>1159.0</td>\n",
       "      <td>1214.0</td>\n",
       "      <td>1260.0</td>\n",
       "    </tr>\n",
       "  </tbody>\n",
       "</table>\n",
       "</div>"
      ],
      "text/plain": [
       "     banner_pos  platform_id  platform_domain  platform_category  user  \\\n",
       "14            1         53.0            199.0                276   NaN   \n",
       "50            0          NaN              NaN                277   NaN   \n",
       "58            0          3.0            153.0                275   NaN   \n",
       "67            0          NaN              NaN                274   NaN   \n",
       "124           0          NaN              NaN                274   NaN   \n",
       "\n",
       "     device_conn_type     C14     C17     C20     C21  \n",
       "14                869   896.0  1113.0  1215.0  1269.0  \n",
       "50                869  1003.0  1172.0  1223.0  1260.0  \n",
       "58                869  1017.0  1181.0  1214.0  1281.0  \n",
       "67                869     NaN  1197.0  1218.0  1267.0  \n",
       "124               869   976.0  1159.0  1214.0  1260.0  "
      ]
     },
     "execution_count": 22,
     "metadata": {},
     "output_type": "execute_result"
    }
   ],
   "source": [
    "validate_encoded.head()"
   ]
  },
  {
   "cell_type": "code",
   "execution_count": null,
   "metadata": {
    "scrolled": true
   },
   "outputs": [],
   "source": [
    "encoded[categorical_features ].isna().sum()"
   ]
  },
  {
   "cell_type": "code",
   "execution_count": null,
   "metadata": {},
   "outputs": [],
   "source": [
    "encoded = encoded[categorical_features + ['click']]"
   ]
  },
  {
   "cell_type": "code",
   "execution_count": null,
   "metadata": {
    "scrolled": false
   },
   "outputs": [],
   "source": [
    "encoded.head()"
   ]
  },
  {
   "cell_type": "code",
   "execution_count": null,
   "metadata": {},
   "outputs": [],
   "source": [
    "copied = encoded.copy()"
   ]
  },
  {
   "cell_type": "code",
   "execution_count": null,
   "metadata": {},
   "outputs": [],
   "source": [
    "copied.banner_pos = '0:' + copied.banner_pos.astype('str') + ':1'"
   ]
  },
  {
   "cell_type": "code",
   "execution_count": null,
   "metadata": {},
   "outputs": [],
   "source": [
    "for i, c in enumerate(copied):\n",
    "    copied[c] = f'{i}:' + copied[c].astype('str') + ':1'"
   ]
  },
  {
   "cell_type": "code",
   "execution_count": null,
   "metadata": {
    "scrolled": false
   },
   "outputs": [],
   "source": [
    "copied.info(memory_usage='deep')"
   ]
  },
  {
   "cell_type": "code",
   "execution_count": null,
   "metadata": {},
   "outputs": [],
   "source": [
    "copied.head()"
   ]
  },
  {
   "cell_type": "code",
   "execution_count": null,
   "metadata": {},
   "outputs": [],
   "source": [
    "encoded.info(memory_usage='deep')"
   ]
  },
  {
   "cell_type": "code",
   "execution_count": null,
   "metadata": {},
   "outputs": [],
   "source": [
    "copied.shape"
   ]
  },
  {
   "cell_type": "code",
   "execution_count": null,
   "metadata": {
    "scrolled": true
   },
   "outputs": [],
   "source": [
    "%%time\n",
    "copied.to_csv('test-write-encoded.csv', sep=' ')"
   ]
  },
  {
   "cell_type": "code",
   "execution_count": null,
   "metadata": {},
   "outputs": [],
   "source": [
    "encoded.shape"
   ]
  },
  {
   "cell_type": "code",
   "execution_count": null,
   "metadata": {},
   "outputs": [],
   "source": [
    "%%time\n",
    "from tools.ffm_tools import ffm_row_generator\n",
    "with open('test-write-encoded.ffm', 'w') as f:\n",
    "    for ffm_row in ffm_row_generator(encoded):\n",
    "        f.write(ffm_row)\n",
    "        f.write('\\n')"
   ]
  },
  {
   "cell_type": "code",
   "execution_count": null,
   "metadata": {},
   "outputs": [],
   "source": [
    "raise"
   ]
  },
  {
   "cell_type": "markdown",
   "metadata": {},
   "source": [
    "## Without count features"
   ]
  },
  {
   "cell_type": "markdown",
   "metadata": {},
   "source": [
    "### Part 0: prepare train data.\n",
    "\n",
    "Run `~/code/xlearn/build/xlearn_train ./ffm-data/train_{site,app}_{train_size}.ffm -s 2 -v ./ffm-data/validate_{site,app}_{train_size}.ffm`.\n",
    "\n",
    "Generates `./ffm-data/train_{site,app}_{train_size}.ffm.model`.\n",
    "\n",
    "Early-stopping is enabled by default when a validation set is provided.\n",
    "\n",
    "Stats:\n",
    "- 'small', with categorical_features = ['banner_pos', 'platform_id', 'platform_domain', 'platform_category', 'user', 'device_conn_type', 'C14','C17','C20','C21'] => 04m25s (with the new ffm_row_generator).\n",
    "\n",
    "    Use (lr, reg) = (1.5055668655636434, 0.14551999446480063) for site; (0.00166189386987065, 0.48305136367563084) for app.\n",
    "    Private=0.4278890, Public=0.4292961\n",
    "    \n",
    "    Use site: (lr, reg) =  (0.062, 0.00000561), app: (0.433, 0.000104).\n",
    "    Private=0.3977579, Public=0.3997753\n",
    "    \n",
    "- 'small', with categorical_features = ['banner_pos', 'platform_id', 'platform_domain', 'platform_category',\n",
    "    'device_id', 'device_ip', 'device_model',\n",
    "    'user', 'device_conn_type', 'C14','C17','C20','C21'] => 09m15s, best losses: site-0.447526, app-0.343323."
   ]
  },
  {
   "cell_type": "code",
   "execution_count": 6,
   "metadata": {},
   "outputs": [],
   "source": [
    "import pandas as pd\n",
    "\n",
    "categorical_features = ['banner_pos', 'platform_id', 'platform_domain', 'platform_category',\n",
    "                    'user', 'device_conn_type', 'C14','C17','C20','C21']\n",
    "#  add device_id, device_ip, and device_model.\n",
    "#categorical_features = ['banner_pos', 'platform_id', 'platform_domain', 'platform_category',\n",
    "#                        'device_id', 'device_ip', 'device_model',\n",
    "#                    'user', 'device_conn_type', 'C14','C17','C20','C21']\n",
    "\n",
    "train_size='small'\n",
    "\n",
    "df = pd.read_csv(f'./data/train_{train_size}.csv')\n",
    "df.hour = pd.to_datetime(df.hour, format=\"%y%m%d%H\")\n",
    "df = create_user(df)"
   ]
  },
  {
   "cell_type": "code",
   "execution_count": 7,
   "metadata": {
    "scrolled": true
   },
   "outputs": [
    {
     "name": "stdout",
     "output_type": "stream",
     "text": [
      "./ffm-data/train_site_small.ffm\n",
      "./ffm-data/validate_site_small.ffm\n",
      "./ffm-data/train_app_small.ffm\n",
      "./ffm-data/validate_app_small.ffm\n",
      "CPU times: user 4min 54s, sys: 1.6 s, total: 4min 56s\n",
      "Wall time: 5min\n"
     ]
    }
   ],
   "source": [
    "%%time\n",
    "# we don't use train_site/app, validate_site/app\n",
    "_, _, feature_dict_site, _, _, feature_dict_app = make_train_validate_data(df, categorical_features, train_size)"
   ]
  },
  {
   "cell_type": "code",
   "execution_count": null,
   "metadata": {},
   "outputs": [],
   "source": [
    "raise \"Tune Model\""
   ]
  },
  {
   "cell_type": "code",
   "execution_count": 8,
   "metadata": {},
   "outputs": [
    {
     "data": {
      "text/plain": [
       "'~/code/xlearn/build/xlearn_train ./ffm-data/train_site_small.ffm -s 2 -v ./ffm-data/validate_site_small.ffm -r 0.062 -b 5.61e-06'"
      ]
     },
     "execution_count": 8,
     "metadata": {},
     "output_type": "execute_result"
    }
   ],
   "source": [
    "train_set = f'./ffm-data/train_site_{train_size}.ffm'\n",
    "validation_set = f'./ffm-data/validate_site_{train_size}.ffm'\n",
    "\n",
    "(lr, reg) = (0.062, 0.00000561)\n",
    "run_training_site = xlearn_train_command(train_set, validation_set, learning_rate=lr, reg_param=reg)\n",
    "run_training_site"
   ]
  },
  {
   "cell_type": "code",
   "execution_count": 9,
   "metadata": {},
   "outputs": [
    {
     "data": {
      "text/plain": [
       "\"\\x1b[32m\\x1b[1m----------------------------------------------------------------------------------------------\\n           _\\n          | |\\n     __  _| |     ___  __ _ _ __ _ __\\n     \\\\ \\\\/ / |    / _ \\\\/ _` | '__| '_ \\\\ \\n      >  <| |___|  __/ (_| | |  | | | |\\n     /_/\\\\_\\\\_____/\\\\___|\\\\__,_|_|  |_| |_|\\n\\n        xLearn   -- 0.35 Version --\\n----------------------------------------------------------------------------------------------\\n\\n\\x1b[39m\\x1b[0m\\x1b[32m\\x1b[1m[ ACTION     ] Read Problem ...\\x1b[0m\\n\\x1b[32m[------------] \\x1b[0mFirst check if the text file has been already converted to binary format.\\n\\x1b[32m[------------] \\x1b[0mBinary file (./ffm-data/train_site_small.ffm.bin) found. Skip converting text to binary.\\n\\x1b[32m[------------] \\x1b[0mFirst check if the text file has been already converted to binary format.\\n\\x1b[32m[------------] \\x1b[0mBinary file (./ffm-data/validate_site_small.ffm.bin) found. Skip converting text to binary.\\n\\x1b[32m[------------] \\x1b[0mNumber of Feature: 467850\\n\\x1b[32m[------------] \\x1b[0mNumber of Field: 10\\n\\x1b[32m[------------] \\x1b[0mTime cost for reading problem: 0.44 (sec)\\n\\x1b[32m\\x1b[1m[ ACTION     ] Initialize model ...\\x1b[0m\\n\\x1b[32m[------------] \\x1b[0mModel size: 146.35 MB\\n\\x1b[32m[------------] \\x1b[0mTime cost for model initial: 0.17 (sec)\\n\\x1b[32m\\x1b[1m[ ACTION     ] Start to train ...\\x1b[0m\\n\\x1b[32m[------------]\\x1b[0m Epoch      Train log_loss       Test log_loss     Time cost (sec)\\n\\x1b[32m[ \\x1b[0m  10%\\x1b[32m      ]\\x1b[0m     1            0.456000            0.454157                0.41\\n\\x1b[32m[ \\x1b[0m  20%\\x1b[32m      ]\\x1b[0m     2            0.448370            0.451162                0.42\\n\\x1b[32m[ \\x1b[0m  30%\\x1b[32m      ]\\x1b[0m     3            0.445425            0.450771                0.41\\n\\x1b[32m[ \\x1b[0m  40%\\x1b[32m      ]\\x1b[0m     4            0.443034            0.449906                0.41\\n\\x1b[32m[ \\x1b[0m  50%\\x1b[32m      ]\\x1b[0m     5            0.440667            0.449060                0.42\\n\\x1b[32m[ \\x1b[0m  60%\\x1b[32m      ]\\x1b[0m     6            0.437881            0.448768                0.41\\n\\x1b[32m[ \\x1b[0m  70%\\x1b[32m      ]\\x1b[0m     7            0.434237            0.448569                0.41\\n\\x1b[32m[ \\x1b[0m  80%\\x1b[32m      ]\\x1b[0m     8            0.428859            0.448367                0.41\\n\\x1b[32m[ \\x1b[0m  90%\\x1b[32m      ]\\x1b[0m     9            0.420526            0.448554                0.42\\n\\x1b[32m[ \\x1b[0m 100%\\x1b[32m      ]\\x1b[0m    10            0.407377            0.449388                0.41\\n\\x1b[32m\\x1b[1m[ ACTION     ] Early-stopping at epoch 8, best loss: 0.448367\\x1b[0m\\n\\x1b[32m\\x1b[1m[ ACTION     ] Start to save model ...\\x1b[0m\\n\\x1b[32m[------------] \\x1b[0mModel file: ./ffm-data/train_site_small.ffm.model\\n\\x1b[32m[------------] \\x1b[0mTime cost for saving model: 0.26 (sec)\\n\\x1b[32m\\x1b[1m[ ACTION     ] Finish training\\x1b[0m\\n\\x1b[32m\\x1b[1m[ ACTION     ] Clear the xLearn environment ...\\x1b[0m\\n\\x1b[32m[------------] \\x1b[0mTotal time cost: 5.29 (sec)\\n\""
      ]
     },
     "execution_count": 9,
     "metadata": {},
     "output_type": "execute_result"
    }
   ],
   "source": [
    "result = subprocess.run(run_training_site, stdout=subprocess.PIPE, shell=True)\n",
    "result.stdout.decode()"
   ]
  },
  {
   "cell_type": "code",
   "execution_count": 10,
   "metadata": {},
   "outputs": [
    {
     "data": {
      "text/plain": [
       "'~/code/xlearn/build/xlearn_train ./ffm-data/train_app_small.ffm -s 2 -v ./ffm-data/validate_app_small.ffm -r 0.433 -b 0.000104'"
      ]
     },
     "execution_count": 10,
     "metadata": {},
     "output_type": "execute_result"
    }
   ],
   "source": [
    "train_set = f'./ffm-data/train_app_{train_size}.ffm'\n",
    "validation_set = f'./ffm-data/validate_app_{train_size}.ffm'\n",
    "(lr, reg) = (0.433, 0.000104)\n",
    "\n",
    "run_training_app = xlearn_train_command(train_set, validation_set, learning_rate=lr, reg_param=reg)\n",
    "run_training_app"
   ]
  },
  {
   "cell_type": "code",
   "execution_count": 11,
   "metadata": {},
   "outputs": [
    {
     "data": {
      "text/plain": [
       "\"\\x1b[32m\\x1b[1m----------------------------------------------------------------------------------------------\\n           _\\n          | |\\n     __  _| |     ___  __ _ _ __ _ __\\n     \\\\ \\\\/ / |    / _ \\\\/ _` | '__| '_ \\\\ \\n      >  <| |___|  __/ (_| | |  | | | |\\n     /_/\\\\_\\\\_____/\\\\___|\\\\__,_|_|  |_| |_|\\n\\n        xLearn   -- 0.35 Version --\\n----------------------------------------------------------------------------------------------\\n\\n\\x1b[39m\\x1b[0m\\x1b[32m\\x1b[1m[ ACTION     ] Read Problem ...\\x1b[0m\\n\\x1b[32m[------------] \\x1b[0mFirst check if the text file has been already converted to binary format.\\n\\x1b[32m[------------] \\x1b[0mBinary file (./ffm-data/train_app_small.ffm.bin) found. Skip converting text to binary.\\n\\x1b[32m[------------] \\x1b[0mFirst check if the text file has been already converted to binary format.\\n\\x1b[32m[------------] \\x1b[0mBinary file (./ffm-data/validate_app_small.ffm.bin) found. Skip converting text to binary.\\n\\x1b[32m[------------] \\x1b[0mNumber of Feature: 241763\\n\\x1b[32m[------------] \\x1b[0mNumber of Field: 10\\n\\x1b[32m[------------] \\x1b[0mTime cost for reading problem: 0.25 (sec)\\n\\x1b[32m\\x1b[1m[ ACTION     ] Initialize model ...\\x1b[0m\\n\\x1b[32m[------------] \\x1b[0mModel size: 75.62 MB\\n\\x1b[32m[------------] \\x1b[0mTime cost for model initial: 0.09 (sec)\\n\\x1b[32m\\x1b[1m[ ACTION     ] Start to train ...\\x1b[0m\\n\\x1b[32m[------------]\\x1b[0m Epoch      Train log_loss       Test log_loss     Time cost (sec)\\n\\x1b[32m[ \\x1b[0m  10%\\x1b[32m      ]\\x1b[0m     1            0.318684            0.345368                0.22\\n\\x1b[32m[ \\x1b[0m  20%\\x1b[32m      ]\\x1b[0m     2            0.306045            0.344792                0.23\\n\\x1b[32m[ \\x1b[0m  30%\\x1b[32m      ]\\x1b[0m     3            0.290435            0.344632                0.23\\n\\x1b[32m[ \\x1b[0m  40%\\x1b[32m      ]\\x1b[0m     4            0.239600            0.346631                0.22\\n\\x1b[32m[ \\x1b[0m  50%\\x1b[32m      ]\\x1b[0m     5            0.160135            0.351511                0.22\\n\\x1b[32m[ \\x1b[0m  60%\\x1b[32m      ]\\x1b[0m     6            0.117072            0.356642                0.30\\n\\x1b[32m\\x1b[1m[ ACTION     ] Early-stopping at epoch 3, best loss: 0.344632\\x1b[0m\\n\\x1b[32m\\x1b[1m[ ACTION     ] Start to save model ...\\x1b[0m\\n\\x1b[32m[------------] \\x1b[0mModel file: ./ffm-data/train_app_small.ffm.model\\n\\x1b[32m[------------] \\x1b[0mTime cost for saving model: 0.09 (sec)\\n\\x1b[32m\\x1b[1m[ ACTION     ] Finish training\\x1b[0m\\n\\x1b[32m\\x1b[1m[ ACTION     ] Clear the xLearn environment ...\\x1b[0m\\n\\x1b[32m[------------] \\x1b[0mTotal time cost: 1.94 (sec)\\n\""
      ]
     },
     "execution_count": 11,
     "metadata": {},
     "output_type": "execute_result"
    }
   ],
   "source": [
    "result = subprocess.run(run_training_app, stdout=subprocess.PIPE, shell=True)\n",
    "result.stdout.decode()"
   ]
  },
  {
   "cell_type": "code",
   "execution_count": null,
   "metadata": {},
   "outputs": [],
   "source": [
    "raise \"Train/tune models.\""
   ]
  },
  {
   "cell_type": "markdown",
   "metadata": {},
   "source": [
    "### Part 1: prepare test data.\n",
    "\n",
    "Generates `./ffm-data/test_{site,app}_{test_size}.ffm.out`.\n",
    "\n",
    "Stats:\n",
    "- 'full', with categorical_features = ['banner_pos', 'platform_id', 'platform_domain', 'platform_category', 'user', 'device_conn_type', 'C14','C17','C20','C21']  --> site = 08m42s (old 27m); app = 05m19s (old 14m).\n",
    "- 'small', with categorical_features = ['banner_pos', 'platform_id', 'platform_domain', 'platform_category', 'user', 'device_conn_type', 'C14','C17','C20','C21']  --> site = 01m53s (old 06m); app = 01m09s (old 4m).\n",
    "- 'full', with categorical_features = ['banner_pos', 'platform_id', 'platform_domain', 'platform_category',\n",
    "    'device_id', 'device_ip', 'device_model',\n",
    "    'user', 'device_conn_type', 'C14','C17','C20','C21'] => site = 25m39s; app = 15m45s."
   ]
  },
  {
   "cell_type": "code",
   "execution_count": 12,
   "metadata": {},
   "outputs": [
    {
     "data": {
      "text/plain": [
       "((2858160, 22), (1719304, 22))"
      ]
     },
     "execution_count": 12,
     "metadata": {},
     "output_type": "execute_result"
    }
   ],
   "source": [
    "test_size='full'\n",
    "\n",
    "if test_size == 'full':\n",
    "    df_test = pd.read_csv(f'./data/test.csv', dtype={'id': 'uint64'})\n",
    "else:\n",
    "    df_test = pd.read_csv(f'./data/test_{test_size}.csv', dtype={'id': 'uint64'})\n",
    "df_test = create_user(df_test)\n",
    "\n",
    "df_test_site, df_test_app = site_app_split(df_test)\n",
    "del df_test\n",
    "df_test_site.shape, df_test_app.shape"
   ]
  },
  {
   "cell_type": "code",
   "execution_count": 13,
   "metadata": {},
   "outputs": [
    {
     "name": "stdout",
     "output_type": "stream",
     "text": [
      "CPU times: user 8min 48s, sys: 2.36 s, total: 8min 50s\n",
      "Wall time: 8min 52s\n"
     ]
    }
   ],
   "source": [
    "%%time\n",
    "ffm_data_test_site = f'./ffm-data/test_site_{test_size}.ffm'\n",
    "    \n",
    "df_to_ffm(df_test_site, categorical_features, \n",
    "          ffm_data_test_site, 'test', feature_dict_site)"
   ]
  },
  {
   "cell_type": "code",
   "execution_count": 14,
   "metadata": {},
   "outputs": [
    {
     "name": "stdout",
     "output_type": "stream",
     "text": [
      "CPU times: user 5min 38s, sys: 1.63 s, total: 5min 40s\n",
      "Wall time: 5min 41s\n"
     ]
    }
   ],
   "source": [
    "%%time\n",
    "ffm_data_test_app = f'./ffm-data/test_app_{test_size}.ffm'\n",
    "\n",
    "df_to_ffm(df_test_app, categorical_features, \n",
    "          ffm_data_test_app, 'test', feature_dict_app)"
   ]
  },
  {
   "cell_type": "markdown",
   "metadata": {},
   "source": [
    "### Part 2: predict"
   ]
  },
  {
   "cell_type": "code",
   "execution_count": 15,
   "metadata": {},
   "outputs": [
    {
     "data": {
      "text/plain": [
       "'~/code/xlearn/build/xlearn_predict ./ffm-data/test_site_full.ffm ./ffm-data/train_site_small.ffm.model --sigmoid'"
      ]
     },
     "execution_count": 15,
     "metadata": {},
     "output_type": "execute_result"
    }
   ],
   "source": [
    "test_set = f'./ffm-data/test_site_{test_size}.ffm'\n",
    "model = f'./ffm-data/train_site_{train_size}.ffm.model'\n",
    "run_predict_site = xlearn_predict_command(test_set, model)\n",
    "run_predict_site"
   ]
  },
  {
   "cell_type": "code",
   "execution_count": 16,
   "metadata": {},
   "outputs": [
    {
     "data": {
      "text/plain": [
       "\"\\x1b[32m\\x1b[1m----------------------------------------------------------------------------------------------\\n           _\\n          | |\\n     __  _| |     ___  __ _ _ __ _ __\\n     \\\\ \\\\/ / |    / _ \\\\/ _` | '__| '_ \\\\ \\n      >  <| |___|  __/ (_| | |  | | | |\\n     /_/\\\\_\\\\_____/\\\\___|\\\\__,_|_|  |_| |_|\\n\\n        xLearn   -- 0.35 Version --\\n----------------------------------------------------------------------------------------------\\n\\n\\x1b[39m\\x1b[0m\\x1b[32m\\x1b[1m[ ACTION     ] Load model ...\\x1b[0m\\n\\x1b[32m[------------] \\x1b[0mLoad model from ./ffm-data/train_site_small.ffm.model\\n\\x1b[32m[------------] \\x1b[0mLoss function: cross-entropy\\n\\x1b[32m[------------] \\x1b[0mScore function: ffm\\n\\x1b[32m[------------] \\x1b[0mNumber of Feature: 467850\\n\\x1b[32m[------------] \\x1b[0mNumber of K: 4\\n\\x1b[32m[------------] \\x1b[0mNumber of field: 10\\n\\x1b[32m[------------] \\x1b[0mTime cost for loading model: 0.18 (sec)\\n\\x1b[32m\\x1b[1m[ ACTION     ] Read Problem ...\\x1b[0m\\n\\x1b[32m[------------] \\x1b[0mFirst check if the text file has been already converted to binary format.\\n\\x1b[32m[------------] \\x1b[0mBinary file (./ffm-data/test_site_full.ffm.bin) NOT found. Convert text file to binary file.\\n\\x1b[32m[------------] \\x1b[0mTime cost for reading problem: 9.07 (sec)\\n\\x1b[32m\\x1b[1m[ ACTION     ] Start to predict ...\\x1b[0m\\n\\x1b[32m[------------] \\x1b[0mThe test loss is: 1.949202\\n\\x1b[32m\\x1b[1m[ ACTION     ] Clear the xLearn environment ...\\x1b[0m\\n\\x1b[32m[------------] \\x1b[0mTotal time cost: 11.21 (sec)\\n\""
      ]
     },
     "execution_count": 16,
     "metadata": {},
     "output_type": "execute_result"
    }
   ],
   "source": [
    "result = subprocess.run(run_predict_site, stdout=subprocess.PIPE, shell=True)\n",
    "result.stdout.decode()"
   ]
  },
  {
   "cell_type": "code",
   "execution_count": 17,
   "metadata": {},
   "outputs": [
    {
     "data": {
      "text/plain": [
       "'~/code/xlearn/build/xlearn_predict ./ffm-data/test_app_full.ffm ./ffm-data/train_app_small.ffm.model --sigmoid'"
      ]
     },
     "execution_count": 17,
     "metadata": {},
     "output_type": "execute_result"
    }
   ],
   "source": [
    "test_set = f'./ffm-data/test_app_{test_size}.ffm'\n",
    "model = f'./ffm-data/train_app_{train_size}.ffm.model'\n",
    "run_predict_app = xlearn_predict_command(test_set, model)\n",
    "run_predict_app"
   ]
  },
  {
   "cell_type": "code",
   "execution_count": 18,
   "metadata": {},
   "outputs": [
    {
     "data": {
      "text/plain": [
       "\"\\x1b[32m\\x1b[1m----------------------------------------------------------------------------------------------\\n           _\\n          | |\\n     __  _| |     ___  __ _ _ __ _ __\\n     \\\\ \\\\/ / |    / _ \\\\/ _` | '__| '_ \\\\ \\n      >  <| |___|  __/ (_| | |  | | | |\\n     /_/\\\\_\\\\_____/\\\\___|\\\\__,_|_|  |_| |_|\\n\\n        xLearn   -- 0.35 Version --\\n----------------------------------------------------------------------------------------------\\n\\n\\x1b[39m\\x1b[0m\\x1b[32m\\x1b[1m[ ACTION     ] Load model ...\\x1b[0m\\n\\x1b[32m[------------] \\x1b[0mLoad model from ./ffm-data/train_app_small.ffm.model\\n\\x1b[32m[------------] \\x1b[0mLoss function: cross-entropy\\n\\x1b[32m[------------] \\x1b[0mScore function: ffm\\n\\x1b[32m[------------] \\x1b[0mNumber of Feature: 241763\\n\\x1b[32m[------------] \\x1b[0mNumber of K: 4\\n\\x1b[32m[------------] \\x1b[0mNumber of field: 10\\n\\x1b[32m[------------] \\x1b[0mTime cost for loading model: 0.17 (sec)\\n\\x1b[32m\\x1b[1m[ ACTION     ] Read Problem ...\\x1b[0m\\n\\x1b[32m[------------] \\x1b[0mFirst check if the text file has been already converted to binary format.\\n\\x1b[32m[------------] \\x1b[0mBinary file (./ffm-data/test_app_full.ffm.bin) NOT found. Convert text file to binary file.\\n\\x1b[32m[------------] \\x1b[0mTime cost for reading problem: 5.38 (sec)\\n\\x1b[32m\\x1b[1m[ ACTION     ] Start to predict ...\\x1b[0m\\n\\x1b[32m[------------] \\x1b[0mThe test loss is: 2.229344\\n\\x1b[32m\\x1b[1m[ ACTION     ] Clear the xLearn environment ...\\x1b[0m\\n\\x1b[32m[------------] \\x1b[0mTotal time cost: 6.76 (sec)\\n\""
      ]
     },
     "execution_count": 18,
     "metadata": {},
     "output_type": "execute_result"
    }
   ],
   "source": [
    "result = subprocess.run(run_predict_app, stdout=subprocess.PIPE, shell=True)\n",
    "result.stdout.decode()"
   ]
  },
  {
   "cell_type": "code",
   "execution_count": null,
   "metadata": {},
   "outputs": [],
   "source": [
    "raise \"run prediction\""
   ]
  },
  {
   "cell_type": "markdown",
   "metadata": {},
   "source": [
    "### Part 3: write submission.csv"
   ]
  },
  {
   "cell_type": "code",
   "execution_count": 19,
   "metadata": {},
   "outputs": [],
   "source": [
    "prediction_site = f'./ffm-data/test_site_{test_size}.ffm'\n",
    "prediction_site_out = prediction_site + '.out'\n",
    "prediction_site_id = prediction_site + '.id'\n",
    "prediction_app = f'./ffm-data/test_app_{test_size}.ffm'\n",
    "prediction_app_out = prediction_app + '.out'\n",
    "prediction_app_id = prediction_app + '.id'\n",
    "\n",
    "write_submission(prediction_site_out, prediction_site_id, prediction_app_out, prediction_app_id, 'submission-.csv')"
   ]
  },
  {
   "cell_type": "markdown",
   "metadata": {},
   "source": [
    "### Part 2 (obsolete): train model and predict.\n",
    "Do this in shell."
   ]
  },
  {
   "cell_type": "code",
   "execution_count": null,
   "metadata": {},
   "outputs": [],
   "source": [
    "def run_ffm(train_set, validate_set, test_set, model_out, predict_out):\n",
    "    ffm_model = xl.create_ffm()\n",
    "    ffm_model.setTrain(train_set)\n",
    "    ffm_model.setValidate(validate_set)\n",
    "    \n",
    "    param = {'task':'binary', 'lr':0.2, 'lambda':0.002}\n",
    "    ffm_model.fit(param, model_out)\n",
    "    \n",
    "    ffm_model.setSigmoid()\n",
    "    ffm_model.setTest(test_set)\n",
    "    ffm_model.predict(model_out, predict_out)\n",
    "    print(f'Prediction written to {predict_out}')"
   ]
  },
  {
   "cell_type": "code",
   "execution_count": null,
   "metadata": {},
   "outputs": [],
   "source": [
    "#TODO: move this to tools/kaggle_tools\n",
    "def validate_submission(submission_csv, ids):\n",
    "    \"\"\"\n",
    "    Ensure that the submission file is in the right format, \n",
    "    and that it contains required id's.\n",
    "    \"\"\"\n",
    "    pass"
   ]
  },
  {
   "cell_type": "code",
   "execution_count": null,
   "metadata": {},
   "outputs": [],
   "source": [
    "train_size = 'small'\n",
    "test_size = 'small'"
   ]
  },
  {
   "cell_type": "code",
   "execution_count": null,
   "metadata": {},
   "outputs": [],
   "source": [
    "train_site = f'./ffm-data/train_site_{train_size}.ffm'\n",
    "validate_site = f'./ffm-data/validate_site_{train_size}.ffm'\n",
    "test_site = f'./ffm-data/test_site_{test_size}.ffm'\n",
    "model_site_out = './xlearn-out/ffm-site.out'\n",
    "predict_site_out = './xlearn-out/out-site.txt'"
   ]
  },
  {
   "cell_type": "code",
   "execution_count": null,
   "metadata": {},
   "outputs": [],
   "source": [
    "%%time\n",
    "# TODO: kernel dies when the test \n",
    "run_ffm(train_site, validate_site, test_site, model_site_out, predict_site_out)"
   ]
  },
  {
   "cell_type": "code",
   "execution_count": null,
   "metadata": {},
   "outputs": [],
   "source": [
    "train_app = f'./ffm-data/train_app_{train_size}.ffm'\n",
    "validate_app = f'./ffm-data/validate_app_{train_size}.ffm'\n",
    "test_app = f'./ffm-data/test_app_{test_size}.ffm'\n",
    "model_app_out = './xlearn-out/ffm-app.out'\n",
    "predict_app_out = './xlearn-out/out-app.txt'\n",
    "\n",
    "run_ffm(train_app, validate_app, test_app, model_app_out, predict_app_out)"
   ]
  },
  {
   "cell_type": "code",
   "execution_count": null,
   "metadata": {},
   "outputs": [],
   "source": [
    "prediction_id_site = f'./ffm-data/test_site_{test_size}.ffm.id'\n",
    "prediction_id_app = f'./ffm-data/test_app_{test_size}.ffm.id'\n",
    "write_submission(predict_site_out, prediction_id_site, predict_app_out, prediction_id_app, 'submission-.csv')"
   ]
  }
 ],
 "metadata": {
  "kernelspec": {
   "display_name": "Python 3",
   "language": "python",
   "name": "python3"
  },
  "language_info": {
   "codemirror_mode": {
    "name": "ipython",
    "version": 3
   },
   "file_extension": ".py",
   "mimetype": "text/x-python",
   "name": "python",
   "nbconvert_exporter": "python",
   "pygments_lexer": "ipython3",
   "version": "3.6.6"
  }
 },
 "nbformat": 4,
 "nbformat_minor": 2
}
