{
 "cells": [
  {
   "cell_type": "markdown",
   "metadata": {},
   "source": [
    "['id','click','hour','banner_pos','device_id','device_ip','device_model','device_conn_type','C14','C17','C20','C21'], and add cols ['pub_id','pub_domain','pub_category','device_id_count','device_ip_count','user_count','smooth_user_hour_count','user_click_histroy'].\n",
    "\n",
    "Stats:\n",
    "- 'small' with device_* cols: Private=0.3998675, Public=0.4020308\n",
    "- 'small' without device_* cols: Private=0.4024273, Public=0.4045937\n",
    "\n",
    "\n",
    "TODO:\n",
    "- add features: device_id, device_ip, and device_model\n",
    "- count features: device_id, device_ip, user\n",
    "- expedite data generation. An iteration of a model is too slow."
   ]
  },
  {
   "cell_type": "code",
   "execution_count": 1,
   "metadata": {},
   "outputs": [],
   "source": [
    "import xlearn as xl\n",
    "\n",
    "from tools.ffm_tools import make_train_validate_data, df_to_ffm, write_submission\n",
    "from models.base import create_user, site_app_split"
   ]
  },
  {
   "cell_type": "markdown",
   "metadata": {},
   "source": [
    "### Part 0: prepare train data.\n",
    "\n",
    "Run `~/code/xlearn/build/xlearn_train ./ffm-data/train_{site,app}_{train_size}.ffm -s 2 -v ./ffm-data/validate_{site,app}_{train_size}.ffm`.\n",
    "\n",
    "Generates `./ffm-data/train_{site,app}_{train_size}.ffm.model`.\n",
    "\n",
    "Early-stopping is enabled by default when a validation set is provided.\n",
    "\n",
    "Stats:\n",
    "- 'small', with categorical_features = ['banner_pos', 'platform_id', 'platform_domain', 'platform_category', 'user', 'device_conn_type', 'C14','C17','C20','C21'] =>\n",
    "- 'small', with categorical_features = ['banner_pos', 'platform_id', 'platform_domain', 'platform_category',\n",
    "    'device_id', 'device_ip', 'device_model',\n",
    "    'user', 'device_conn_type', 'C14','C17','C20','C21'] => 09m15s, best losses: site-0.447526, app-0.343323."
   ]
  },
  {
   "cell_type": "code",
   "execution_count": 2,
   "metadata": {},
   "outputs": [],
   "source": [
    "import pandas as pd\n",
    "\n",
    "categorical_features = ['banner_pos', 'platform_id', 'platform_domain', 'platform_category',\n",
    "                    'user', 'device_conn_type', 'C14','C17','C20','C21']\n",
    "#  add device_id, device_ip, and device_model.\n",
    "#categorical_features = ['banner_pos', 'platform_id', 'platform_domain', 'platform_category',\n",
    "#                        'device_id', 'device_ip', 'device_model',\n",
    "#                    'user', 'device_conn_type', 'C14','C17','C20','C21']\n",
    "\n",
    "train_size='small'\n",
    "\n",
    "df = pd.read_csv(f'./data/train_{train_size}.csv')\n",
    "df.hour = pd.to_datetime(df.hour, format=\"%y%m%d%H\")\n",
    "df = create_user(df)"
   ]
  },
  {
   "cell_type": "code",
   "execution_count": 3,
   "metadata": {
    "scrolled": true
   },
   "outputs": [
    {
     "name": "stdout",
     "output_type": "stream",
     "text": [
      "./ffm-data/train_site_small.ffm\n",
      "./ffm-data/validate_site_small.ffm\n",
      "./ffm-data/train_app_small.ffm\n",
      "./ffm-data/validate_app_small.ffm\n",
      "CPU times: user 9min 12s, sys: 1.44 s, total: 9min 14s\n",
      "Wall time: 9min 15s\n"
     ]
    }
   ],
   "source": [
    "%%time\n",
    "train_site, validate_site, feature_dict_site,\\\n",
    "train_app, validate_app, feature_dict_app = make_train_validate_data(df, categorical_features, train_size)"
   ]
  },
  {
   "cell_type": "code",
   "execution_count": 7,
   "metadata": {},
   "outputs": [
    {
     "data": {
      "text/plain": [
       "'~/code/xlearn/build/xlearn_train ./ffm-data/train_site_small.ffm -s 2 -v ./ffm-data/validate_site_small.ffm'"
      ]
     },
     "execution_count": 7,
     "metadata": {},
     "output_type": "execute_result"
    }
   ],
   "source": [
    "run_training_site = f\"\"\"\n",
    "~/code/xlearn/build/xlearn_train\n",
    "./ffm-data/train_site_{train_size}.ffm\n",
    "-s 2 -v ./ffm-data/validate_site_{train_size}.ffm\n",
    "\"\"\"\n",
    "run_training_site.replace('\\n',' ').strip()"
   ]
  },
  {
   "cell_type": "code",
   "execution_count": 8,
   "metadata": {},
   "outputs": [
    {
     "data": {
      "text/plain": [
       "'~/code/xlearn/build/xlearn_train ./ffm-data/train_app_small.ffm -s 2 -v ./ffm-data/validate_app_small.ffm'"
      ]
     },
     "execution_count": 8,
     "metadata": {},
     "output_type": "execute_result"
    }
   ],
   "source": [
    "run_training_app = f\"\"\"\n",
    "~/code/xlearn/build/xlearn_train\n",
    "./ffm-data/train_app_{train_size}.ffm\n",
    "-s 2 -v ./ffm-data/validate_app_{train_size}.ffm\n",
    "\"\"\"\n",
    "run_training_app.replace('\\n',' ').strip()"
   ]
  },
  {
   "cell_type": "code",
   "execution_count": 6,
   "metadata": {},
   "outputs": [
    {
     "ename": "TypeError",
     "evalue": "exceptions must derive from BaseException",
     "output_type": "error",
     "traceback": [
      "\u001b[0;31m---------------------------------------------------------------------------\u001b[0m",
      "\u001b[0;31mTypeError\u001b[0m                                 Traceback (most recent call last)",
      "\u001b[0;32m<ipython-input-6-33ee017e8576>\u001b[0m in \u001b[0;36m<module>\u001b[0;34m\u001b[0m\n\u001b[0;32m----> 1\u001b[0;31m \u001b[0;32mraise\u001b[0m \u001b[0;34m\"Train models.\"\u001b[0m\u001b[0;34m\u001b[0m\u001b[0m\n\u001b[0m",
      "\u001b[0;31mTypeError\u001b[0m: exceptions must derive from BaseException"
     ]
    }
   ],
   "source": [
    "raise \"Train models.\""
   ]
  },
  {
   "cell_type": "markdown",
   "metadata": {},
   "source": [
    "### Part 1: prepare test data.\n",
    "\n",
    "Generates `./ffm-data/test_{site,app}_{test_size}.ffm.out`.\n",
    "\n",
    "Stats:\n",
    "- 'full', with categorical_features = ['banner_pos', 'platform_id', 'platform_domain', 'platform_category', 'user', 'device_conn_type', 'C14','C17','C20','C21']  --> site = 27m; app = 14m.\n",
    "- 'small', with categorical_features = ['banner_pos', 'platform_id', 'platform_domain', 'platform_category', 'user', 'device_conn_type', 'C14','C17','C20','C21']  --> site = 06m; app = 4m.\n",
    "- 'full', with categorical_features = ['banner_pos', 'platform_id', 'platform_domain', 'platform_category',\n",
    "    'device_id', 'device_ip', 'device_model',\n",
    "    'user', 'device_conn_type', 'C14','C17','C20','C21'] => site = 25m39s; app = 15m45s."
   ]
  },
  {
   "cell_type": "code",
   "execution_count": 9,
   "metadata": {},
   "outputs": [
    {
     "data": {
      "text/plain": [
       "((2858160, 22), (1719304, 22))"
      ]
     },
     "execution_count": 9,
     "metadata": {},
     "output_type": "execute_result"
    }
   ],
   "source": [
    "test_size='full'\n",
    "\n",
    "if test_size == 'full':\n",
    "    df_test = pd.read_csv(f'./data/test.csv', dtype={'id': 'uint64'})\n",
    "else:\n",
    "    df_test = pd.read_csv(f'./data/test_{test_size}.csv', dtype={'id': 'uint64'})\n",
    "df_test = create_user(df_test)\n",
    "\n",
    "df_test_site, df_test_app = site_app_split(df_test)\n",
    "del df_test\n",
    "df_test_site.shape, df_test_app.shape"
   ]
  },
  {
   "cell_type": "code",
   "execution_count": 10,
   "metadata": {},
   "outputs": [
    {
     "name": "stdout",
     "output_type": "stream",
     "text": [
      "CPU times: user 25min 34s, sys: 1.82 s, total: 25min 36s\n",
      "Wall time: 25min 39s\n"
     ]
    }
   ],
   "source": [
    "%%time\n",
    "ffm_data_test_site = f'./ffm-data/test_site_{test_size}.ffm'\n",
    "    \n",
    "df_to_ffm(df_test_site, categorical_features, \n",
    "          ffm_data_test_site, 'test', feature_dict_site)"
   ]
  },
  {
   "cell_type": "code",
   "execution_count": 11,
   "metadata": {},
   "outputs": [
    {
     "name": "stdout",
     "output_type": "stream",
     "text": [
      "CPU times: user 15min 42s, sys: 1.29 s, total: 15min 43s\n",
      "Wall time: 15min 45s\n"
     ]
    }
   ],
   "source": [
    "%%time\n",
    "ffm_data_test_app = f'./ffm-data/test_app_{test_size}.ffm'\n",
    "\n",
    "df_to_ffm(df_test_app, categorical_features, \n",
    "          ffm_data_test_app, 'test', feature_dict_app)"
   ]
  },
  {
   "cell_type": "code",
   "execution_count": 12,
   "metadata": {},
   "outputs": [],
   "source": [
    "# result of \n",
    "# ~/code/xlearn/build/xlearn_predict ./ffm-data/test_{site,app}_tiny.ffm ./ffm-data/train_{site,app}_tiny.ffm.model --sigmoid\n",
    "# => success. Generates test_{site,app}_tiny.ffm.out"
   ]
  },
  {
   "cell_type": "code",
   "execution_count": 13,
   "metadata": {},
   "outputs": [
    {
     "data": {
      "text/plain": [
       "'~/code/xlearn/build/xlearn_predict ./ffm-data/test_site_full.ffm ./ffm-data/train_site_small.ffm.model --sigmoid'"
      ]
     },
     "execution_count": 13,
     "metadata": {},
     "output_type": "execute_result"
    }
   ],
   "source": [
    "run_predict_site = f\"\"\"\n",
    "~/code/xlearn/build/xlearn_predict\n",
    "./ffm-data/test_site_{test_size}.ffm\n",
    "./ffm-data/train_site_{train_size}.ffm.model --sigmoid\n",
    "\"\"\"\n",
    "run_predict_site.replace('\\n',' ').strip()"
   ]
  },
  {
   "cell_type": "code",
   "execution_count": 14,
   "metadata": {},
   "outputs": [
    {
     "data": {
      "text/plain": [
       "'~/code/xlearn/build/xlearn_predict ./ffm-data/test_app_full.ffm ./ffm-data/train_app_small.ffm.model --sigmoid'"
      ]
     },
     "execution_count": 14,
     "metadata": {},
     "output_type": "execute_result"
    }
   ],
   "source": [
    "run_predict_app = f\"\"\"\n",
    "~/code/xlearn/build/xlearn_predict\n",
    "./ffm-data/test_app_{test_size}.ffm\n",
    "./ffm-data/train_app_{train_size}.ffm.model --sigmoid\n",
    "\"\"\"\n",
    "run_predict_app.replace('\\n',' ').strip()"
   ]
  },
  {
   "cell_type": "code",
   "execution_count": null,
   "metadata": {},
   "outputs": [],
   "source": [
    "raise \"run prediction\""
   ]
  },
  {
   "cell_type": "markdown",
   "metadata": {},
   "source": [
    "### Part 2: write submission.csv"
   ]
  },
  {
   "cell_type": "code",
   "execution_count": 15,
   "metadata": {},
   "outputs": [],
   "source": [
    "prediction_site = f'./ffm-data/test_site_{test_size}.ffm'\n",
    "prediction_site_out = prediction_site + '.out'\n",
    "prediction_site_id = prediction_site + '.id'\n",
    "prediction_app = f'./ffm-data/test_app_{test_size}.ffm'\n",
    "prediction_app_out = prediction_app + '.out'\n",
    "prediction_app_id = prediction_app + '.id'\n",
    "\n",
    "write_submission(prediction_site_out, prediction_site_id, prediction_app_out, prediction_app_id, 'submission-.csv')"
   ]
  },
  {
   "cell_type": "markdown",
   "metadata": {},
   "source": [
    "### Part 2: train model and predict.\n",
    "Do this in shell."
   ]
  },
  {
   "cell_type": "code",
   "execution_count": null,
   "metadata": {},
   "outputs": [],
   "source": [
    "def run_ffm(train_set, validate_set, test_set, model_out, predict_out):\n",
    "    ffm_model = xl.create_ffm()\n",
    "    ffm_model.setTrain(train_set)\n",
    "    ffm_model.setValidate(validate_set)\n",
    "    \n",
    "    param = {'task':'binary', 'lr':0.2, 'lambda':0.002}\n",
    "    ffm_model.fit(param, model_out)\n",
    "    \n",
    "    ffm_model.setSigmoid()\n",
    "    ffm_model.setTest(test_set)\n",
    "    ffm_model.predict(model_out, predict_out)\n",
    "    print(f'Prediction written to {predict_out}')"
   ]
  },
  {
   "cell_type": "code",
   "execution_count": null,
   "metadata": {},
   "outputs": [],
   "source": [
    "#TODO: move this to tools/kaggle_tools\n",
    "def validate_submission(submission_csv, ids):\n",
    "    \"\"\"\n",
    "    Ensure that the submission file is in the right format, \n",
    "    and that it contains required id's.\n",
    "    \"\"\"\n",
    "    pass"
   ]
  },
  {
   "cell_type": "code",
   "execution_count": null,
   "metadata": {},
   "outputs": [],
   "source": [
    "train_size = 'small'\n",
    "test_size = 'small'"
   ]
  },
  {
   "cell_type": "code",
   "execution_count": null,
   "metadata": {},
   "outputs": [],
   "source": [
    "train_site = f'./ffm-data/train_site_{train_size}.ffm'\n",
    "validate_site = f'./ffm-data/validate_site_{train_size}.ffm'\n",
    "test_site = f'./ffm-data/test_site_{test_size}.ffm'\n",
    "model_site_out = './xlearn-out/ffm-site.out'\n",
    "predict_site_out = './xlearn-out/out-site.txt'"
   ]
  },
  {
   "cell_type": "code",
   "execution_count": null,
   "metadata": {},
   "outputs": [],
   "source": [
    "%%time\n",
    "# TODO: kernel dies when the test \n",
    "run_ffm(train_site, validate_site, test_site, model_site_out, predict_site_out)"
   ]
  },
  {
   "cell_type": "code",
   "execution_count": null,
   "metadata": {},
   "outputs": [],
   "source": [
    "train_app = f'./ffm-data/train_app_{train_size}.ffm'\n",
    "validate_app = f'./ffm-data/validate_app_{train_size}.ffm'\n",
    "test_app = f'./ffm-data/test_app_{test_size}.ffm'\n",
    "model_app_out = './xlearn-out/ffm-app.out'\n",
    "predict_app_out = './xlearn-out/out-app.txt'\n",
    "\n",
    "run_ffm(train_app, validate_app, test_app, model_app_out, predict_app_out)"
   ]
  },
  {
   "cell_type": "code",
   "execution_count": null,
   "metadata": {},
   "outputs": [],
   "source": [
    "prediction_id_site = f'./ffm-data/test_site_{test_size}.ffm.id'\n",
    "prediction_id_app = f'./ffm-data/test_app_{test_size}.ffm.id'\n",
    "write_submission(predict_site_out, prediction_id_site, predict_app_out, prediction_id_app, 'submission-.csv')"
   ]
  }
 ],
 "metadata": {
  "kernelspec": {
   "display_name": "Python 3",
   "language": "python",
   "name": "python3"
  },
  "language_info": {
   "codemirror_mode": {
    "name": "ipython",
    "version": 3
   },
   "file_extension": ".py",
   "mimetype": "text/x-python",
   "name": "python",
   "nbconvert_exporter": "python",
   "pygments_lexer": "ipython3",
   "version": "3.6.6"
  }
 },
 "nbformat": 4,
 "nbformat_minor": 2
}
