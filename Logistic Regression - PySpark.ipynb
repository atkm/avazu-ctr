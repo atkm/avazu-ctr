{
 "cells": [
  {
   "cell_type": "markdown",
   "metadata": {},
   "source": [
    "TODO:\n",
    "- Do CV to pick regParam. Need to write a custom CV, since the dev/test sets must come from the final day.\n",
    "- user-category interaction.\n",
    "- user-site interaction.\n",
    "- hour: morning, afternoon, night; weekend or not.\n",
    "- Parameters of the lg model to tune:\n",
    "    + elasticNetParam & regParam: L2 by default. Set elasticNetParam=1 to use L1.\n",
    "    + standardization: categorical variables shouldn't need standardization.\n",
    "    + weightCol: correct for inbalance.\n",
    "    \n",
    "Variations:\n",
    "- user-category interaction: count per day (site_category, device_ip), (app_category, device_ip)\n",
    "- user-site interaction (site_id, device_ip), (app_id, device_ip)\n",
    "\n",
    "Basemodel:\n",
    "- C1\n",
    "- banner_pos\n",
    "- site_category_vec\n",
    "- app_category_vec\n",
    "- device_type\n",
    "- device_conn_type\n",
    "- C15\n",
    "- C16\n",
    "- C18\n",
    "- C19\n",
    "- C21\n",
    "\n",
    "No idea yet:\n",
    "- hour\n",
    "- device_model\n",
    "- high-cardinality anonymous variables: C14, C17, C20\n",
    "\n",
    "Not using:\n",
    "- site_domain, app_domain: correlated with site/app_id (check)\n",
    "- device_id: correlated with device_ip (check)"
   ]
  },
  {
   "cell_type": "code",
   "execution_count": 45,
   "metadata": {},
   "outputs": [],
   "source": [
    "import pyspark\n",
    "import math\n",
    "import time\n",
    "\n",
    "from pyspark.sql.functions import udf, col, mean as _mean, date_format, to_timestamp\n",
    "from pyspark.sql.types import DoubleType\n",
    "from pyspark.ml import Pipeline\n",
    "from pyspark.ml.classification import LogisticRegression\n",
    "from pyspark.ml.feature import StringIndexer, OneHotEncoderEstimator, VectorAssembler\n",
    "from pyspark.ml.evaluation import MulticlassClassificationEvaluator\n",
    "from pyspark.mllib.evaluation import MulticlassMetrics\n",
    "from pyspark.ml.tuning import CrossValidator, ParamGridBuilder"
   ]
  },
  {
   "cell_type": "code",
   "execution_count": 46,
   "metadata": {},
   "outputs": [
    {
     "data": {
      "text/plain": [
       "<function pyspark.mllib.evaluation.MulticlassMetrics.fMeasure(self, label=None, beta=None)>"
      ]
     },
     "execution_count": 46,
     "metadata": {},
     "output_type": "execute_result"
    }
   ],
   "source": [
    "MulticlassMetrics.fMeasure"
   ]
  },
  {
   "cell_type": "code",
   "execution_count": 3,
   "metadata": {},
   "outputs": [],
   "source": [
    "spark = pyspark.sql.SparkSession.builder\\\n",
    ".appName(\"CTR Prediction\")\\\n",
    ".master(\"local\")\\\n",
    ".config(\"spark.local.dir\", \"/home/atkm/nycTaxi/tmp\")\\\n",
    ".getOrCreate()"
   ]
  },
  {
   "cell_type": "code",
   "execution_count": 23,
   "metadata": {},
   "outputs": [],
   "source": [
    "def read_csv(path):\n",
    "    return spark.read.format(\"csv\")\\\n",
    "      .option(\"header\", \"true\")\\\n",
    "      .option(\"inferSchema\", \"true\")\\\n",
    "      .load(path)\n",
    "\n",
    "def clean_clicks(df):\n",
    "    fmt = \"yymmddHH\"\n",
    "    return df.withColumn('datetime', \n",
    "                  to_timestamp(col('hour').cast('string'), fmt))"
   ]
  },
  {
   "cell_type": "markdown",
   "metadata": {},
   "source": [
    "## Second model\n",
    "Include most features.\n",
    "How to use user info (device_id, device_ip),\n",
    "(site id, site_domain), and (app_id, app_domain)?\n",
    "Deal with categorical features with high cardinality.\n",
    "Ignore anonymous features with high cardinality."
   ]
  },
  {
   "cell_type": "code",
   "execution_count": 107,
   "metadata": {},
   "outputs": [],
   "source": [
    "str_cols = ['site_id','site_domain','site_category','app_id','app_domain','app_category','device_id','device_ip','device_model']"
   ]
  },
  {
   "cell_type": "markdown",
   "metadata": {},
   "source": [
    "## First model (baseline)\n",
    "Use categorical variables with low cardinality.\n",
    "In terms of accuracy, the model is only as good as a model that predicts 0 (not click) for any input.\n",
    "\n",
    "train_small.csv:\n",
    "10s to read and clean.\n",
    "90s to train."
   ]
  },
  {
   "cell_type": "code",
   "execution_count": 39,
   "metadata": {},
   "outputs": [
    {
     "name": "stdout",
     "output_type": "stream",
     "text": [
      "CPU times: user 5.4 ms, sys: 539 µs, total: 5.94 ms\n",
      "Wall time: 204 ms\n"
     ]
    }
   ],
   "source": [
    "%%time\n",
    "df = clean_clicks(read_csv('data/train_tiny.csv'))"
   ]
  },
  {
   "cell_type": "code",
   "execution_count": 47,
   "metadata": {},
   "outputs": [],
   "source": [
    "def lg_model(df):\n",
    "    lg = LogisticRegression(\n",
    "        featuresCol = 'features',\n",
    "        labelCol = 'click'\n",
    "    )\n",
    "\n",
    "    str_indexer1 = StringIndexer(\n",
    "        inputCol='site_category',\n",
    "        outputCol='site_category_idx',\n",
    "        handleInvalid='skip'\n",
    "    )\n",
    "    str_indexer2 = StringIndexer(\n",
    "        inputCol='app_category',\n",
    "        outputCol='app_category_idx',\n",
    "        handleInvalid='skip'\n",
    "    )\n",
    "    encoder = OneHotEncoderEstimator(\n",
    "        inputCols = ['site_category_idx', 'app_category_idx'],\n",
    "        outputCols = ['site_category_vec', 'app_category_vec'])\n",
    "\n",
    "    assembler = VectorAssembler(\n",
    "        inputCols = ['C1',\n",
    "             'banner_pos',\n",
    "             'site_category_vec',\n",
    "             'app_category_vec',\n",
    "             'device_type',\n",
    "             'device_conn_type',\n",
    "             'C15',\n",
    "             'C16',\n",
    "             'C18',\n",
    "             'C19',\n",
    "             'C21'],\n",
    "        outputCol = 'features'\n",
    "    )\n",
    "\n",
    "    \n",
    "    pipeline = Pipeline(stages = [str_indexer1, str_indexer2, encoder,\n",
    "                                  assembler, lg])\n",
    "    \n",
    "    last_day = 30\n",
    "    test = df.withColumn('day', \n",
    "              date_format(col('datetime'), 'dd')\n",
    "             ).filter(col('day') == last_day)\n",
    "    train = df.withColumn('day', \n",
    "              date_format(col('datetime'), 'dd')\n",
    "             ).filter(col('day') != last_day)\n",
    "    \n",
    "    train_start = time.time()\n",
    "    model = pipeline.fit(train)\n",
    "    train_time = time.time() - train_start\n",
    "    print('Train time (s): ', train_time)\n",
    "    \n",
    "    pred_start = time.time()\n",
    "    pred = model.transform(test)\n",
    "    pred_time = time.time() - pred_start\n",
    "    print('Prediction time (s): ', pred_time)\n",
    "    \n",
    "    evaluator = MulticlassClassificationEvaluator(\n",
    "        labelCol='click', predictionCol='prediction', metricName='accuracy'\n",
    "    )\n",
    "    accuracy = evaluator.evaluate(pred.select('click','prediction'))\n",
    "    print('Prediction accuracy: ', accuracy)\n",
    "    \n",
    "    def log_loss_func(predicted_prob, actual):\n",
    "        # predicted_prob = [prob_0, prob_1]\n",
    "        p = predicted_prob[1]\n",
    "        return -(actual * math.log(p) + \\\n",
    "                 (1 - actual) * math.log(1 - p))\n",
    "        return val\n",
    "    \n",
    "    log_loss = udf(log_loss_func, DoubleType())\n",
    "    \n",
    "    log_loss_score = pred.withColumn('log_loss', \n",
    "                      log_loss(col('probability'), col('click')))\\\n",
    "    .agg({'log_loss':'avg'}).collect()[0][0]\n",
    "    \n",
    "    print('Log loss: ', log_loss_score)"
   ]
  },
  {
   "cell_type": "code",
   "execution_count": 48,
   "metadata": {},
   "outputs": [
    {
     "name": "stdout",
     "output_type": "stream",
     "text": [
      "Train time (s):  3.726020336151123\n",
      "Prediction time (s):  0.12889862060546875\n",
      "Prediction accuracy:  0.839622641509434\n",
      "Log loss:  0.45281404296974836\n"
     ]
    }
   ],
   "source": [
    "lg_model(df)"
   ]
  },
  {
   "cell_type": "code",
   "execution_count": 38,
   "metadata": {},
   "outputs": [
    {
     "data": {
      "text/plain": [
       "0.830227"
      ]
     },
     "execution_count": 38,
     "metadata": {},
     "output_type": "execute_result"
    }
   ],
   "source": [
    "# baseline: if no click to all rows.\n",
    "1 - df.agg({'click': 'avg'}).collect()[0][0]"
   ]
  },
  {
   "cell_type": "markdown",
   "metadata": {},
   "source": [
    "## Pipeline development with the tiny dataset"
   ]
  },
  {
   "cell_type": "code",
   "execution_count": null,
   "metadata": {},
   "outputs": [],
   "source": [
    "df = read_csv('data/train_tiny.csv')"
   ]
  },
  {
   "cell_type": "code",
   "execution_count": 4,
   "metadata": {},
   "outputs": [
    {
     "data": {
      "text/plain": [
       "['click',\n",
       " 'C1',\n",
       " 'banner_pos',\n",
       " 'site_category',\n",
       " 'app_category',\n",
       " 'device_type',\n",
       " 'device_conn_type',\n",
       " 'C15',\n",
       " 'C16',\n",
       " 'C18',\n",
       " 'C19',\n",
       " 'C21']"
      ]
     },
     "execution_count": 4,
     "metadata": {},
     "output_type": "execute_result"
    }
   ],
   "source": [
    "vars1 = \"\"\"\n",
    "click,C1,banner_pos,site_category,app_category,device_type,device_conn_type,\n",
    "C15,C16,C18,C19,C21\n",
    "\"\"\".replace('\\n','').split(',')\n",
    "str_vars = ['site_category', 'app_category']\n",
    "vars1"
   ]
  },
  {
   "cell_type": "code",
   "execution_count": 5,
   "metadata": {
    "scrolled": false
   },
   "outputs": [
    {
     "name": "stdout",
     "output_type": "stream",
     "text": [
      "+-----+----+----------+-------------+------------+-----------+----------------+---+---+---+---+---+\n",
      "|click|  C1|banner_pos|site_category|app_category|device_type|device_conn_type|C15|C16|C18|C19|C21|\n",
      "+-----+----+----------+-------------+------------+-----------+----------------+---+---+---+---+---+\n",
      "|    0|1005|         0|     3e814130|    07d7df22|          1|               0|300|250|  0| 35|221|\n",
      "|    1|1005|         0|     3e814130|    07d7df22|          1|               0|300|250|  2| 35| 23|\n",
      "|    0|1005|         0|     28905ebd|    07d7df22|          1|               0|320| 50|  0| 35|221|\n",
      "|    0|1005|         0|     f028772b|    07d7df22|          1|               0|320| 50|  3| 39| 23|\n",
      "|    0|1005|         1|     f028772b|    07d7df22|          1|               0|320| 50|  0| 35|221|\n",
      "+-----+----+----------+-------------+------------+-----------+----------------+---+---+---+---+---+\n",
      "only showing top 5 rows\n",
      "\n"
     ]
    }
   ],
   "source": [
    "df.select(*vars1).show(5)"
   ]
  },
  {
   "cell_type": "code",
   "execution_count": 9,
   "metadata": {},
   "outputs": [],
   "source": [
    "# \n",
    "lg = LogisticRegression(\n",
    "    featuresCol = 'features',\n",
    "    labelCol = 'click'\n",
    ")\n",
    "\n",
    "str_indexer1 = StringIndexer(\n",
    "    inputCol='site_category',\n",
    "    outputCol='site_category_idx',\n",
    "    handleInvalid='skip'\n",
    ")\n",
    "str_indexer2 = StringIndexer(\n",
    "    inputCol='app_category',\n",
    "    outputCol='app_category_idx',\n",
    "    handleInvalid='skip'\n",
    ")\n",
    "encoder = OneHotEncoderEstimator(\n",
    "    inputCols = ['site_category_idx', 'app_category_idx'],\n",
    "    outputCols = ['site_category_vec', 'app_category_vec'])\n",
    "\n",
    "assembler = VectorAssembler(\n",
    "    inputCols = ['C1',\n",
    "         'banner_pos',\n",
    "         'site_category_vec',\n",
    "         'app_category_vec',\n",
    "         'device_type',\n",
    "         'device_conn_type',\n",
    "         'C15',\n",
    "         'C16',\n",
    "         'C18',\n",
    "         'C19',\n",
    "         'C21'],\n",
    "    outputCol = 'features'\n",
    ")\n",
    "\n",
    "pipeline = Pipeline(stages = [str_indexer1, str_indexer2, encoder,\n",
    "                              assembler, lg])"
   ]
  },
  {
   "cell_type": "code",
   "execution_count": 10,
   "metadata": {},
   "outputs": [],
   "source": [
    "train, test = df.randomSplit([.5, .5])\n",
    "model = pipeline.fit(train)\n",
    "pred = model.transform(test)"
   ]
  },
  {
   "cell_type": "code",
   "execution_count": 12,
   "metadata": {
    "scrolled": true
   },
   "outputs": [
    {
     "name": "stdout",
     "output_type": "stream",
     "text": [
      "+-----+----------+\n",
      "|click|prediction|\n",
      "+-----+----------+\n",
      "|    1|       0.0|\n",
      "|    0|       0.0|\n",
      "|    0|       0.0|\n",
      "|    0|       0.0|\n",
      "|    0|       0.0|\n",
      "+-----+----------+\n",
      "only showing top 5 rows\n",
      "\n"
     ]
    }
   ],
   "source": [
    "pred.select('click','prediction').show(5)"
   ]
  },
  {
   "cell_type": "code",
   "execution_count": 28,
   "metadata": {
    "scrolled": true
   },
   "outputs": [
    {
     "data": {
      "text/plain": [
       "['id',\n",
       " 'click',\n",
       " 'hour',\n",
       " 'C1',\n",
       " 'banner_pos',\n",
       " 'site_id',\n",
       " 'site_domain',\n",
       " 'site_category',\n",
       " 'app_id',\n",
       " 'app_domain',\n",
       " 'app_category',\n",
       " 'device_id',\n",
       " 'device_ip',\n",
       " 'device_model',\n",
       " 'device_type',\n",
       " 'device_conn_type',\n",
       " 'C14',\n",
       " 'C15',\n",
       " 'C16',\n",
       " 'C17',\n",
       " 'C18',\n",
       " 'C19',\n",
       " 'C20',\n",
       " 'C21',\n",
       " 'site_category_idx',\n",
       " 'app_category_idx',\n",
       " 'site_category_vec',\n",
       " 'app_category_vec',\n",
       " 'features',\n",
       " 'rawPrediction',\n",
       " 'probability',\n",
       " 'prediction']"
      ]
     },
     "execution_count": 28,
     "metadata": {},
     "output_type": "execute_result"
    }
   ],
   "source": [
    "pred.columns"
   ]
  },
  {
   "cell_type": "code",
   "execution_count": 47,
   "metadata": {},
   "outputs": [
    {
     "data": {
      "text/plain": [
       "[Row(probability=DenseVector([0.8537, 0.1463]), prediction=0.0),\n",
       " Row(probability=DenseVector([0.8538, 0.1462]), prediction=0.0),\n",
       " Row(probability=DenseVector([0.8539, 0.1461]), prediction=0.0),\n",
       " Row(probability=DenseVector([0.8543, 0.1457]), prediction=0.0),\n",
       " Row(probability=DenseVector([0.8539, 0.1461]), prediction=0.0),\n",
       " Row(probability=DenseVector([0.8538, 0.1462]), prediction=0.0),\n",
       " Row(probability=DenseVector([0.8536, 0.1464]), prediction=0.0),\n",
       " Row(probability=DenseVector([0.8544, 0.1456]), prediction=0.0),\n",
       " Row(probability=DenseVector([0.8539, 0.1461]), prediction=0.0),\n",
       " Row(probability=DenseVector([0.8539, 0.1461]), prediction=0.0)]"
      ]
     },
     "execution_count": 47,
     "metadata": {},
     "output_type": "execute_result"
    }
   ],
   "source": [
    "pred.select('probability', 'prediction').head(10)"
   ]
  },
  {
   "cell_type": "code",
   "execution_count": 71,
   "metadata": {},
   "outputs": [],
   "source": [
    "def log_loss_func(predicted_prob, actual):\n",
    "    # predicted_prob = [prob_0, prob_1]\n",
    "    p = predicted_prob[1]\n",
    "    return -(actual * math.log(p) + \\\n",
    "             (1 - actual) * math.log(1 - p))\n",
    "    return val\n",
    "    \n",
    "log_loss = udf(log_loss_func, DoubleType())"
   ]
  },
  {
   "cell_type": "code",
   "execution_count": 100,
   "metadata": {
    "scrolled": true
   },
   "outputs": [
    {
     "data": {
      "text/plain": [
       "0.4736354066653905"
      ]
     },
     "execution_count": 100,
     "metadata": {},
     "output_type": "execute_result"
    }
   ],
   "source": [
    "sc = pred.withColumn('log_loss', \n",
    "                      log_loss(col('probability'), col('click')))\\\n",
    "      .agg({'log_loss':'avg'}).collect()[0][0]\n",
    "sc"
   ]
  },
  {
   "cell_type": "code",
   "execution_count": 14,
   "metadata": {},
   "outputs": [
    {
     "data": {
      "text/plain": [
       "0.8211382113821138"
      ]
     },
     "execution_count": 14,
     "metadata": {},
     "output_type": "execute_result"
    }
   ],
   "source": [
    "evaluator = MulticlassClassificationEvaluator(\n",
    "    # also has 'f1', 'precision', 'recall'\n",
    "    labelCol='click', predictionCol='prediction', metricName='accuracy'\n",
    ")\n",
    "accuracy = evaluator.evaluate(pred.select('click','prediction'))\n",
    "accuracy"
   ]
  }
 ],
 "metadata": {
  "kernelspec": {
   "display_name": "Python 3",
   "language": "python",
   "name": "python3"
  },
  "language_info": {
   "codemirror_mode": {
    "name": "ipython",
    "version": 3
   },
   "file_extension": ".py",
   "mimetype": "text/x-python",
   "name": "python",
   "nbconvert_exporter": "python",
   "pygments_lexer": "ipython3",
   "version": "3.6.6"
  }
 },
 "nbformat": 4,
 "nbformat_minor": 2
}
