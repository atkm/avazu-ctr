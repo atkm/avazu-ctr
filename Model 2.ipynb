{
 "cells": [
  {
   "cell_type": "markdown",
   "metadata": {},
   "source": [
    "# Model 2\n",
    "\n",
    "Logistic regression model using columns 'C1',\n",
    "                 'banner_pos',\n",
    "                 'site_category',\n",
    "                 'app_category',\n",
    "                 'device_id' (or 'device_ip'),\n",
    "                 'device_type',\n",
    "                 'device_conn_type',\n",
    "                 'C15',\n",
    "                 'C16',\n",
    "                 'C18',\n",
    "                 'C19',\n",
    "                 'C21'.\n",
    "                 \n",
    "TODO:\n",
    "- Try device_ip instead of device_id.\n",
    "- Keep site/app_category columns or not.\n",
    "    Score both options.\n",
    "- What to do with click rates when a category is null?"
   ]
  },
  {
   "cell_type": "code",
   "execution_count": 1,
   "metadata": {},
   "outputs": [],
   "source": [
    "import pandas as pd\n",
    "import numpy as np\n",
    "from sklearn.preprocessing import OneHotEncoder\n",
    "from sklearn.compose import ColumnTransformer\n",
    "from sklearn.linear_model import LogisticRegression\n",
    "from sklearn.pipeline import Pipeline\n",
    "from sklearn.base import BaseEstimator, TransformerMixin\n",
    "\n",
    "from tools.cv_tools import (\n",
    "    fit_and_score, neg_log_loss_score,\n",
    "    train_test_split, score_one_param, score_one_test_day,\n",
    "    score_one_param, score_params, best_param\n",
    ")\n",
    "from models.model_two import ClickRateByCategoryEncoder\n",
    "import time"
   ]
  },
  {
   "cell_type": "markdown",
   "metadata": {},
   "source": [
    "## Get Stats\n",
    "'user-app' without site_category, and 'user-app' with both category columns do equally well.\n",
    "\n",
    "- 'both' on small: \n",
    "        Train time:  308.1253786087036 for 10 params.\n",
    "        {'logistic_regression__C': 0.0001668100537200059},\n",
    "         {1e-06: -0.5259801028792899,\n",
    "      2.782559402207126e-06: -0.4789365908110825,\n",
    "      7.742636826811277e-06: -0.4553710654798575,\n",
    "      2.1544346900318823e-05: -0.44309836969574495,\n",
    "      5.994842503189409e-05: -0.43532359556541256,\n",
    "      0.0001668100537200059: -0.4314043467010145,\n",
    "      0.00046415888336127773: -0.43220038494735136,\n",
    "      0.0012915496650148827: -0.4374468348132501,\n",
    "      0.003593813663804626: -0.4461029965405728,\n",
    "      0.01: -0.4567780399908202},\n",
    "         -0.4269088061828156\n",
    "- 'user-app' on small (does slightly better than 'both'):\n",
    "        Train time:  268.7218544483185\n",
    "        {'logistic_regression__C': 0.00046415888336127773},\n",
    "         {1e-06: -0.5259995434042378,\n",
    "          2.782559402207126e-06: -0.4789478288366912,\n",
    "          7.742636826811277e-06: -0.45552751310826645,\n",
    "          2.1544346900318823e-05: -0.4434527413812714,\n",
    "          5.994842503189409e-05: -0.43562661677200004,\n",
    "          0.0001668100537200059: -0.43069380196244567,\n",
    "          0.00046415888336127773: -0.42957727353281694,\n",
    "          0.0012915496650148827: -0.4331400060813224,\n",
    "          0.003593813663804626: -0.4405536832083817,\n",
    "          0.01: -0.4504950454573378},\n",
    "         -0.424894260803548\n",
    "- 'user-site' on small (about the same as 'both'):\n",
    "        {'logistic_regression__C': 0.00046415888336127773},\n",
    "         {1e-06: -0.5260020677273898,\n",
    "          2.782559402207126e-06: -0.4789420973060702,\n",
    "          7.742636826811277e-06: -0.4555078885594261,\n",
    "          2.1544346900318823e-05: -0.4434335000627961,\n",
    "          5.994842503189409e-05: -0.4356378182723383,\n",
    "          0.0001668100537200059: -0.43069260155100286,\n",
    "          0.00046415888336127773: -0.4294539029722898,\n",
    "          0.0012915496650148827: -0.43287661291967944,\n",
    "          0.003593813663804626: -0.4402268603570036,\n",
    "          0.01: -0.4501753929856996},\n",
    "         -0.42632065113113626\n",
    "- 'user-app' w/o site_category, on small:\n",
    "        {'logistic_regression__C': 0.00046415888336127773},\n",
    "         {1e-06: -0.5295815822182071,\n",
    "          2.782559402207126e-06: -0.48200872728139166,\n",
    "          7.742636826811277e-06: -0.4581443428821463,\n",
    "          2.1544346900318823e-05: -0.44557855129477486,\n",
    "          5.994842503189409e-05: -0.4369826281652913,\n",
    "          0.0001668100537200059: -0.4313523670534364,\n",
    "          0.00046415888336127773: -0.42981673074962073,\n",
    "          0.0012915496650148827: -0.4332602245723451,\n",
    "          0.003593813663804626: -0.44077409504598986,\n",
    "          0.01: -0.4509166345753231},\n",
    "         -0.42463570544774826\n",
    "- 'user-app' w/o app_category on small:\n",
    "        {'logistic_regression__C': 0.00026826957952797245},\n",
    "         {1e-05: -0.4525667020251255,\n",
    "          1.9306977288832496e-05: -0.44508917084082017,\n",
    "          3.727593720314938e-05: -0.43935208154680716,\n",
    "          7.196856730011514e-05: -0.43488424473766035,\n",
    "          0.00013894954943731373: -0.4316798976813601,\n",
    "          0.00026826957952797245: -0.4299865187950174,\n",
    "          0.0005179474679231213: -0.4301291664156602,\n",
    "          0.001: -0.4321171786896193},\n",
    "         -0.42727808818222285"
   ]
  },
  {
   "cell_type": "code",
   "execution_count": 2,
   "metadata": {},
   "outputs": [],
   "source": [
    "class ColumnInspector(BaseEstimator, TransformerMixin):\n",
    "    def __init__(self):\n",
    "        pass\n",
    "    \n",
    "    def fit(self, X, y=None):\n",
    "        return self\n",
    "    \n",
    "    def transform(self, X):\n",
    "        print(X.shape)\n",
    "        return X"
   ]
  },
  {
   "cell_type": "code",
   "execution_count": 3,
   "metadata": {},
   "outputs": [],
   "source": [
    "def eval_model_two(df, params):\n",
    "    model_two_cols = ['C1',\n",
    "                  'click',\n",
    "                 'banner_pos',\n",
    "                  'app_category',\n",
    "                  'site_category',\n",
    "                  'device_id',\n",
    "                 'device_type',\n",
    "                 'device_conn_type',\n",
    "                 'C15',\n",
    "                 'C16',\n",
    "                 'C18',\n",
    "                 'C19',\n",
    "                 'C21']\n",
    "    \n",
    "    # all except click_rate are categorical features\n",
    "    categorical_features = ['C1',\n",
    "                  'banner_pos',\n",
    "                 #'app_category',\n",
    "                  'site_category',\n",
    "                 'device_type',\n",
    "                 'device_conn_type',\n",
    "                 'C15',\n",
    "                 'C16',\n",
    "                 'C18',\n",
    "                 'C19',\n",
    "                 'C21']\n",
    "    \n",
    "    click_rate_cols = ['click', 'app_category',\n",
    "                  'site_category',\n",
    "                  'device_id']\n",
    "    \n",
    "    clicks = df.click\n",
    "    df = df[model_two_cols + ['hour']]\n",
    "    X_train, y_train, X_test, y_test = train_test_split(df, clicks, 30)\n",
    "    test_day_ls = [25,26,27,28,29]\n",
    "    \n",
    "    cr_encoder = ClickRateByCategoryEncoder('user-app')\n",
    "    oh_encoder = OneHotEncoder(handle_unknown='ignore')\n",
    "    preprocessor = ColumnTransformer([\n",
    "        ('one_hot_encoding', oh_encoder, categorical_features),\n",
    "        ('click_rate_encoding', cr_encoder, click_rate_cols)\n",
    "    ])\n",
    "\n",
    "    lg = LogisticRegression(solver='liblinear')\n",
    "    pipeline = Pipeline([\n",
    "                    ('preprocessing', preprocessor),\n",
    "                     ('logistic_regression', lg)])\n",
    "    \n",
    "    C_kwd = 'logistic_regression__C'\n",
    "    params_dict_ls = [{C_kwd: p} for p in params]\n",
    "    \n",
    "    train_begin = time.time()\n",
    "    scores = score_params(X_train, y_train, pipeline, params_dict_ls, test_day_ls)\n",
    "    train_time = time.time() - train_begin\n",
    "    print(\"Train time: \", train_time)\n",
    "    best_C = best_param(scores, params_dict_ls)\n",
    "    print(\"Best C: \", best_C)\n",
    "    \n",
    "    # Use the best parameter to evaluate the model on the test set.\n",
    "    test_begin = time.time()\n",
    "    test_score = fit_and_score(X_train, y_train, X_test, y_test, pipeline, best_C)\n",
    "    test_time = time.time() - test_begin\n",
    "    print(\"Test time: \", test_time)\n",
    "    \n",
    "    return params_dict_ls, scores, test_score"
   ]
  },
  {
   "cell_type": "code",
   "execution_count": 4,
   "metadata": {},
   "outputs": [
    {
     "data": {
      "text/plain": [
       "array([1.00000000e-05, 1.93069773e-05, 3.72759372e-05, 7.19685673e-05,\n",
       "       1.38949549e-04, 2.68269580e-04, 5.17947468e-04, 1.00000000e-03])"
      ]
     },
     "execution_count": 4,
     "metadata": {},
     "output_type": "execute_result"
    }
   ],
   "source": [
    "df = pd.read_csv('data/train_tiny.csv')\n",
    "df.hour = pd.to_datetime(df.hour, format=\"%y%m%d%H\")\n",
    "params = np.logspace(-5, -3, num=8)\n",
    "params"
   ]
  },
  {
   "cell_type": "code",
   "execution_count": 5,
   "metadata": {},
   "outputs": [
    {
     "name": "stdout",
     "output_type": "stream",
     "text": [
      "Train time:  1.7852497100830078\n",
      "Best C:  {'logistic_regression__C': 0.001}\n",
      "Test time:  0.04359626770019531\n"
     ]
    },
    {
     "data": {
      "text/plain": [
       "({'logistic_regression__C': 0.001},\n",
       " {1e-05: -0.688522562115143,\n",
       "  1.9306977288832496e-05: -0.6843469427644564,\n",
       "  3.727593720314938e-05: -0.6766170252637685,\n",
       "  7.196856730011514e-05: -0.6628246813814747,\n",
       "  0.00013894954943731373: -0.6397767633077331,\n",
       "  0.00026826957952797245: -0.6052270266107701,\n",
       "  0.0005179474679231213: -0.5611377052203533,\n",
       "  0.001: -0.5152737610899033},\n",
       " -0.4894974870332799)"
      ]
     },
     "execution_count": 5,
     "metadata": {},
     "output_type": "execute_result"
    }
   ],
   "source": [
    "params_dict_ls, scores, test_score = eval_model_two(df, params)\n",
    "best_C = best_param(scores, params_dict_ls)\n",
    "best_C, dict(zip(params, scores)), test_score"
   ]
  },
  {
   "cell_type": "code",
   "execution_count": 6,
   "metadata": {},
   "outputs": [
    {
     "ename": "RuntimeError",
     "evalue": "No active exception to reraise",
     "output_type": "error",
     "traceback": [
      "\u001b[0;31m---------------------------------------------------------------------------\u001b[0m",
      "\u001b[0;31mRuntimeError\u001b[0m                              Traceback (most recent call last)",
      "\u001b[0;32m<ipython-input-6-9c9a2cba73bf>\u001b[0m in \u001b[0;36m<module>\u001b[0;34m\u001b[0m\n\u001b[0;32m----> 1\u001b[0;31m \u001b[0;32mraise\u001b[0m\u001b[0;34m\u001b[0m\u001b[0m\n\u001b[0m",
      "\u001b[0;31mRuntimeError\u001b[0m: No active exception to reraise"
     ]
    }
   ],
   "source": [
    "raise"
   ]
  },
  {
   "cell_type": "markdown",
   "metadata": {},
   "source": [
    "## Study ClickRateByCategoryEncoder\n",
    "Expect 10-15% of rows in a test set to not have a corresponding row in a train set."
   ]
  },
  {
   "cell_type": "code",
   "execution_count": null,
   "metadata": {},
   "outputs": [],
   "source": [
    "model_two_cols = ['C1',\n",
    "                  'click',\n",
    "                 'banner_pos',\n",
    "                  'app_category',\n",
    "                  'site_category',\n",
    "                  'device_id',\n",
    "                 'device_type',\n",
    "                 'device_conn_type',\n",
    "                 'C15',\n",
    "                 'C16',\n",
    "                 'C18',\n",
    "                 'C19',\n",
    "                 'C21']"
   ]
  },
  {
   "cell_type": "code",
   "execution_count": null,
   "metadata": {},
   "outputs": [],
   "source": [
    "df = pd.read_csv('data/train_small.csv')\n",
    "df.hour = pd.to_datetime(df.hour, format=\"%y%m%d%H\")\n",
    "clicks = df.click\n",
    "df = df[model_two_cols + ['hour']]\n",
    "X_train, y_train, X_test, y_test = train_test_split(df, clicks, 30)"
   ]
  },
  {
   "cell_type": "code",
   "execution_count": null,
   "metadata": {},
   "outputs": [],
   "source": [
    "df.shape"
   ]
  },
  {
   "cell_type": "code",
   "execution_count": null,
   "metadata": {
    "scrolled": true
   },
   "outputs": [],
   "source": [
    "# TODO: summary statistics of click_rate columns\n",
    "cr_encoder = ClickRateByCategoryEncoder('both')\n",
    "encoded_train = cr_encoder.fit_transform(X_train)\n",
    "encoded_train.head(1)"
   ]
  },
  {
   "cell_type": "code",
   "execution_count": null,
   "metadata": {},
   "outputs": [],
   "source": [
    "# Study null values\n",
    "encoded_test = cr_encoder.transform(X_test)"
   ]
  },
  {
   "cell_type": "code",
   "execution_count": null,
   "metadata": {},
   "outputs": [],
   "source": [
    "# More than 10% of rows in the test set does not have a corresponding row in the train set.\n",
    "encoded_test.click_rate_app.isna().mean(), encoded_test.click_rate_site.isna().mean()"
   ]
  },
  {
   "cell_type": "code",
   "execution_count": null,
   "metadata": {},
   "outputs": [],
   "source": [
    "df_test = pd.read_csv('data/test_small.csv')"
   ]
  },
  {
   "cell_type": "code",
   "execution_count": null,
   "metadata": {},
   "outputs": [],
   "source": [
    "df_test_encoded = cr_encoder.transform(df_test)"
   ]
  },
  {
   "cell_type": "code",
   "execution_count": null,
   "metadata": {},
   "outputs": [],
   "source": [
    "df_test_encoded.click_rate_site.isna().mean(), df_test_encoded.click_rate_app.isna().mean()"
   ]
  },
  {
   "cell_type": "markdown",
   "metadata": {},
   "source": [
    "## ClickRateByCategoryEncoder seems broken (fixed)"
   ]
  },
  {
   "cell_type": "code",
   "execution_count": null,
   "metadata": {},
   "outputs": [],
   "source": [
    "model_two_cols = ['C1',\n",
    "                  'click',\n",
    "                 'banner_pos',\n",
    "                  'app_category',\n",
    "                  'site_category',\n",
    "                  'device_id',\n",
    "                 'device_type',\n",
    "                 'device_conn_type',\n",
    "                 'C15',\n",
    "                 'C16',\n",
    "                 'C18',\n",
    "                 'C19',\n",
    "                 'C21']\n",
    "\n",
    "categorical_features = ['C1',\n",
    "                  'banner_pos',\n",
    "                 'device_type',\n",
    "                 'app_category',\n",
    "                  'site_category',\n",
    "                'device_conn_type',\n",
    "                 'C15',\n",
    "                 'C16',\n",
    "                 'C18',\n",
    "                 'C19',\n",
    "                 'C21']\n",
    "\n",
    "click_rate_cols = ['click', 'app_category',\n",
    "                  'site_category',\n",
    "                  'device_id']"
   ]
  },
  {
   "cell_type": "code",
   "execution_count": null,
   "metadata": {},
   "outputs": [],
   "source": [
    "df = pd.read_csv('data/train_tiny.csv')\n",
    "df.hour = pd.to_datetime(df.hour, format=\"%y%m%d%H\")\n",
    "clicks = df.click\n",
    "df = df[model_two_cols + ['hour']]\n",
    "X_train, y_train, X_test, y_test = train_test_split(df, clicks, 30)"
   ]
  },
  {
   "cell_type": "code",
   "execution_count": null,
   "metadata": {},
   "outputs": [],
   "source": [
    "cr_encoder = ClickRateByCategoryEncoder('both')\n",
    "oh_encoder = OneHotEncoder(handle_unknown='ignore')\n",
    "preprocessor = ColumnTransformer([\n",
    "    ('one_hot_encoding', oh_encoder, categorical_features),\n",
    "    ('click_rate_encoding', cr_encoder, click_rate_cols)\n",
    "])\n",
    "\n",
    "lg = LogisticRegression(solver='liblinear')\n",
    "pipeline = Pipeline([('preprocessing', preprocessor),\n",
    "                     ('inspect', ColumnInspector()),\n",
    "                 ('logistic_regression', lg)])"
   ]
  },
  {
   "cell_type": "code",
   "execution_count": null,
   "metadata": {},
   "outputs": [],
   "source": [
    "param = {'logistic_regression__C': 0.01584893192461114}\n",
    "test_score = fit_and_score(X_train, y_train, X_test, y_test, pipeline, param)"
   ]
  },
  {
   "cell_type": "code",
   "execution_count": null,
   "metadata": {},
   "outputs": [],
   "source": [
    "cr_encoder = ClickRateByCategoryEncoder('both')\n",
    "encoded = cr_encoder.fit_transform(X_train)\n",
    "encoded.head()"
   ]
  },
  {
   "cell_type": "code",
   "execution_count": null,
   "metadata": {},
   "outputs": [],
   "source": [
    "cr_encoder = ClickRateByCategoryEncoder('user-app')\n",
    "encoded = cr_encoder.fit_transform(X_train)\n",
    "encoded.head()"
   ]
  },
  {
   "cell_type": "code",
   "execution_count": null,
   "metadata": {},
   "outputs": [],
   "source": [
    "cr_encoder = ClickRateByCategoryEncoder('user-site')\n",
    "encoded = cr_encoder.fit_transform(X_train)\n",
    "encoded.head()"
   ]
  },
  {
   "cell_type": "markdown",
   "metadata": {},
   "source": [
    "## Develop a Pipeline model"
   ]
  },
  {
   "cell_type": "code",
   "execution_count": null,
   "metadata": {},
   "outputs": [],
   "source": [
    "class ClickRateEncoder(BaseEstimator, TransformerMixin):\n",
    "    \n",
    "    user_site_interaction_cols = ['site_category', 'device_id']\n",
    "    user_app_interaction_cols = ['app_category', 'device_id']\n",
    "    \n",
    "    def __init__(self):\n",
    "        self.click_rates_by_site_category = None\n",
    "        self.click_rates_by_app_category = None\n",
    "    \n",
    "    def fit(self, X, y=None):\n",
    "        \"\"\"\n",
    "        X must have the following columns: 'click', 'site_category', 'app_category', and 'device_id'.\n",
    "        Returns a transformed DataFrame with 'click_rate_site' and 'click_rate_app'.\n",
    "        The 'click' column is dropeed.\n",
    "        \"\"\"\n",
    "        self.click_rates_by_site_category = X.groupby(ClickRateEncoder.user_site_interaction_cols)\\\n",
    "            .agg({'click': 'mean'}).rename({'click': 'click_rate_site'}, axis=1)\n",
    "        \n",
    "        self.click_rates_by_app_category = X.groupby(ClickRateEncoder.user_app_interaction_cols)\\\n",
    "            .agg({'click': 'mean'}).rename({'click': 'click_rate_app'}, axis=1)\n",
    "    \n",
    "        return self\n",
    "    \n",
    "    def transform(self, X):\n",
    "        X = pd.merge(X, self.click_rates_by_site_category, how='left',\n",
    "                  on=ClickRateEncoder.user_site_interaction_cols)\n",
    "        X = pd.merge(X, self.click_rates_by_app_category, how='left',\n",
    "                  on=ClickRateEncoder.user_app_interaction_cols)\n",
    "        print('transform called.', X.columns)\n",
    "        return X.drop(['click', 'device_id'], axis=1)"
   ]
  },
  {
   "cell_type": "code",
   "execution_count": null,
   "metadata": {},
   "outputs": [],
   "source": [
    "df = pd.read_csv('data/train_tiny.csv')\n",
    "df.hour = pd.to_datetime(df.hour, format=\"%y%m%d%H\")"
   ]
  },
  {
   "cell_type": "code",
   "execution_count": null,
   "metadata": {},
   "outputs": [],
   "source": [
    "model_two_cols = ['C1',\n",
    "                  'click',\n",
    "                 'banner_pos',\n",
    "                  'app_category',\n",
    "                  'site_category',\n",
    "                  'device_id',\n",
    "                 'device_type',\n",
    "                 'device_conn_type',\n",
    "                 'C15',\n",
    "                 'C16',\n",
    "                 'C18',\n",
    "                 'C19',\n",
    "                 'C21']\n",
    "\n",
    "# all except click_rate are categorical features\n",
    "categorical_features = ['C1',\n",
    "                  'banner_pos',\n",
    "                    'app_category',\n",
    "                  'site_category',\n",
    "                 'device_type',\n",
    "                 'device_conn_type',\n",
    "                 'C15',\n",
    "                 'C16',\n",
    "                 'C18',\n",
    "                 'C19',\n",
    "                 'C21']"
   ]
  },
  {
   "cell_type": "code",
   "execution_count": null,
   "metadata": {},
   "outputs": [],
   "source": [
    "clicks = df.click\n",
    "df = df[model_two_cols + ['hour']]\n",
    "X_train, y_train, X_test, y_test = train_test_split(df, clicks, 30)"
   ]
  },
  {
   "cell_type": "code",
   "execution_count": null,
   "metadata": {},
   "outputs": [],
   "source": [
    "X_train.head(1)"
   ]
  },
  {
   "cell_type": "code",
   "execution_count": null,
   "metadata": {},
   "outputs": [],
   "source": [
    "cr_encoder = ClickRateEncoder()\n",
    "oh_encoder = OneHotEncoder(handle_unknown='ignore')\n",
    "preprocessor = ColumnTransformer([\n",
    "    ('one_hot_encoding', oh_encoder, categorical_features)\n",
    "])\n",
    "\n",
    "#transformer = Pipeline([('click_rate_encoder', cr_encoder),\n",
    "#    ('preprocessing', preprocessor)])\n",
    "\n",
    "lg = LogisticRegression(solver='liblinear')\n",
    "pipeline = Pipeline([('click_rate_encoder', cr_encoder),\n",
    "    ('preprocessing', preprocessor),\n",
    "                 ('logistic_regression', lg)])\n"
   ]
  },
  {
   "cell_type": "code",
   "execution_count": null,
   "metadata": {
    "scrolled": true
   },
   "outputs": [],
   "source": [
    "#pipeline.fit(X_train, y_train)\n",
    "#transformer.fit(X_train, y_train)\n",
    "#transformer.transform(X_test)"
   ]
  },
  {
   "cell_type": "code",
   "execution_count": null,
   "metadata": {},
   "outputs": [],
   "source": [
    "param = {'logistic_regression__C': 0.21544346900318823}\n",
    "test_score = fit_and_score(X_train, y_train, X_test, y_test, pipeline, param)"
   ]
  },
  {
   "cell_type": "code",
   "execution_count": null,
   "metadata": {},
   "outputs": [],
   "source": [
    "test_score"
   ]
  },
  {
   "cell_type": "code",
   "execution_count": null,
   "metadata": {},
   "outputs": [],
   "source": [
    "raise"
   ]
  },
  {
   "cell_type": "markdown",
   "metadata": {},
   "source": [
    "## Develop model"
   ]
  },
  {
   "cell_type": "code",
   "execution_count": null,
   "metadata": {},
   "outputs": [],
   "source": [
    "# Properties of null values.\n",
    "df = pd.read_csv('data/train_smaller.csv')\n",
    "\n",
    "site_category_null = '50e219e0'\n",
    "app_category_null = '07d7df22'\n",
    "\n",
    "print(((df.site_category == site_category_null) | (df.app_category == app_category_null)).mean())\n",
    "# => 1. Either site_category or app_category is null.\n",
    "print(((df.site_category != site_category_null) | (df.app_category != app_category_null)).mean())\n",
    "# => 0.933. In most rows, either app_category or site_category is not null.\n",
    "print(((df.site_category == site_category_null) & (df.app_category == app_category_null)).mean())\n",
    "# => 0.067. A small percentage of rows has both features null.\n",
    "print(((df.site_category == site_category_null) ^ (df.app_category == app_category_null)).mean())\n",
    "# => 0.933. When one is null, the other is not null."
   ]
  },
  {
   "cell_type": "code",
   "execution_count": null,
   "metadata": {},
   "outputs": [],
   "source": [
    "model_two_cols = ['C1',\n",
    "                  'click_rate_site',\n",
    "                  'click_rate_app',\n",
    "                 'banner_pos',\n",
    "                  'app_category',\n",
    "                  'site_category',\n",
    "                 'device_type',\n",
    "                 'device_conn_type',\n",
    "                 'C15',\n",
    "                 'C16',\n",
    "                 'C18',\n",
    "                 'C19',\n",
    "                 'C21']\n",
    "\n",
    "# all except click_rate are categorical features\n",
    "categorical_features = ['C1',\n",
    "                  'banner_pos',\n",
    "                    'app_category',\n",
    "                  'site_category',\n",
    "                 'device_type',\n",
    "                 'device_conn_type',\n",
    "                 'C15',\n",
    "                 'C16',\n",
    "                 'C18',\n",
    "                 'C19',\n",
    "                 'C21']"
   ]
  },
  {
   "cell_type": "code",
   "execution_count": null,
   "metadata": {
    "scrolled": true
   },
   "outputs": [],
   "source": [
    "df = pd.read_csv('data/train_small.csv')\n",
    "df.hour = pd.to_datetime(df.hour, format=\"%y%m%d%H\")"
   ]
  },
  {
   "cell_type": "code",
   "execution_count": null,
   "metadata": {},
   "outputs": [],
   "source": [
    "# Day 30 is for testing\n",
    "df_train, df_test = train_test_split(df, None, 30)\n",
    "y_train = df_train.click\n",
    "test_day_ls = [25,26,27,28,29]\n",
    "\n",
    "# TODO: turn these into a pipeline step (how? They need access to the target variable.)\n",
    "user_site_interaction_cols = ['site_category', 'device_id']\n",
    "user_app_interaction_cols = ['app_category', 'device_id']\n",
    "df_train.head(1)"
   ]
  },
  {
   "cell_type": "code",
   "execution_count": null,
   "metadata": {},
   "outputs": [],
   "source": [
    "click_rates_by_site_category = df_train.groupby(user_site_interaction_cols).agg({'click': 'mean'})\\\n",
    "    .rename({'click': 'click_rate_site'}, axis=1)\n",
    "df_train = pd.merge(df_train, click_rates_by_site_category, how='left',\n",
    "                  on=user_site_interaction_cols)\n",
    "df_train.head()"
   ]
  },
  {
   "cell_type": "code",
   "execution_count": null,
   "metadata": {},
   "outputs": [],
   "source": [
    "df_train.columns"
   ]
  },
  {
   "cell_type": "code",
   "execution_count": null,
   "metadata": {
    "scrolled": true
   },
   "outputs": [],
   "source": [
    "click_rates_by_app_category = df_train.groupby(user_app_interaction_cols).agg({'click': 'mean'})\\\n",
    "    .rename({'click': 'click_rate_app'}, axis=1)\n",
    "click_rates_by_app_category.head()"
   ]
  },
  {
   "cell_type": "code",
   "execution_count": null,
   "metadata": {},
   "outputs": [],
   "source": [
    "df_train = pd.merge(df_train, click_rates_by_app_category, how='left',\n",
    "                  on=user_app_interaction_cols)\n",
    "\n",
    "X_train = df_train[model_two_cols]\n",
    "y_train = df_train.click\n",
    "X_train.head()"
   ]
  },
  {
   "cell_type": "code",
   "execution_count": null,
   "metadata": {},
   "outputs": [],
   "source": [
    "y_test = df_test.click\n",
    "X_test = df_test\n",
    "X_test = pd.merge(X_test, click_rates_by_site_category, how='left',\n",
    "                  on=user_site_interaction_cols)\n",
    "X_test = pd.merge(X_test, click_rates_by_app_category, how='left',\n",
    "                  on=user_app_interaction_cols)\n",
    "X_test = X_test[model_two_cols]\n",
    "X_test.head()"
   ]
  },
  {
   "cell_type": "code",
   "execution_count": null,
   "metadata": {},
   "outputs": [],
   "source": [
    "X_test.click_rate_app.isna().mean(), X_test.click_rate_site.isna().mean()"
   ]
  },
  {
   "cell_type": "code",
   "execution_count": null,
   "metadata": {
    "scrolled": true
   },
   "outputs": [],
   "source": [
    "oh_encoder = OneHotEncoder(handle_unknown='ignore')\n",
    "preprocessor = ColumnTransformer([\n",
    "    ('one_hot_encoding', oh_encoder, categorical_features)\n",
    "])\n",
    "\n",
    "lg = LogisticRegression(solver='liblinear')\n",
    "pipeline = Pipeline([('preprocessing', preprocessor),\n",
    "                 ('logistic_regression', lg)])"
   ]
  },
  {
   "cell_type": "code",
   "execution_count": null,
   "metadata": {},
   "outputs": [],
   "source": [
    "%%time\n",
    "param = {'logistic_regression__C': 0.21544346900318823}\n",
    "# TODO: append click_rate_app/site to X_test.\n",
    "test_score = fit_and_score(X_train, y_train,\n",
    "                           X_test, y_test, pipeline, param)"
   ]
  },
  {
   "cell_type": "code",
   "execution_count": null,
   "metadata": {},
   "outputs": [],
   "source": [
    "test_score"
   ]
  },
  {
   "cell_type": "code",
   "execution_count": null,
   "metadata": {},
   "outputs": [],
   "source": []
  }
 ],
 "metadata": {
  "kernelspec": {
   "display_name": "Python 3",
   "language": "python",
   "name": "python3"
  },
  "language_info": {
   "codemirror_mode": {
    "name": "ipython",
    "version": 3
   },
   "file_extension": ".py",
   "mimetype": "text/x-python",
   "name": "python",
   "nbconvert_exporter": "python",
   "pygments_lexer": "ipython3",
   "version": "3.6.6"
  }
 },
 "nbformat": 4,
 "nbformat_minor": 2
}
