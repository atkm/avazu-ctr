{
 "cells": [
  {
   "cell_type": "markdown",
   "metadata": {},
   "source": [
    "Cross-validation for a time series data:\n",
    "for k in range(2, 10):\n",
    "    Train on 1-k^th day, test on (k+1)^th.\n"
   ]
  },
  {
   "cell_type": "code",
   "execution_count": 1,
   "metadata": {},
   "outputs": [],
   "source": [
    "import pandas as pd\n",
    "import numpy as np\n",
    "from sklearn.preprocessing import LabelEncoder, OneHotEncoder\n",
    "from sklearn.pipeline import Pipeline\n",
    "from sklearn.model_selection import train_test_split\n",
    "from sklearn.metrics import log_loss\n",
    "from sklearn.linear_model import LogisticRegression\n",
    "\n",
    "import operator"
   ]
  },
  {
   "cell_type": "markdown",
   "metadata": {},
   "source": [
    "## Develop cross validation"
   ]
  },
  {
   "cell_type": "code",
   "execution_count": 2,
   "metadata": {},
   "outputs": [],
   "source": [
    "# helper functions\n",
    "\n",
    "def fit_encoders(df):\n",
    "    site_category_encoder = LabelEncoder()\n",
    "    site_category_encoder.fit(df.site_category)\n",
    "    app_category_encoder = LabelEncoder()\n",
    "    app_category_encoder.fit(df.app_category)\n",
    "    return site_category_encoder, app_category_encoder\n",
    "\n",
    "def fit_transform_train(X_train, site_category_encoder, app_category_encoder):\n",
    "    X_train.site_category = site_category_encoder.transform(X_train.site_category)\n",
    "    X_train.app_category = app_category_encoder.transform(X_train.app_category)\n",
    "    X_train = X_train.values\n",
    "    # when transforming, an unknown categorical feature is mapped to a zero vector\n",
    "    oh_encoder = OneHotEncoder(handle_unknown='ignore')\n",
    "    X_train = oh_encoder.fit_transform(X_train)\n",
    "    return X_train, oh_encoder\n",
    "\n",
    "def transform_dev(X_dev, site_category_encoder, app_category_encoder, oh_encoder):\n",
    "    X_dev.site_category = site_category_encoder.transform(X_dev.site_category)\n",
    "    X_dev.app_category = app_category_encoder.transform(X_dev.app_category)\n",
    "    X_dev = oh_encoder.transform(X_dev)\n",
    "    return X_dev\n",
    "\n",
    "def train_test_split(X, y, test_day):\n",
    "    \"\"\"\n",
    "    X and y are pd.DataFrame. X must have an hour column of type pd.Timestamp.\n",
    "    \"\"\"\n",
    "    test_day_mask = X.hour.dt.day == test_day\n",
    "    train_day_mask = X.hour.dt.day < test_day\n",
    "    X_test = X[test_day_mask]\n",
    "    y_test = y[test_day_mask]\n",
    "    X_train = X[train_day_mask]\n",
    "    y_train = y[train_day_mask]\n",
    "    \n",
    "    return X_train, y_train, X_test, y_test"
   ]
  },
  {
   "cell_type": "code",
   "execution_count": 3,
   "metadata": {},
   "outputs": [],
   "source": [
    "df = pd.read_csv('data/train_small.csv')\n",
    "df.hour = pd.to_datetime(df.hour, format=\"%y%m%d%H\")\n",
    "site_category_encoder, app_category_encoder = fit_encoders(df)"
   ]
  },
  {
   "cell_type": "code",
   "execution_count": 4,
   "metadata": {},
   "outputs": [],
   "source": [
    "def neg_log_loss_score(lg, X_dev, y_dev):\n",
    "    return -log_loss(y_dev, lg.predict_proba(X_dev))"
   ]
  },
  {
   "cell_type": "code",
   "execution_count": 5,
   "metadata": {},
   "outputs": [],
   "source": [
    "def score_one_test_day(X_train, y_train, test_day, param):\n",
    "    X_train, y_train, X_dev, y_dev = train_test_split(X_train, y_train, test_day)\n",
    "    # the DataFrame needs the hour column for splitting. Drop the column right before training.\n",
    "    X_train = X_train.drop('hour', axis=1)\n",
    "    X_dev = X_dev.drop('hour', axis=1)\n",
    "    \n",
    "    X_train, oh_encoder = fit_transform_train(X_train, site_category_encoder, app_category_encoder)\n",
    "    lg = LogisticRegression(C=param)\n",
    "    lg.fit(X_train, y_train)\n",
    "    X_dev = transform_dev(X_dev, site_category_encoder, app_category_encoder, oh_encoder)\n",
    "    # TODO: use log-loss\n",
    "    return neg_log_loss_score(lg, X_dev, y_dev)\n",
    "\n",
    "def score_one_param(X_train, y_train, param):\n",
    "    \n",
    "    test_day_ls = [25, 26,27,28,29] # 30 goes to the test set\n",
    "    scores = []\n",
    "\n",
    "    for test_day in test_day_ls:\n",
    "        scores.append(score_one_test_day(X_train, y_train, test_day, param))\n",
    "\n",
    "    assert len(scores) == len(test_day_ls)\n",
    "\n",
    "    #print('Scores:', scores)\n",
    "    mean_score = sum(scores)/len(scores)\n",
    "    #print('Mean: ', mean_score)\n",
    "    return mean_score\n",
    "    \n",
    "def score_params(X_train, y_train, param_ls):\n",
    "    \"\"\"\n",
    "    Returns a map: parameter -> mean score.\n",
    "    \"\"\"\n",
    "    result = dict()\n",
    "    for p in param_ls:\n",
    "        result[p] = score_one_param(X_train, y_train, p)\n",
    "    return result\n",
    "\n",
    "def best_param(score_dict):\n",
    "    return max(score_dict.items(), key=operator.itemgetter(1))[0]"
   ]
  },
  {
   "cell_type": "code",
   "execution_count": 6,
   "metadata": {},
   "outputs": [],
   "source": [
    "model1_cols = ['C1',\n",
    "                 'banner_pos',\n",
    "                 'site_category',\n",
    "                 'app_category',\n",
    "                 'device_type',\n",
    "                 'device_conn_type',\n",
    "                 'C15',\n",
    "                 'C16',\n",
    "                 'C18',\n",
    "                 'C19',\n",
    "                 'C21']\n",
    "\n",
    "model1_df = df[model1_cols + ['hour']]\n",
    "X_train, y_train, X_test, y_test = train_test_split(model1_df, df.click, 30)"
   ]
  },
  {
   "cell_type": "code",
   "execution_count": 7,
   "metadata": {},
   "outputs": [
    {
     "data": {
      "text/plain": [
       "array([1.e-04, 1.e-03, 1.e-02, 1.e-01, 1.e+00])"
      ]
     },
     "execution_count": 7,
     "metadata": {},
     "output_type": "execute_result"
    }
   ],
   "source": [
    "\n",
    "#params = [0.001]\n",
    "#K = 4\n",
    "#params = np.logspace(-K, K, num=K*2+1)\n",
    "params = np.logspace(-4, 0, 5)\n",
    "params"
   ]
  },
  {
   "cell_type": "markdown",
   "metadata": {},
   "source": [
    "### Model Stats\n",
    "- 01m55s to train 'small' for 2 parameters.\n",
    "- 03m11s to train 'small' for 5 parameters.\n",
    "- {0.0001: -0.43356715906855536,\n",
    "  0.001: -0.42629521272437554,\n",
    "  0.01: -0.4242657276526611,\n",
    "  0.1: -0.42427721774829286,\n",
    "  1.0: -0.4245292557309675,\n",
    "  10.0: -0.4246627635916426,\n",
    "  100.0: -0.42472018597787536,\n",
    "  1000.0: -0.42473047099609146,\n",
    "  10000.0: -0.4247623788457422}"
   ]
  },
  {
   "cell_type": "code",
   "execution_count": 8,
   "metadata": {},
   "outputs": [
    {
     "name": "stdout",
     "output_type": "stream",
     "text": [
      "CPU times: user 3min 7s, sys: 3.71 s, total: 3min 10s\n",
      "Wall time: 3min 11s\n"
     ]
    }
   ],
   "source": [
    "%%time\n",
    "scores = score_params(X_train, y_train, params)\n",
    "best_C = best_param(scores)"
   ]
  },
  {
   "cell_type": "code",
   "execution_count": 9,
   "metadata": {},
   "outputs": [
    {
     "data": {
      "text/plain": [
       "(0.01,\n",
       " {0.0001: -0.43356715906855536,\n",
       "  0.001: -0.42629521272437554,\n",
       "  0.01: -0.4242657276526611,\n",
       "  0.1: -0.42427721774829286,\n",
       "  1.0: -0.4245292557309675})"
      ]
     },
     "execution_count": 9,
     "metadata": {},
     "output_type": "execute_result"
    }
   ],
   "source": [
    "best_C, scores"
   ]
  },
  {
   "cell_type": "code",
   "execution_count": 10,
   "metadata": {},
   "outputs": [
    {
     "name": "stdout",
     "output_type": "stream",
     "text": [
      "CPU times: user 10.4 s, sys: 156 ms, total: 10.6 s\n",
      "Wall time: 10.6 s\n"
     ]
    }
   ],
   "source": [
    "%%time\n",
    "# this cell is very similar to score_one_test_day.\n",
    "X_train = X_train.drop('hour', axis=1)\n",
    "X_test = X_test.drop('hour', axis=1)\n",
    "X_train, oh_encoder = fit_transform_train(X_train, site_category_encoder, app_category_encoder)\n",
    "lg = LogisticRegression(C=best_C)\n",
    "lg.fit(X_train, y_train)\n",
    "X_test = transform_dev(X_test, site_category_encoder, app_category_encoder, oh_encoder)"
   ]
  },
  {
   "cell_type": "code",
   "execution_count": 11,
   "metadata": {},
   "outputs": [
    {
     "data": {
      "text/plain": [
       "-0.42472333212391294"
      ]
     },
     "execution_count": 11,
     "metadata": {},
     "output_type": "execute_result"
    }
   ],
   "source": [
    "neg_log_loss_score(lg, X_test, y_test)"
   ]
  },
  {
   "cell_type": "code",
   "execution_count": 12,
   "metadata": {},
   "outputs": [
    {
     "ename": "RuntimeError",
     "evalue": "No active exception to reraise",
     "output_type": "error",
     "traceback": [
      "\u001b[0;31m---------------------------------------------------------------------------\u001b[0m",
      "\u001b[0;31mRuntimeError\u001b[0m                              Traceback (most recent call last)",
      "\u001b[0;32m<ipython-input-12-9c9a2cba73bf>\u001b[0m in \u001b[0;36m<module>\u001b[0;34m()\u001b[0m\n\u001b[0;32m----> 1\u001b[0;31m \u001b[0;32mraise\u001b[0m\u001b[0;34m\u001b[0m\u001b[0m\n\u001b[0m",
      "\u001b[0;31mRuntimeError\u001b[0m: No active exception to reraise"
     ]
    }
   ],
   "source": [
    "raise"
   ]
  },
  {
   "cell_type": "markdown",
   "metadata": {},
   "source": [
    "## Model 1 (baseline)"
   ]
  },
  {
   "cell_type": "code",
   "execution_count": null,
   "metadata": {},
   "outputs": [],
   "source": [
    "# create a map: colName -> index\n",
    "def build_colname_idx(df):\n",
    "    return dict(zip(df.columns, range(len(df.columns))))\n",
    "\n",
    "model1_cols = ['C1',\n",
    "             'banner_pos',\n",
    "             'site_category',\n",
    "             'app_category',\n",
    "             'device_type',\n",
    "             'device_conn_type',\n",
    "             'C15',\n",
    "             'C16',\n",
    "             'C18',\n",
    "             'C19',\n",
    "             'C21']\n",
    "\n",
    "str_cols = ['site_category', 'app_category']"
   ]
  },
  {
   "cell_type": "code",
   "execution_count": null,
   "metadata": {},
   "outputs": [],
   "source": [
    "df = pd.read_csv('data/train_tiny.csv')\n",
    "df.hour = pd.to_datetime(df.hour, format=\"%y%m%d%H\")"
   ]
  },
  {
   "cell_type": "code",
   "execution_count": null,
   "metadata": {},
   "outputs": [],
   "source": [
    "def fit_encoders(df):\n",
    "    site_category_encoder = LabelEncoder()\n",
    "    site_category_encoder.fit(df.site_category)\n",
    "    app_category_encoder = LabelEncoder()\n",
    "    app_category_encoder.fit(df.app_category)\n",
    "    return site_category_encoder, app_category_encoder"
   ]
  },
  {
   "cell_type": "code",
   "execution_count": null,
   "metadata": {},
   "outputs": [],
   "source": [
    "# LabelEncoder doesn't handle unknown values, so fit them to the entire dataset.\n",
    "site_category_encoder, app_category_encoder = fit_encoders(df)"
   ]
  },
  {
   "cell_type": "code",
   "execution_count": null,
   "metadata": {},
   "outputs": [],
   "source": [
    "def train_dev_test_split(df):\n",
    "    last_day = 30\n",
    "    last_day_mask = df.hour.dt.day == last_day\n",
    "    df_test = df[last_day_mask]\n",
    "    df_test = df_test[model1_cols + ['click']]\n",
    "    df_dev, df_test = train_test_split(df_test, test_size=0.5, random_state=23)\n",
    "    df_train = df[~last_day_mask]\n",
    "    df_train = df_train[model1_cols + ['click']]\n",
    "    X_train = df_train.drop('click', axis=1)\n",
    "    y_train = df_train.click\n",
    "    X_dev = df_dev.drop('click', axis=1)\n",
    "    y_dev = df_dev.click\n",
    "    X_test = df_test.drop('click', axis=1)\n",
    "    y_test = df_test.click\n",
    "    return X_train, y_train, X_dev, y_dev, X_test, y_test"
   ]
  },
  {
   "cell_type": "code",
   "execution_count": null,
   "metadata": {},
   "outputs": [],
   "source": [
    "# train/dev/test split\n",
    "X_train, y_train, X_dev, y_dev, X_test, y_test = train_dev_test_split(df)"
   ]
  },
  {
   "cell_type": "code",
   "execution_count": null,
   "metadata": {},
   "outputs": [],
   "source": [
    "def fit_transform_train(X_train, site_category_encoder, app_category_encoder):\n",
    "    X_train.site_category = site_category_encoder.transform(X_train.site_category)\n",
    "    X_train.app_category = app_category_encoder.transform(X_train.app_category)\n",
    "    X_train = X_train.values\n",
    "    # when transforming, an unknown categorical feature is mapped to a zero vector\n",
    "    oh_encoder = OneHotEncoder(handle_unknown='ignore')\n",
    "    X_train = oh_encoder.fit_transform(X_train)\n",
    "    return X_train, oh_encoder"
   ]
  },
  {
   "cell_type": "code",
   "execution_count": null,
   "metadata": {
    "scrolled": true
   },
   "outputs": [],
   "source": [
    "train_colname_idx = build_colname_idx(X_train)\n",
    "train_colname_idx"
   ]
  },
  {
   "cell_type": "code",
   "execution_count": null,
   "metadata": {},
   "outputs": [],
   "source": [
    "# prepare the train set\n",
    "X_train, oh_encoder = fit_transform_train(X_train, site_category_encoder, app_category_encoder)"
   ]
  },
  {
   "cell_type": "code",
   "execution_count": null,
   "metadata": {},
   "outputs": [],
   "source": [
    "# tune: C. Maybe use class_weight. Try different solvers.\n",
    "# Can be parallelized if multi-class.\n",
    "lg = LogisticRegression()\n",
    "lg.fit(X_train, y_train)"
   ]
  },
  {
   "cell_type": "code",
   "execution_count": null,
   "metadata": {},
   "outputs": [],
   "source": [
    "def transform_dev(X_dev, site_category_encoder, app_category_encoder, oh_encoder):\n",
    "    X_dev.site_category = site_category_encoder.transform(X_dev.site_category)\n",
    "    X_dev.app_category = app_category_encoder.transform(X_dev.app_category)\n",
    "    X_dev = oh_encoder.transform(X_dev)\n",
    "    return X_dev"
   ]
  },
  {
   "cell_type": "code",
   "execution_count": null,
   "metadata": {},
   "outputs": [],
   "source": [
    "# prepare the dev set\n",
    "X_dev = transform_dev(X_dev, site_category_encoder, app_category_encoder, oh_encoder)"
   ]
  },
  {
   "cell_type": "code",
   "execution_count": null,
   "metadata": {},
   "outputs": [],
   "source": [
    "lg.score(X_dev, y_dev)"
   ]
  },
  {
   "cell_type": "code",
   "execution_count": null,
   "metadata": {},
   "outputs": [],
   "source": []
  }
 ],
 "metadata": {
  "kernelspec": {
   "display_name": "Python 3",
   "language": "python",
   "name": "python3"
  },
  "language_info": {
   "codemirror_mode": {
    "name": "ipython",
    "version": 3
   },
   "file_extension": ".py",
   "mimetype": "text/x-python",
   "name": "python",
   "nbconvert_exporter": "python",
   "pygments_lexer": "ipython3",
   "version": "3.6.6"
  }
 },
 "nbformat": 4,
 "nbformat_minor": 2
}
