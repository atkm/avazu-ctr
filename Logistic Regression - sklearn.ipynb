{
 "cells": [
  {
   "cell_type": "markdown",
   "metadata": {},
   "source": [
    "Cross-validation for a time series data:\n",
    "for k in range(2, 10):\n",
    "    Train on 1-k^th day, test on (k+1)^th.\n"
   ]
  },
  {
   "cell_type": "code",
   "execution_count": 1,
   "metadata": {},
   "outputs": [],
   "source": [
    "import pandas as pd\n",
    "import numpy as np\n",
    "from sklearn.preprocessing import LabelEncoder, OneHotEncoder\n",
    "from sklearn.pipeline import Pipeline\n",
    "from sklearn.model_selection import train_test_split\n",
    "from sklearn.metrics import log_loss\n",
    "from sklearn.linear_model import LogisticRegression"
   ]
  },
  {
   "cell_type": "markdown",
   "metadata": {},
   "source": [
    "## Develop cross validation"
   ]
  },
  {
   "cell_type": "code",
   "execution_count": 15,
   "metadata": {},
   "outputs": [],
   "source": [
    "df = pd.read_csv('data/train_tiny.csv')\n",
    "df.hour = pd.to_datetime(df.hour, format=\"%y%m%d%H\")"
   ]
  },
  {
   "cell_type": "code",
   "execution_count": null,
   "metadata": {},
   "outputs": [],
   "source": []
  },
  {
   "cell_type": "code",
   "execution_count": null,
   "metadata": {},
   "outputs": [],
   "source": []
  },
  {
   "cell_type": "code",
   "execution_count": null,
   "metadata": {},
   "outputs": [],
   "source": []
  },
  {
   "cell_type": "markdown",
   "metadata": {},
   "source": [
    "## Model 1 (baseline)"
   ]
  },
  {
   "cell_type": "code",
   "execution_count": 2,
   "metadata": {},
   "outputs": [],
   "source": [
    "# create a map: colName -> index\n",
    "def build_colname_idx(df):\n",
    "    return dict(zip(df.columns, range(len(df.columns))))\n",
    "\n",
    "model1_cols = ['click',\n",
    "               'C1',\n",
    "             'banner_pos',\n",
    "             'site_category',\n",
    "             'app_category',\n",
    "             'device_type',\n",
    "             'device_conn_type',\n",
    "             'C15',\n",
    "             'C16',\n",
    "             'C18',\n",
    "             'C19',\n",
    "             'C21']\n",
    "\n",
    "str_cols = ['site_category', 'app_category']"
   ]
  },
  {
   "cell_type": "code",
   "execution_count": 3,
   "metadata": {},
   "outputs": [],
   "source": [
    "df = pd.read_csv('data/train_tiny.csv')\n",
    "df.hour = pd.to_datetime(df.hour, format=\"%y%m%d%H\")"
   ]
  },
  {
   "cell_type": "code",
   "execution_count": 4,
   "metadata": {},
   "outputs": [],
   "source": [
    "def fit_encoders(df):\n",
    "    site_category_encoder = LabelEncoder()\n",
    "    site_category_encoder.fit(df.site_category)\n",
    "    app_category_encoder = LabelEncoder()\n",
    "    app_category_encoder.fit(df.app_category)\n",
    "    return site_category_encoder, app_category_encoder"
   ]
  },
  {
   "cell_type": "code",
   "execution_count": 5,
   "metadata": {},
   "outputs": [],
   "source": [
    "# LabelEncoder doesn't handle unknown values, so fit them to the entire dataset.\n",
    "site_category_encoder, app_category_encoder = fit_encoders(df)"
   ]
  },
  {
   "cell_type": "code",
   "execution_count": 6,
   "metadata": {},
   "outputs": [],
   "source": [
    "def train_dev_test_split(df):\n",
    "    last_day = 30\n",
    "    last_day_mask = df.hour.dt.day == last_day\n",
    "    df_test = df[last_day_mask]\n",
    "    df_test = df_test[model1_cols]\n",
    "    df_dev, df_test = train_test_split(df_test, test_size=0.5, random_state=23)\n",
    "    df_train = df[~last_day_mask]\n",
    "    df_train = df_train[model1_cols]\n",
    "    X_train = df_train.drop('click', axis=1)\n",
    "    y_train = df_train.click\n",
    "    X_dev = df_dev.drop('click', axis=1)\n",
    "    y_dev = df_dev.click\n",
    "    X_test = df_test.drop('click', axis=1)\n",
    "    y_test = df_test.click\n",
    "    return X_train, y_train, X_dev, y_dev, X_test, y_test"
   ]
  },
  {
   "cell_type": "code",
   "execution_count": 7,
   "metadata": {},
   "outputs": [],
   "source": [
    "# train/dev/test split\n",
    "X_train, y_train, X_dev, y_dev, X_test, y_test = train_dev_test_split(df)"
   ]
  },
  {
   "cell_type": "code",
   "execution_count": 8,
   "metadata": {},
   "outputs": [],
   "source": [
    "def fit_transform_train(X_train, site_category_encoder, app_category_encoder):\n",
    "    X_train.site_category = site_category_encoder.transform(X_train.site_category)\n",
    "    X_train.app_category = app_category_encoder.transform(X_train.app_category)\n",
    "    X_train = X_train.values\n",
    "    # when transforming, an unknown categorical feature is mapped to a zero vector\n",
    "    oh_encoder = OneHotEncoder(handle_unknown='ignore')\n",
    "    X_train = oh_encoder.fit_transform(X_train)\n",
    "    return X_train, oh_encoder"
   ]
  },
  {
   "cell_type": "code",
   "execution_count": 9,
   "metadata": {
    "scrolled": true
   },
   "outputs": [
    {
     "data": {
      "text/plain": [
       "{'C1': 0,\n",
       " 'banner_pos': 1,\n",
       " 'site_category': 2,\n",
       " 'app_category': 3,\n",
       " 'device_type': 4,\n",
       " 'device_conn_type': 5,\n",
       " 'C15': 6,\n",
       " 'C16': 7,\n",
       " 'C18': 8,\n",
       " 'C19': 9,\n",
       " 'C21': 10}"
      ]
     },
     "execution_count": 9,
     "metadata": {},
     "output_type": "execute_result"
    }
   ],
   "source": [
    "train_colname_idx = build_colname_idx(X_train)\n",
    "train_colname_idx"
   ]
  },
  {
   "cell_type": "code",
   "execution_count": 10,
   "metadata": {},
   "outputs": [],
   "source": [
    "# prepare the train set\n",
    "X_train, oh_encoder = fit_transform_train(X_train, site_category_encoder, app_category_encoder)"
   ]
  },
  {
   "cell_type": "code",
   "execution_count": 11,
   "metadata": {},
   "outputs": [
    {
     "data": {
      "text/plain": [
       "LogisticRegression(C=1.0, class_weight=None, dual=False, fit_intercept=True,\n",
       "          intercept_scaling=1, max_iter=100, multi_class='ovr', n_jobs=1,\n",
       "          penalty='l2', random_state=None, solver='liblinear', tol=0.0001,\n",
       "          verbose=0, warm_start=False)"
      ]
     },
     "execution_count": 11,
     "metadata": {},
     "output_type": "execute_result"
    }
   ],
   "source": [
    "# tune: C. Maybe use class_weight. Try different solvers.\n",
    "# Can be parallelized if multi-class.\n",
    "lg = LogisticRegression()\n",
    "lg.fit(X_train, y_train)"
   ]
  },
  {
   "cell_type": "code",
   "execution_count": 12,
   "metadata": {},
   "outputs": [],
   "source": [
    "def transform_dev(X_dev, site_category_encoder, app_category_encoder, oh_encoder):\n",
    "    X_dev.site_category = site_category_encoder.transform(X_dev.site_category)\n",
    "    X_dev.app_category = app_category_encoder.transform(X_dev.app_category)\n",
    "    X_dev = oh_encoder.transform(X_dev)\n",
    "    return X_dev"
   ]
  },
  {
   "cell_type": "code",
   "execution_count": 13,
   "metadata": {},
   "outputs": [],
   "source": [
    "# prepare the dev set\n",
    "X_dev = transform_dev(X_dev, site_category_encoder, app_category_encoder, oh_encoder)"
   ]
  },
  {
   "cell_type": "code",
   "execution_count": 14,
   "metadata": {},
   "outputs": [
    {
     "data": {
      "text/plain": [
       "0.7547169811320755"
      ]
     },
     "execution_count": 14,
     "metadata": {},
     "output_type": "execute_result"
    }
   ],
   "source": [
    "lg.score(X_dev, y_dev)"
   ]
  },
  {
   "cell_type": "code",
   "execution_count": null,
   "metadata": {},
   "outputs": [],
   "source": []
  }
 ],
 "metadata": {
  "kernelspec": {
   "display_name": "Python 3",
   "language": "python",
   "name": "python3"
  },
  "language_info": {
   "codemirror_mode": {
    "name": "ipython",
    "version": 3
   },
   "file_extension": ".py",
   "mimetype": "text/x-python",
   "name": "python",
   "nbconvert_exporter": "python",
   "pygments_lexer": "ipython3",
   "version": "3.6.6"
  }
 },
 "nbformat": 4,
 "nbformat_minor": 2
}
